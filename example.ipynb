{
 "cells": [
  {
   "attachments": {},
   "cell_type": "markdown",
   "metadata": {},
   "source": [
    "# Diffusion of three components\n"
   ]
  },
  {
   "attachments": {},
   "cell_type": "markdown",
   "metadata": {},
   "source": [
    "First the import"
   ]
  },
  {
   "cell_type": "code",
   "execution_count": 1,
   "metadata": {},
   "outputs": [],
   "source": [
    "import numpy as np\n",
    "from Stefan_Maxwell_segmental import Diffusion_MS"
   ]
  },
  {
   "cell_type": "code",
   "execution_count": 2,
   "metadata": {},
   "outputs": [
    {
     "name": "stdout",
     "output_type": "stream",
     "text": [
      "------------- Diffusion modeling took 0.2643416 seconds ----------------\n"
     ]
    },
    {
     "data": {
      "image/png": "[encoded data removed]",
      "text/plain": [
       "<Figure size 432x288 with 1 Axes>"
      ]
     },
     "metadata": {
      "needs_background": "light"
     },
     "output_type": "display_data"
    }
   ],
   "source": [
    "nt=100\n",
    "t=np.linspace(0,100,nt)*60\n",
    "nc=3\n",
    "nd=(nc-1)*nc//2 \n",
    "Dvec=np.asarray([1E-13,1E-13,1E-13])\n",
    "#np.fill_diagonal(D,np.ones(nc)*1E-30)\n",
    "L=1E-5\n",
    "DL=0.6\n",
    "w20=0.2\n",
    "w28=0.3\n",
    "w10=(1-DL)*(1-w20)\n",
    "w30=(DL)*(1-w20)\n",
    "w18=(1-DL)*(1-w28)\n",
    "w38=(DL)*(1-w28)\n",
    "wi0=np.asarray([w10,w20,w30])\n",
    "wi8=np.asarray([w18,w28,w38])\n",
    "Mi=np.asarray([25700,18.015,357.787])\n",
    "volatile=np.asarray([False,True,False])\n",
    "wt=Diffusion_MS(t,L,Dvec,wi0,wi8,Mi,volatile)\n",
    "import matplotlib.pyplot as plt\n",
    "fig,ax=plt.subplots()\n",
    "ax.plot(t/60,wt[0,:])\n",
    "ax.plot(t/60,wt[1,:])\n",
    "ax.plot(t/60,wt[2,:])\n",
    "ax.set_xlabel(\"t/min\")\n",
    "ax.set_ylabel(\"wi/-\")\n",
    "ax.legend([\"w1\",\"w2\",\"w3\"])\n",
    "plt.show()\n"
   ]
  }
 ],
 "metadata": {
  "kernelspec": {
   "display_name": "Python 3",
   "language": "python",
   "name": "python3"
  },
  "language_info": {
   "codemirror_mode": {
    "name": "ipython",
    "version": 3
   },
   "file_extension": ".py",
   "mimetype": "text/x-python",
   "name": "python",
   "nbconvert_exporter": "python",
   "pygments_lexer": "ipython3",
   "version": "3.9.13"
  },
  "orig_nbformat": 4,
  "vscode": {
   "interpreter": {
    "hash": "155058e36bf5ed4f47d0ce54cf51e48fed84b2ca3ed25a64d8425315b88e4e7c"
   }
  }
 },
 "nbformat": 4,
 "nbformat_minor": 2
}
