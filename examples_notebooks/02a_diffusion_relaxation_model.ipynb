{
 "cells": [
  {
   "attachments": {},
   "cell_type": "markdown",
   "metadata": {},
   "source": [
    "# Generalized diffusion-relaxation model\n",
    "Diffusionpy provides interfaces to consider relaxation phenomena during diffusion as it is often observed from diffusion in polymers.\n",
    "This jupyter Noteboook reproduces the simulation results presented in the publication from Borrmann et al. (https://pubs.acs.org/doi/10.1021/acs.iecr.1c02359).\n",
    "First, we import the relevant packages."
   ]
  },
  {
   "cell_type": "code",
   "execution_count": null,
   "metadata": {},
   "outputs": [],
   "source": [
    "import numpy as np\n",
    "from diffusionpy import Diffusion_MS\n",
    "import matplotlib.pyplot as plt"
   ]
  },
  {
   "attachments": {},
   "cell_type": "markdown",
   "metadata": {},
   "source": [
    "Next, we define the standard inputs for modeling with diffusionpy (see the basics notebook)."
   ]
  },
  {
   "cell_type": "code",
   "execution_count": null,
   "metadata": {},
   "outputs": [],
   "source": [
    "nt=500\n",
    "t=np.linspace(0.,4000.*60.,nt)\n",
    "Mi=np.asarray([18.015,65000])\n",
    "mobile=np.asarray([True,False])\n",
    "Dvec=np.asarray([5E-14])\n",
    "wi0=np.asarray([1E-3,1-1E-3])\n",
    "wi8=np.asarray([0.1,0.9])\n",
    "L=1E-5\n"
   ]
  },
  {
   "attachments": {},
   "cell_type": "markdown",
   "metadata": {},
   "source": [
    "It was assumed that the activity of the solvent changes linearly with the solvent concentration between starting and equillibrium cocnentration. Thus, the thermodynamic factor is approximated as a constants "
   ]
  },
  {
   "cell_type": "code",
   "execution_count": null,
   "metadata": {},
   "outputs": [],
   "source": [
    "a10=np.asarray([0.001])\n",
    "a18=np.asarray([0.25])\n",
    "dlna1_dlnw1=(np.log(a10)-np.log(a18))/(np.log(wi0[0])-np.log(wi8[0]))\n",
    "dlnai_dlnwi=np.asarray([[[dlna1_dlnw1[0],0.],[0.,1.]]]*len(t))"
   ]
  },
  {
   "attachments": {},
   "cell_type": "markdown",
   "metadata": {},
   "source": [
    "We model the first parameter study provided in the example in Figure 1 by Borrmann et al.. This serves as a reference showing the diffusion modeling without relaxation."
   ]
  },
  {
   "cell_type": "code",
   "execution_count": null,
   "metadata": {},
   "outputs": [],
   "source": [
    "wt=Diffusion_MS(t,L,Dvec,wi0,wi8,Mi,mobile,dlnai_dlnwi=dlnai_dlnwi)\n",
    "\n",
    "\n",
    "font = {'weight' : 'normal',\n",
    "        'size'   : 12}\n",
    "plt.rc('font', **font)\n",
    "\n",
    "# color= [\"#99CC00\",\"#F08208\",\"#99CDE9\",\"#FFC0CB\"]\n",
    "color= [\"#000000\",\"#000000\",\"#000000\",\"#000000\",\"#000000\"]\n",
    "label = [\"Fickian(A)\",\"Sigmoidal(B)\",\"Two-Stage(C)\",\"pseudo Fickian(D)\",\"Hookean(E)\"]\n",
    "lines=[':','-','-.','--','-']\n",
    "position=[nt//8,3,nt//8,nt//8,-30]\n",
    "\n",
    "fig, ax = plt.subplots(figsize=(5, 4), dpi = 200)\n",
    "fig.subplots_adjust(hspace=0.5, wspace=0.3)\n",
    "\n",
    "ax.set_xlabel('$t^{0.5}$ / $s^{0.5}$')\n",
    "ax.set_ylabel('$wi$ / -')\n",
    "\n",
    "\n",
    "ax.plot((t/60)**(1/2),wt[:,0], lines[0],color = color[0] , linewidth = 2.0,label=label[0])\n",
    "ax.text((t[position[0]]/60)**(1/2), wt[position[0],0], label[0])"
   ]
  },
  {
   "attachments": {},
   "cell_type": "markdown",
   "metadata": {},
   "source": [
    "Next, we define the  the inputs for describinmg the relaxation. Relaxation is considered by modeling the generalized Maxwell mode. The user provides arrays of the E moduli and damper constants of the Maxwell elemts in the arrangement. here, define a single Maxwell element. The parameters for the diffusion relaxation m,odel are provided as additional keyword arguments"
   ]
  },
  {
   "cell_type": "code",
   "execution_count": null,
   "metadata": {},
   "outputs": [],
   "source": [
    "EJ=np.asarray([1E10])\n",
    "etaJ=np.asarray([1E9])\n",
    "exponent=np.asarray([0.])\n",
    "rho0i=np.asarray([997.,1180])\n",
    "etavec=np.asarray([1E9,1E12,1E14,1E16,1E18])\n",
    "for i,etaJ in enumerate(etavec):\n",
    "    wt,_=Diffusion_MS(t,L,Dvec,wi0,wi8,Mi,mobile,dlnai_dlnwi=dlnai_dlnwi,EJ=EJ,etaJ=etaJ,exponent=exponent,rho0i=rho0i)\n",
    "    ax.plot((t/60)**(1/2),wt[:,0], lines[i],color = color[i] , linewidth = 2.0,label=label[i])\n",
    "    ax.text((t[position[i]]/60)**(1/2), wt[position[i],0], label[i])\n",
    "fig"
   ]
  }
 ],
 "metadata": {
  "kernelspec": {
   "display_name": "Python 3",
   "language": "python",
   "name": "python3"
  },
  "language_info": {
   "codemirror_mode": {
    "name": "ipython",
    "version": 3
   },
   "file_extension": ".py",
   "mimetype": "text/x-python",
   "name": "python",
   "nbconvert_exporter": "python",
   "pygments_lexer": "ipython3",
   "version": "3.11.4"
  },
  "orig_nbformat": 4
 },
 "nbformat": 4,
 "nbformat_minor": 2
}
