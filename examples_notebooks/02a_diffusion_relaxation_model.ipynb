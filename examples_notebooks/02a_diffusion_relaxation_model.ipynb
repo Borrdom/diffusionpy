{
 "cells": [
  {
   "attachments": {},
   "cell_type": "markdown",
   "metadata": {},
   "source": [
    "# Generalized diffusion-relaxation model\n",
    "Diffusionpy provides interfaces to consider relaxation phenomena during diffusion as it is often observed from diffusion in polymers.\n",
    "This jupyter Noteboook reproduces the simulation results presented in the publication from Borrmann et al. (https://pubs.acs.org/doi/10.1021/acs.iecr.1c02359).\n",
    "First, we import the relevant packages."
   ]
  },
  {
   "cell_type": "code",
   "execution_count": 1,
   "metadata": {},
   "outputs": [],
   "source": [
    "import numpy as np\n",
    "from diffusionpy import Diffusion_MS\n",
    "import matplotlib.pyplot as plt"
   ]
  },
  {
   "attachments": {},
   "cell_type": "markdown",
   "metadata": {},
   "source": [
    "Next, we define the standard inputs for modeling with diffusionpy (see the basics notebook)."
   ]
  },
  {
   "cell_type": "code",
   "execution_count": null,
   "metadata": {},
   "outputs": [],
   "source": [
    "nt=500\n",
    "t=np.linspace(0.,4000.*60.,nt)\n",
    "Mi=np.asarray([18.015,65000])\n",
    "mobile=np.asarray([True,False])\n",
    "Dvec=np.asarray([5E-14])\n",
    "wi0=np.asarray([1E-3,1-1E-3])\n",
    "wi8=np.asarray([0.1,0.9])\n",
    "L=1E-5\n"
   ]
  },
  {
   "attachments": {},
   "cell_type": "markdown",
   "metadata": {},
   "source": [
    "It was assumed that the activity of the solvent changes linearly with the solvent concentration between starting and equillibrium cocnentration. Thus, the thermodynamic factor is approximated as a constants "
   ]
  },
  {
   "cell_type": "code",
   "execution_count": null,
   "metadata": {},
   "outputs": [],
   "source": [
    "a10=np.asarray([0.001])\n",
    "a18=np.asarray([0.25])\n",
    "dlna1_dlnw1=(np.log(a10)-np.log(a18))/(np.log(wi0[0])-np.log(wi8[0]))\n",
    "dlnai_dlnwi=np.asarray([[[dlna1_dlnw1[0],0.],[0.,1.]]]*len(t))"
   ]
  },
  {
   "attachments": {},
   "cell_type": "markdown",
   "metadata": {},
   "source": [
    "We model the first parameter study provided in the example in Figure 1 by Borrmann et al.. This serves as a reference showing the diffusion modeling without relaxation."
   ]
  },
  {
   "cell_type": "code",
   "execution_count": null,
   "metadata": {},
   "outputs": [
    {
     "name": "stdout",
     "output_type": "stream",
     "text": [
      "------------- Initialization and postprocessing ----------------\n"
     ]
    },
    {
     "ename": "KeyboardInterrupt",
     "evalue": "",
     "output_type": "error",
     "traceback": [
      "\u001b[1;31m---------------------------------------------------------------------------\u001b[0m",
      "\u001b[1;31mKeyboardInterrupt\u001b[0m                         Traceback (most recent call last)",
      "\u001b[1;32mc:\\GitHub_Projects\\diffusionpy\\examples_notebooks\\02a_diffusion_relaxation_model.ipynb Cell 8\u001b[0m line \u001b[0;36m1\n\u001b[1;32m----> <a href='vscode-notebook-cell:/c%3A/GitHub_Projects/diffusionpy/examples_notebooks/02a_diffusion_relaxation_model.ipynb#X10sZmlsZQ%3D%3D?line=0'>1</a>\u001b[0m wt\u001b[39m=\u001b[39mDiffusion_MS(t,L,Dvec,wi0,wi8,Mi,mobile,dlnai_dlnwi\u001b[39m=\u001b[39;49mdlnai_dlnwi)\n\u001b[0;32m      <a href='vscode-notebook-cell:/c%3A/GitHub_Projects/diffusionpy/examples_notebooks/02a_diffusion_relaxation_model.ipynb#X10sZmlsZQ%3D%3D?line=3'>4</a>\u001b[0m font \u001b[39m=\u001b[39m {\u001b[39m'\u001b[39m\u001b[39mweight\u001b[39m\u001b[39m'\u001b[39m : \u001b[39m'\u001b[39m\u001b[39mnormal\u001b[39m\u001b[39m'\u001b[39m,\n\u001b[0;32m      <a href='vscode-notebook-cell:/c%3A/GitHub_Projects/diffusionpy/examples_notebooks/02a_diffusion_relaxation_model.ipynb#X10sZmlsZQ%3D%3D?line=4'>5</a>\u001b[0m         \u001b[39m'\u001b[39m\u001b[39msize\u001b[39m\u001b[39m'\u001b[39m   : \u001b[39m12\u001b[39m}\n\u001b[0;32m      <a href='vscode-notebook-cell:/c%3A/GitHub_Projects/diffusionpy/examples_notebooks/02a_diffusion_relaxation_model.ipynb#X10sZmlsZQ%3D%3D?line=5'>6</a>\u001b[0m plt\u001b[39m.\u001b[39mrc(\u001b[39m'\u001b[39m\u001b[39mfont\u001b[39m\u001b[39m'\u001b[39m, \u001b[39m*\u001b[39m\u001b[39m*\u001b[39mfont)\n",
      "File \u001b[1;32mC:\\GitHub_Projects\\diffusionpy\\diffusionpy\\Stefan_Maxwell_segmental.py:154\u001b[0m, in \u001b[0;36mDiffusion_MS\u001b[1;34m(tint, L, Dvec, wi0, wi8, Mi, mobile, full_output, dlnai_dlnwi, swelling, **kwargs)\u001b[0m\n\u001b[0;32m    152\u001b[0m return_sigma\u001b[39m=\u001b[39m\u001b[39mFalse\u001b[39;00m\n\u001b[0;32m    153\u001b[0m return_alpha\u001b[39m=\u001b[39m\u001b[39mFalse\u001b[39;00m\n\u001b[1;32m--> 154\u001b[0m \u001b[39m@njit\u001b[39;49m([\u001b[39m'\u001b[39;49m\u001b[39mf8[::1](f8, f8[:],f8[:], f8[:,:,::1,::1], i8[::1], i8[::1], f8[::1], f8[:,:], b1, b1, f8, f8[::1],f8[:,:],f8[:,::1])\u001b[39;49m\u001b[39m'\u001b[39;49m],cache\u001b[39m=\u001b[39;49m\u001b[39mTrue\u001b[39;49;00m)\n\u001b[0;32m    155\u001b[0m \u001b[39mdef\u001b[39;49;00m \u001b[39mode\u001b[39;49m(t,x,tint,THFaktor,mobiles,immobiles,Mi,D,allflux,swelling,rho,wi0,dmuext,wiB):\n\u001b[0;32m    156\u001b[0m \u001b[39m    \u001b[39;49m\u001b[39m\"\"\"create generic ode function for drhodt\"\"\"\u001b[39;49;00m\n\u001b[0;32m    157\u001b[0m     wv\u001b[39m=\u001b[39;49mnp\u001b[39m.\u001b[39;49mreshape(np\u001b[39m.\u001b[39;49mascontiguousarray(x),(nTH,nz\u001b[39m+\u001b[39;49m\u001b[39m1\u001b[39;49m))\n",
      "File \u001b[1;32mc:\\Users\\domin\\AppData\\Local\\Programs\\Python\\Python311\\Lib\\site-packages\\numba\\core\\decorators.py:241\u001b[0m, in \u001b[0;36m_jit.<locals>.wrapper\u001b[1;34m(func)\u001b[0m\n\u001b[0;32m    239\u001b[0m     \u001b[39mwith\u001b[39;00m typeinfer\u001b[39m.\u001b[39mregister_dispatcher(disp):\n\u001b[0;32m    240\u001b[0m         \u001b[39mfor\u001b[39;00m sig \u001b[39min\u001b[39;00m sigs:\n\u001b[1;32m--> 241\u001b[0m             disp\u001b[39m.\u001b[39;49mcompile(sig)\n\u001b[0;32m    242\u001b[0m         disp\u001b[39m.\u001b[39mdisable_compile()\n\u001b[0;32m    243\u001b[0m \u001b[39mreturn\u001b[39;00m disp\n",
      "File \u001b[1;32mc:\\Users\\domin\\AppData\\Local\\Programs\\Python\\Python311\\Lib\\site-packages\\numba\\core\\dispatcher.py:965\u001b[0m, in \u001b[0;36mDispatcher.compile\u001b[1;34m(self, sig)\u001b[0m\n\u001b[0;32m    963\u001b[0m \u001b[39mwith\u001b[39;00m ev\u001b[39m.\u001b[39mtrigger_event(\u001b[39m\"\u001b[39m\u001b[39mnumba:compile\u001b[39m\u001b[39m\"\u001b[39m, data\u001b[39m=\u001b[39mev_details):\n\u001b[0;32m    964\u001b[0m     \u001b[39mtry\u001b[39;00m:\n\u001b[1;32m--> 965\u001b[0m         cres \u001b[39m=\u001b[39m \u001b[39mself\u001b[39;49m\u001b[39m.\u001b[39;49m_compiler\u001b[39m.\u001b[39;49mcompile(args, return_type)\n\u001b[0;32m    966\u001b[0m     \u001b[39mexcept\u001b[39;00m errors\u001b[39m.\u001b[39mForceLiteralArg \u001b[39mas\u001b[39;00m e:\n\u001b[0;32m    967\u001b[0m         \u001b[39mdef\u001b[39;00m \u001b[39mfolded\u001b[39m(args, kws):\n",
      "File \u001b[1;32mc:\\Users\\domin\\AppData\\Local\\Programs\\Python\\Python311\\Lib\\site-packages\\numba\\core\\dispatcher.py:125\u001b[0m, in \u001b[0;36m_FunctionCompiler.compile\u001b[1;34m(self, args, return_type)\u001b[0m\n\u001b[0;32m    124\u001b[0m \u001b[39mdef\u001b[39;00m \u001b[39mcompile\u001b[39m(\u001b[39mself\u001b[39m, args, return_type):\n\u001b[1;32m--> 125\u001b[0m     status, retval \u001b[39m=\u001b[39m \u001b[39mself\u001b[39;49m\u001b[39m.\u001b[39;49m_compile_cached(args, return_type)\n\u001b[0;32m    126\u001b[0m     \u001b[39mif\u001b[39;00m status:\n\u001b[0;32m    127\u001b[0m         \u001b[39mreturn\u001b[39;00m retval\n",
      "File \u001b[1;32mc:\\Users\\domin\\AppData\\Local\\Programs\\Python\\Python311\\Lib\\site-packages\\numba\\core\\dispatcher.py:139\u001b[0m, in \u001b[0;36m_FunctionCompiler._compile_cached\u001b[1;34m(self, args, return_type)\u001b[0m\n\u001b[0;32m    136\u001b[0m     \u001b[39mpass\u001b[39;00m\n\u001b[0;32m    138\u001b[0m \u001b[39mtry\u001b[39;00m:\n\u001b[1;32m--> 139\u001b[0m     retval \u001b[39m=\u001b[39m \u001b[39mself\u001b[39;49m\u001b[39m.\u001b[39;49m_compile_core(args, return_type)\n\u001b[0;32m    140\u001b[0m \u001b[39mexcept\u001b[39;00m errors\u001b[39m.\u001b[39mTypingError \u001b[39mas\u001b[39;00m e:\n\u001b[0;32m    141\u001b[0m     \u001b[39mself\u001b[39m\u001b[39m.\u001b[39m_failed_cache[key] \u001b[39m=\u001b[39m e\n",
      "File \u001b[1;32mc:\\Users\\domin\\AppData\\Local\\Programs\\Python\\Python311\\Lib\\site-packages\\numba\\core\\dispatcher.py:152\u001b[0m, in \u001b[0;36m_FunctionCompiler._compile_core\u001b[1;34m(self, args, return_type)\u001b[0m\n\u001b[0;32m    149\u001b[0m flags \u001b[39m=\u001b[39m \u001b[39mself\u001b[39m\u001b[39m.\u001b[39m_customize_flags(flags)\n\u001b[0;32m    151\u001b[0m impl \u001b[39m=\u001b[39m \u001b[39mself\u001b[39m\u001b[39m.\u001b[39m_get_implementation(args, {})\n\u001b[1;32m--> 152\u001b[0m cres \u001b[39m=\u001b[39m compiler\u001b[39m.\u001b[39;49mcompile_extra(\u001b[39mself\u001b[39;49m\u001b[39m.\u001b[39;49mtargetdescr\u001b[39m.\u001b[39;49mtyping_context,\n\u001b[0;32m    153\u001b[0m                               \u001b[39mself\u001b[39;49m\u001b[39m.\u001b[39;49mtargetdescr\u001b[39m.\u001b[39;49mtarget_context,\n\u001b[0;32m    154\u001b[0m                               impl,\n\u001b[0;32m    155\u001b[0m                               args\u001b[39m=\u001b[39;49margs, return_type\u001b[39m=\u001b[39;49mreturn_type,\n\u001b[0;32m    156\u001b[0m                               flags\u001b[39m=\u001b[39;49mflags, \u001b[39mlocals\u001b[39;49m\u001b[39m=\u001b[39;49m\u001b[39mself\u001b[39;49m\u001b[39m.\u001b[39;49mlocals,\n\u001b[0;32m    157\u001b[0m                               pipeline_class\u001b[39m=\u001b[39;49m\u001b[39mself\u001b[39;49m\u001b[39m.\u001b[39;49mpipeline_class)\n\u001b[0;32m    158\u001b[0m \u001b[39m# Check typing error if object mode is used\u001b[39;00m\n\u001b[0;32m    159\u001b[0m \u001b[39mif\u001b[39;00m cres\u001b[39m.\u001b[39mtyping_error \u001b[39mis\u001b[39;00m \u001b[39mnot\u001b[39;00m \u001b[39mNone\u001b[39;00m \u001b[39mand\u001b[39;00m \u001b[39mnot\u001b[39;00m flags\u001b[39m.\u001b[39menable_pyobject:\n",
      "File \u001b[1;32mc:\\Users\\domin\\AppData\\Local\\Programs\\Python\\Python311\\Lib\\site-packages\\numba\\core\\compiler.py:762\u001b[0m, in \u001b[0;36mcompile_extra\u001b[1;34m(typingctx, targetctx, func, args, return_type, flags, locals, library, pipeline_class)\u001b[0m\n\u001b[0;32m    738\u001b[0m \u001b[39m\u001b[39m\u001b[39m\"\"\"Compiler entry point\u001b[39;00m\n\u001b[0;32m    739\u001b[0m \n\u001b[0;32m    740\u001b[0m \u001b[39mParameter\u001b[39;00m\n\u001b[1;32m   (...)\u001b[0m\n\u001b[0;32m    758\u001b[0m \u001b[39m    compiler pipeline\u001b[39;00m\n\u001b[0;32m    759\u001b[0m \u001b[39m\"\"\"\u001b[39;00m\n\u001b[0;32m    760\u001b[0m pipeline \u001b[39m=\u001b[39m pipeline_class(typingctx, targetctx, library,\n\u001b[0;32m    761\u001b[0m                           args, return_type, flags, \u001b[39mlocals\u001b[39m)\n\u001b[1;32m--> 762\u001b[0m \u001b[39mreturn\u001b[39;00m pipeline\u001b[39m.\u001b[39;49mcompile_extra(func)\n",
      "File \u001b[1;32mc:\\Users\\domin\\AppData\\Local\\Programs\\Python\\Python311\\Lib\\site-packages\\numba\\core\\compiler.py:460\u001b[0m, in \u001b[0;36mCompilerBase.compile_extra\u001b[1;34m(self, func)\u001b[0m\n\u001b[0;32m    458\u001b[0m \u001b[39mself\u001b[39m\u001b[39m.\u001b[39mstate\u001b[39m.\u001b[39mlifted \u001b[39m=\u001b[39m ()\n\u001b[0;32m    459\u001b[0m \u001b[39mself\u001b[39m\u001b[39m.\u001b[39mstate\u001b[39m.\u001b[39mlifted_from \u001b[39m=\u001b[39m \u001b[39mNone\u001b[39;00m\n\u001b[1;32m--> 460\u001b[0m \u001b[39mreturn\u001b[39;00m \u001b[39mself\u001b[39;49m\u001b[39m.\u001b[39;49m_compile_bytecode()\n",
      "File \u001b[1;32mc:\\Users\\domin\\AppData\\Local\\Programs\\Python\\Python311\\Lib\\site-packages\\numba\\core\\compiler.py:528\u001b[0m, in \u001b[0;36mCompilerBase._compile_bytecode\u001b[1;34m(self)\u001b[0m\n\u001b[0;32m    524\u001b[0m \u001b[39m\u001b[39m\u001b[39m\"\"\"\u001b[39;00m\n\u001b[0;32m    525\u001b[0m \u001b[39mPopulate and run pipeline for bytecode input\u001b[39;00m\n\u001b[0;32m    526\u001b[0m \u001b[39m\"\"\"\u001b[39;00m\n\u001b[0;32m    527\u001b[0m \u001b[39massert\u001b[39;00m \u001b[39mself\u001b[39m\u001b[39m.\u001b[39mstate\u001b[39m.\u001b[39mfunc_ir \u001b[39mis\u001b[39;00m \u001b[39mNone\u001b[39;00m\n\u001b[1;32m--> 528\u001b[0m \u001b[39mreturn\u001b[39;00m \u001b[39mself\u001b[39;49m\u001b[39m.\u001b[39;49m_compile_core()\n",
      "File \u001b[1;32mc:\\Users\\domin\\AppData\\Local\\Programs\\Python\\Python311\\Lib\\site-packages\\numba\\core\\compiler.py:494\u001b[0m, in \u001b[0;36mCompilerBase._compile_core\u001b[1;34m(self)\u001b[0m\n\u001b[0;32m    492\u001b[0m res \u001b[39m=\u001b[39m \u001b[39mNone\u001b[39;00m\n\u001b[0;32m    493\u001b[0m \u001b[39mtry\u001b[39;00m:\n\u001b[1;32m--> 494\u001b[0m     pm\u001b[39m.\u001b[39;49mrun(\u001b[39mself\u001b[39;49m\u001b[39m.\u001b[39;49mstate)\n\u001b[0;32m    495\u001b[0m     \u001b[39mif\u001b[39;00m \u001b[39mself\u001b[39m\u001b[39m.\u001b[39mstate\u001b[39m.\u001b[39mcr \u001b[39mis\u001b[39;00m \u001b[39mnot\u001b[39;00m \u001b[39mNone\u001b[39;00m:\n\u001b[0;32m    496\u001b[0m         \u001b[39mbreak\u001b[39;00m\n",
      "File \u001b[1;32mc:\\Users\\domin\\AppData\\Local\\Programs\\Python\\Python311\\Lib\\site-packages\\numba\\core\\compiler_machinery.py:356\u001b[0m, in \u001b[0;36mPassManager.run\u001b[1;34m(self, state)\u001b[0m\n\u001b[0;32m    354\u001b[0m pass_inst \u001b[39m=\u001b[39m _pass_registry\u001b[39m.\u001b[39mget(pss)\u001b[39m.\u001b[39mpass_inst\n\u001b[0;32m    355\u001b[0m \u001b[39mif\u001b[39;00m \u001b[39misinstance\u001b[39m(pass_inst, CompilerPass):\n\u001b[1;32m--> 356\u001b[0m     \u001b[39mself\u001b[39;49m\u001b[39m.\u001b[39;49m_runPass(idx, pass_inst, state)\n\u001b[0;32m    357\u001b[0m \u001b[39melse\u001b[39;00m:\n\u001b[0;32m    358\u001b[0m     \u001b[39mraise\u001b[39;00m \u001b[39mBaseException\u001b[39;00m(\u001b[39m\"\u001b[39m\u001b[39mLegacy pass in use\u001b[39m\u001b[39m\"\u001b[39m)\n",
      "File \u001b[1;32mc:\\Users\\domin\\AppData\\Local\\Programs\\Python\\Python311\\Lib\\site-packages\\numba\\core\\compiler_lock.py:35\u001b[0m, in \u001b[0;36m_CompilerLock.__call__.<locals>._acquire_compile_lock\u001b[1;34m(*args, **kwargs)\u001b[0m\n\u001b[0;32m     32\u001b[0m \u001b[39m@functools\u001b[39m\u001b[39m.\u001b[39mwraps(func)\n\u001b[0;32m     33\u001b[0m \u001b[39mdef\u001b[39;00m \u001b[39m_acquire_compile_lock\u001b[39m(\u001b[39m*\u001b[39margs, \u001b[39m*\u001b[39m\u001b[39m*\u001b[39mkwargs):\n\u001b[0;32m     34\u001b[0m     \u001b[39mwith\u001b[39;00m \u001b[39mself\u001b[39m:\n\u001b[1;32m---> 35\u001b[0m         \u001b[39mreturn\u001b[39;00m func(\u001b[39m*\u001b[39;49margs, \u001b[39m*\u001b[39;49m\u001b[39m*\u001b[39;49mkwargs)\n",
      "File \u001b[1;32mc:\\Users\\domin\\AppData\\Local\\Programs\\Python\\Python311\\Lib\\site-packages\\numba\\core\\compiler_machinery.py:311\u001b[0m, in \u001b[0;36mPassManager._runPass\u001b[1;34m(self, index, pss, internal_state)\u001b[0m\n\u001b[0;32m    309\u001b[0m     mutated \u001b[39m|\u001b[39m\u001b[39m=\u001b[39m check(pss\u001b[39m.\u001b[39mrun_initialization, internal_state)\n\u001b[0;32m    310\u001b[0m \u001b[39mwith\u001b[39;00m SimpleTimer() \u001b[39mas\u001b[39;00m pass_time:\n\u001b[1;32m--> 311\u001b[0m     mutated \u001b[39m|\u001b[39m\u001b[39m=\u001b[39m check(pss\u001b[39m.\u001b[39;49mrun_pass, internal_state)\n\u001b[0;32m    312\u001b[0m \u001b[39mwith\u001b[39;00m SimpleTimer() \u001b[39mas\u001b[39;00m finalize_time:\n\u001b[0;32m    313\u001b[0m     mutated \u001b[39m|\u001b[39m\u001b[39m=\u001b[39m check(pss\u001b[39m.\u001b[39mrun_finalizer, internal_state)\n",
      "File \u001b[1;32mc:\\Users\\domin\\AppData\\Local\\Programs\\Python\\Python311\\Lib\\site-packages\\numba\\core\\compiler_machinery.py:273\u001b[0m, in \u001b[0;36mPassManager._runPass.<locals>.check\u001b[1;34m(func, compiler_state)\u001b[0m\n\u001b[0;32m    272\u001b[0m \u001b[39mdef\u001b[39;00m \u001b[39mcheck\u001b[39m(func, compiler_state):\n\u001b[1;32m--> 273\u001b[0m     mangled \u001b[39m=\u001b[39m func(compiler_state)\n\u001b[0;32m    274\u001b[0m     \u001b[39mif\u001b[39;00m mangled \u001b[39mnot\u001b[39;00m \u001b[39min\u001b[39;00m (\u001b[39mTrue\u001b[39;00m, \u001b[39mFalse\u001b[39;00m):\n\u001b[0;32m    275\u001b[0m         msg \u001b[39m=\u001b[39m (\u001b[39m\"\u001b[39m\u001b[39mCompilerPass implementations should return True/False. \u001b[39m\u001b[39m\"\u001b[39m\n\u001b[0;32m    276\u001b[0m                \u001b[39m\"\u001b[39m\u001b[39mCompilerPass with name \u001b[39m\u001b[39m'\u001b[39m\u001b[39m%s\u001b[39;00m\u001b[39m'\u001b[39m\u001b[39m did not.\u001b[39m\u001b[39m\"\u001b[39m)\n",
      "File \u001b[1;32mc:\\Users\\domin\\AppData\\Local\\Programs\\Python\\Python311\\Lib\\site-packages\\numba\\core\\typed_passes.py:495\u001b[0m, in \u001b[0;36mBaseNativeLowering.run_pass\u001b[1;34m(self, state)\u001b[0m\n\u001b[0;32m    489\u001b[0m     state[\u001b[39m'\u001b[39m\u001b[39mcr\u001b[39m\u001b[39m'\u001b[39m] \u001b[39m=\u001b[39m _LowerResult(fndesc, call_helper,\n\u001b[0;32m    490\u001b[0m                                cfunc\u001b[39m=\u001b[39m\u001b[39mNone\u001b[39;00m, env\u001b[39m=\u001b[39menv)\n\u001b[0;32m    491\u001b[0m \u001b[39melse\u001b[39;00m:\n\u001b[0;32m    492\u001b[0m     \u001b[39m# Prepare for execution\u001b[39;00m\n\u001b[0;32m    493\u001b[0m     \u001b[39m# Insert native function for use by other jitted-functions.\u001b[39;00m\n\u001b[0;32m    494\u001b[0m     \u001b[39m# We also register its library to allow for inlining.\u001b[39;00m\n\u001b[1;32m--> 495\u001b[0m     cfunc \u001b[39m=\u001b[39m targetctx\u001b[39m.\u001b[39;49mget_executable(library, fndesc, env)\n\u001b[0;32m    496\u001b[0m     targetctx\u001b[39m.\u001b[39minsert_user_function(cfunc, fndesc, [library])\n\u001b[0;32m    497\u001b[0m     state[\u001b[39m'\u001b[39m\u001b[39mcr\u001b[39m\u001b[39m'\u001b[39m] \u001b[39m=\u001b[39m _LowerResult(fndesc, call_helper,\n\u001b[0;32m    498\u001b[0m                                cfunc\u001b[39m=\u001b[39mcfunc, env\u001b[39m=\u001b[39menv)\n",
      "File \u001b[1;32mc:\\Users\\domin\\AppData\\Local\\Programs\\Python\\Python311\\Lib\\site-packages\\numba\\core\\cpu.py:239\u001b[0m, in \u001b[0;36mCPUContext.get_executable\u001b[1;34m(self, library, fndesc, env)\u001b[0m\n\u001b[0;32m    226\u001b[0m \u001b[39m\u001b[39m\u001b[39m\"\"\"\u001b[39;00m\n\u001b[0;32m    227\u001b[0m \u001b[39mReturns\u001b[39;00m\n\u001b[0;32m    228\u001b[0m \u001b[39m-------\u001b[39;00m\n\u001b[1;32m   (...)\u001b[0m\n\u001b[0;32m    236\u001b[0m \u001b[39m    an execution environment (from _dynfunc)\u001b[39;00m\n\u001b[0;32m    237\u001b[0m \u001b[39m\"\"\"\u001b[39;00m\n\u001b[0;32m    238\u001b[0m \u001b[39m# Code generation\u001b[39;00m\n\u001b[1;32m--> 239\u001b[0m fnptr \u001b[39m=\u001b[39m library\u001b[39m.\u001b[39;49mget_pointer_to_function(\n\u001b[0;32m    240\u001b[0m     fndesc\u001b[39m.\u001b[39;49mllvm_cpython_wrapper_name)\n\u001b[0;32m    242\u001b[0m \u001b[39m# Note: we avoid reusing the original docstring to avoid encoding\u001b[39;00m\n\u001b[0;32m    243\u001b[0m \u001b[39m# issues on Python 2, see issue #1908\u001b[39;00m\n\u001b[0;32m    244\u001b[0m doc \u001b[39m=\u001b[39m \u001b[39m\"\u001b[39m\u001b[39mcompiled wrapper for \u001b[39m\u001b[39m%r\u001b[39;00m\u001b[39m\"\u001b[39m \u001b[39m%\u001b[39m (fndesc\u001b[39m.\u001b[39mqualname,)\n",
      "File \u001b[1;32mc:\\Users\\domin\\AppData\\Local\\Programs\\Python\\Python311\\Lib\\site-packages\\numba\\core\\codegen.py:989\u001b[0m, in \u001b[0;36mJITCodeLibrary.get_pointer_to_function\u001b[1;34m(self, name)\u001b[0m\n\u001b[0;32m    975\u001b[0m \u001b[39mdef\u001b[39;00m \u001b[39mget_pointer_to_function\u001b[39m(\u001b[39mself\u001b[39m, name):\n\u001b[0;32m    976\u001b[0m \u001b[39m    \u001b[39m\u001b[39m\"\"\"\u001b[39;00m\n\u001b[0;32m    977\u001b[0m \u001b[39m    Generate native code for function named *name* and return a pointer\u001b[39;00m\n\u001b[0;32m    978\u001b[0m \u001b[39m    to the start of the function (as an integer).\u001b[39;00m\n\u001b[1;32m   (...)\u001b[0m\n\u001b[0;32m    987\u001b[0m \u001b[39m        - non-zero if the symbol is defined.\u001b[39;00m\n\u001b[0;32m    988\u001b[0m \u001b[39m    \"\"\"\u001b[39;00m\n\u001b[1;32m--> 989\u001b[0m     \u001b[39mself\u001b[39;49m\u001b[39m.\u001b[39;49m_ensure_finalized()\n\u001b[0;32m    990\u001b[0m     ee \u001b[39m=\u001b[39m \u001b[39mself\u001b[39m\u001b[39m.\u001b[39m_codegen\u001b[39m.\u001b[39m_engine\n\u001b[0;32m    991\u001b[0m     \u001b[39mif\u001b[39;00m \u001b[39mnot\u001b[39;00m ee\u001b[39m.\u001b[39mis_symbol_defined(name):\n",
      "File \u001b[1;32mc:\\Users\\domin\\AppData\\Local\\Programs\\Python\\Python311\\Lib\\site-packages\\numba\\core\\codegen.py:567\u001b[0m, in \u001b[0;36mCodeLibrary._ensure_finalized\u001b[1;34m(self)\u001b[0m\n\u001b[0;32m    565\u001b[0m \u001b[39mdef\u001b[39;00m \u001b[39m_ensure_finalized\u001b[39m(\u001b[39mself\u001b[39m):\n\u001b[0;32m    566\u001b[0m     \u001b[39mif\u001b[39;00m \u001b[39mnot\u001b[39;00m \u001b[39mself\u001b[39m\u001b[39m.\u001b[39m_finalized:\n\u001b[1;32m--> 567\u001b[0m         \u001b[39mself\u001b[39;49m\u001b[39m.\u001b[39;49mfinalize()\n",
      "File \u001b[1;32mc:\\Users\\domin\\AppData\\Local\\Programs\\Python\\Python311\\Lib\\site-packages\\numba\\core\\codegen.py:762\u001b[0m, in \u001b[0;36mCPUCodeLibrary.finalize\u001b[1;34m(self)\u001b[0m\n\u001b[0;32m    756\u001b[0m         \u001b[39mself\u001b[39m\u001b[39m.\u001b[39m_final_module\u001b[39m.\u001b[39mlink_in(\n\u001b[0;32m    757\u001b[0m             library\u001b[39m.\u001b[39m_get_module_for_linking(), preserve\u001b[39m=\u001b[39m\u001b[39mTrue\u001b[39;00m,\n\u001b[0;32m    758\u001b[0m         )\n\u001b[0;32m    760\u001b[0m \u001b[39m# Optimize the module after all dependences are linked in above,\u001b[39;00m\n\u001b[0;32m    761\u001b[0m \u001b[39m# to allow for inlining.\u001b[39;00m\n\u001b[1;32m--> 762\u001b[0m \u001b[39mself\u001b[39;49m\u001b[39m.\u001b[39;49m_optimize_final_module()\n\u001b[0;32m    764\u001b[0m \u001b[39mself\u001b[39m\u001b[39m.\u001b[39m_final_module\u001b[39m.\u001b[39mverify()\n\u001b[0;32m    765\u001b[0m \u001b[39mself\u001b[39m\u001b[39m.\u001b[39m_finalize_final_module()\n",
      "File \u001b[1;32mc:\\Users\\domin\\AppData\\Local\\Programs\\Python\\Python311\\Lib\\site-packages\\numba\\core\\codegen.py:682\u001b[0m, in \u001b[0;36mCPUCodeLibrary._optimize_final_module\u001b[1;34m(self)\u001b[0m\n\u001b[0;32m    679\u001b[0m full_name \u001b[39m=\u001b[39m \u001b[39m\"\u001b[39m\u001b[39mModule passes (full optimization)\u001b[39m\u001b[39m\"\u001b[39m\n\u001b[0;32m    680\u001b[0m \u001b[39mwith\u001b[39;00m \u001b[39mself\u001b[39m\u001b[39m.\u001b[39m_recorded_timings\u001b[39m.\u001b[39mrecord(full_name):\n\u001b[0;32m    681\u001b[0m     \u001b[39m# The full optimisation suite is then run on the refop pruned IR\u001b[39;00m\n\u001b[1;32m--> 682\u001b[0m     \u001b[39mself\u001b[39;49m\u001b[39m.\u001b[39;49m_codegen\u001b[39m.\u001b[39;49m_mpm_full\u001b[39m.\u001b[39;49mrun(\u001b[39mself\u001b[39;49m\u001b[39m.\u001b[39;49m_final_module)\n",
      "File \u001b[1;32mc:\\Users\\domin\\AppData\\Local\\Programs\\Python\\Python311\\Lib\\site-packages\\llvmlite\\binding\\passmanagers.py:683\u001b[0m, in \u001b[0;36mModulePassManager.run\u001b[1;34m(self, module, remarks_file, remarks_format, remarks_filter)\u001b[0m\n\u001b[0;32m    668\u001b[0m \u001b[39m\u001b[39m\u001b[39m\"\"\"\u001b[39;00m\n\u001b[0;32m    669\u001b[0m \u001b[39mRun optimization passes on the given module.\u001b[39;00m\n\u001b[0;32m    670\u001b[0m \n\u001b[1;32m   (...)\u001b[0m\n\u001b[0;32m    680\u001b[0m \u001b[39m    The filter that should be applied to the remarks output.\u001b[39;00m\n\u001b[0;32m    681\u001b[0m \u001b[39m\"\"\"\u001b[39;00m\n\u001b[0;32m    682\u001b[0m \u001b[39mif\u001b[39;00m remarks_file \u001b[39mis\u001b[39;00m \u001b[39mNone\u001b[39;00m:\n\u001b[1;32m--> 683\u001b[0m     \u001b[39mreturn\u001b[39;00m ffi\u001b[39m.\u001b[39;49mlib\u001b[39m.\u001b[39;49mLLVMPY_RunPassManager(\u001b[39mself\u001b[39;49m, module)\n\u001b[0;32m    684\u001b[0m \u001b[39melse\u001b[39;00m:\n\u001b[0;32m    685\u001b[0m     r \u001b[39m=\u001b[39m ffi\u001b[39m.\u001b[39mlib\u001b[39m.\u001b[39mLLVMPY_RunPassManagerWithRemarks(\n\u001b[0;32m    686\u001b[0m         \u001b[39mself\u001b[39m, module, _encode_string(remarks_format),\n\u001b[0;32m    687\u001b[0m         _encode_string(remarks_filter),\n\u001b[0;32m    688\u001b[0m         _encode_string(remarks_file))\n",
      "File \u001b[1;32mc:\\Users\\domin\\AppData\\Local\\Programs\\Python\\Python311\\Lib\\site-packages\\llvmlite\\binding\\ffi.py:152\u001b[0m, in \u001b[0;36m_lib_fn_wrapper.__call__\u001b[1;34m(self, *args, **kwargs)\u001b[0m\n\u001b[0;32m    150\u001b[0m \u001b[39mdef\u001b[39;00m \u001b[39m__call__\u001b[39m(\u001b[39mself\u001b[39m, \u001b[39m*\u001b[39margs, \u001b[39m*\u001b[39m\u001b[39m*\u001b[39mkwargs):\n\u001b[0;32m    151\u001b[0m     \u001b[39mwith\u001b[39;00m \u001b[39mself\u001b[39m\u001b[39m.\u001b[39m_lock:\n\u001b[1;32m--> 152\u001b[0m         \u001b[39mreturn\u001b[39;00m \u001b[39mself\u001b[39;49m\u001b[39m.\u001b[39;49m_cfn(\u001b[39m*\u001b[39;49margs, \u001b[39m*\u001b[39;49m\u001b[39m*\u001b[39;49mkwargs)\n",
      "\u001b[1;31mKeyboardInterrupt\u001b[0m: "
     ]
    }
   ],
   "source": [
    "wt=Diffusion_MS(t,L,Dvec,wi0,wi8,Mi,mobile,dlnai_dlnwi=dlnai_dlnwi)\n",
    "\n",
    "\n",
    "font = {'weight' : 'normal',\n",
    "        'size'   : 12}\n",
    "plt.rc('font', **font)\n",
    "\n",
    "# color= [\"#99CC00\",\"#F08208\",\"#99CDE9\",\"#FFC0CB\"]\n",
    "color= [\"#000000\",\"#000000\",\"#000000\",\"#000000\",\"#000000\"]\n",
    "label = [\"Fickian(A)\",\"Sigmoidal(B)\",\"Two-Stage(C)\",\"pseudo Fickian(D)\",\"Hookean(E)\"]\n",
    "lines=[':','-','-.','--','-']\n",
    "position=[nt//8,3,nt//8,nt//8,-30]\n",
    "\n",
    "fig, ax = plt.subplots(figsize=(5, 4), dpi = 200)\n",
    "fig.subplots_adjust(hspace=0.5, wspace=0.3)\n",
    "\n",
    "ax.set_xlabel('$t^{0.5}$ / $s^{0.5}$')\n",
    "ax.set_ylabel('$wi$ / -')\n",
    "\n",
    "\n",
    "ax.plot((t/60)**(1/2),wt[:,0], lines[0],color = color[0] , linewidth = 2.0,label=label[0])\n",
    "ax.text((t[position[0]]/60)**(1/2), wt[position[0],0], label[0])"
   ]
  },
  {
   "attachments": {},
   "cell_type": "markdown",
   "metadata": {},
   "source": [
    "Next, we define the  the inputs for describinmg the relaxation. Relaxation is considered by modeling the generalized Maxwell mode. The user provides arrays of the E moduli and damper constants of the Maxwell elemts in the arrangement. here, define a single Maxwell element. The parameters for the diffusion relaxation m,odel are provided as additional keyword arguments"
   ]
  },
  {
   "cell_type": "code",
   "execution_count": null,
   "metadata": {},
   "outputs": [
    {
     "name": "stdout",
     "output_type": "stream",
     "text": [
      "------------- Initialization and postprocessing ----------------\n",
      "------------- Start diffusion modeling ----------------\n",
      "------------- Diffusion modeling took 0.8344651 seconds ----------------\n"
     ]
    },
    {
     "ename": "Exception",
     "evalue": "Required step size is less than spacing between numbers.",
     "output_type": "error",
     "traceback": [
      "\u001b[1;31m---------------------------------------------------------------------------\u001b[0m",
      "\u001b[1;31mException\u001b[0m                                 Traceback (most recent call last)",
      "\u001b[1;32mc:\\GitHub_Projects\\diffusionpy\\examples_notebooks\\02a_diffusion_relaxation_model.ipynb Cell 10\u001b[0m line \u001b[0;36m7\n\u001b[0;32m      <a href='vscode-notebook-cell:/c%3A/GitHub_Projects/diffusionpy/examples_notebooks/02a_diffusion_relaxation_model.ipynb#X12sZmlsZQ%3D%3D?line=4'>5</a>\u001b[0m etavec\u001b[39m=\u001b[39mnp\u001b[39m.\u001b[39masarray([\u001b[39m1E9\u001b[39m,\u001b[39m1E12\u001b[39m,\u001b[39m1E14\u001b[39m,\u001b[39m1E16\u001b[39m,\u001b[39m1E18\u001b[39m])\n\u001b[0;32m      <a href='vscode-notebook-cell:/c%3A/GitHub_Projects/diffusionpy/examples_notebooks/02a_diffusion_relaxation_model.ipynb#X12sZmlsZQ%3D%3D?line=5'>6</a>\u001b[0m \u001b[39mfor\u001b[39;00m i,etaJ \u001b[39min\u001b[39;00m \u001b[39menumerate\u001b[39m(etavec):\n\u001b[1;32m----> <a href='vscode-notebook-cell:/c%3A/GitHub_Projects/diffusionpy/examples_notebooks/02a_diffusion_relaxation_model.ipynb#X12sZmlsZQ%3D%3D?line=6'>7</a>\u001b[0m     wt,_\u001b[39m=\u001b[39mDiffusion_MS(t,L,Dvec,wi0,wi8,Mi,mobile,dlnai_dlnwi\u001b[39m=\u001b[39;49mdlnai_dlnwi,EJ\u001b[39m=\u001b[39;49mEJ,etaJ\u001b[39m=\u001b[39;49metaJ,exponent\u001b[39m=\u001b[39;49mexponent)\n\u001b[0;32m      <a href='vscode-notebook-cell:/c%3A/GitHub_Projects/diffusionpy/examples_notebooks/02a_diffusion_relaxation_model.ipynb#X12sZmlsZQ%3D%3D?line=7'>8</a>\u001b[0m     ax\u001b[39m.\u001b[39mplot((t\u001b[39m/\u001b[39m\u001b[39m60\u001b[39m)\u001b[39m*\u001b[39m\u001b[39m*\u001b[39m(\u001b[39m1\u001b[39m\u001b[39m/\u001b[39m\u001b[39m2\u001b[39m),wt[:,\u001b[39m0\u001b[39m], lines[i],color \u001b[39m=\u001b[39m color[i] , linewidth \u001b[39m=\u001b[39m \u001b[39m2.0\u001b[39m,label\u001b[39m=\u001b[39mlabel[i])\n\u001b[0;32m      <a href='vscode-notebook-cell:/c%3A/GitHub_Projects/diffusionpy/examples_notebooks/02a_diffusion_relaxation_model.ipynb#X12sZmlsZQ%3D%3D?line=8'>9</a>\u001b[0m     ax\u001b[39m.\u001b[39mtext((t[position[i]]\u001b[39m/\u001b[39m\u001b[39m60\u001b[39m)\u001b[39m*\u001b[39m\u001b[39m*\u001b[39m(\u001b[39m1\u001b[39m\u001b[39m/\u001b[39m\u001b[39m2\u001b[39m), wt[position[i],\u001b[39m0\u001b[39m], label[i])\n",
      "File \u001b[1;32mC:\\GitHub_Projects\\diffusionpy\\diffusionpy\\Stefan_Maxwell_segmental.py:186\u001b[0m, in \u001b[0;36mDiffusion_MS\u001b[1;34m(tint, L, Dvec, wi0, wi8, Mi, mobile, full_output, dlnai_dlnwi, swelling, **kwargs)\u001b[0m\n\u001b[0;32m    184\u001b[0m end\u001b[39m=\u001b[39mtime\u001b[39m.\u001b[39mtime_ns()\n\u001b[0;32m    185\u001b[0m \u001b[39mprint\u001b[39m(\u001b[39m\"\u001b[39m\u001b[39m------------- Diffusion modeling took \u001b[39m\u001b[39m\"\u001b[39m\u001b[39m+\u001b[39m\u001b[39mstr\u001b[39m((end\u001b[39m-\u001b[39mstart)\u001b[39m/\u001b[39m\u001b[39m1E9\u001b[39m)\u001b[39m+\u001b[39m\u001b[39m\"\u001b[39m\u001b[39m seconds ----------------\u001b[39m\u001b[39m\"\u001b[39m)\n\u001b[1;32m--> 186\u001b[0m \u001b[39mif\u001b[39;00m \u001b[39mnot\u001b[39;00m sol[\u001b[39m\"\u001b[39m\u001b[39msuccess\u001b[39m\u001b[39m\"\u001b[39m]: \u001b[39mraise\u001b[39;00m \u001b[39mException\u001b[39;00m(sol[\u001b[39m\"\u001b[39m\u001b[39mmessage\u001b[39m\u001b[39m\"\u001b[39m])\u001b[39m# the initial conditions are returned instead ----------------\"); #return wi0*np.ones((nc,nt)).T \u001b[39;00m\n\u001b[0;32m    187\u001b[0m \u001b[39m# x_sol=np.exp(sol[\"y\"] ) if \"EJ\" not in kwargs else sol[\"y\"] \u001b[39;00m\n\u001b[0;32m    188\u001b[0m x_sol\u001b[39m=\u001b[39msol[\u001b[39m\"\u001b[39m\u001b[39my\u001b[39m\u001b[39m\"\u001b[39m]\n",
      "\u001b[1;31mException\u001b[0m: Required step size is less than spacing between numbers."
     ]
    }
   ],
   "source": [
    "EJ=np.asarray([1E10])\n",
    "etaJ=np.asarray([1E9])\n",
    "exponent=np.asarray([0.])\n",
    "rho0i=np.asarray([997.,1180])\n",
    "etavec=np.asarray([1E9,1E12,1E14,1E16,1E18])\n",
    "for i,etaJ in enumerate(etavec):\n",
    "    wt,_=Diffusion_MS(t,L,Dvec,wi0,wi8,Mi,mobile,dlnai_dlnwi=dlnai_dlnwi,EJ=EJ,etaJ=etaJ,exponent=exponent,rho0i=rho0i)\n",
    "    ax.plot((t/60)**(1/2),wt[:,0], lines[i],color = color[i] , linewidth = 2.0,label=label[i])\n",
    "    ax.text((t[position[i]]/60)**(1/2), wt[position[i],0], label[i])\n",
    "fig"
   ]
  }
 ],
 "metadata": {
  "kernelspec": {
   "display_name": "Python 3",
   "language": "python",
   "name": "python3"
  },
  "language_info": {
   "codemirror_mode": {
    "name": "ipython",
    "version": 3
   },
   "file_extension": ".py",
   "mimetype": "text/x-python",
   "name": "python",
   "nbconvert_exporter": "python",
   "pygments_lexer": "ipython3",
   "version": "3.11.4"
  },
  "orig_nbformat": 4
 },
 "nbformat": 4,
 "nbformat_minor": 2
}
