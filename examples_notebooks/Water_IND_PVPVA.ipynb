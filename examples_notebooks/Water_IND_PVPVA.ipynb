{
 "cells": [
  {
   "attachments": {},
   "cell_type": "markdown",
   "metadata": {},
   "source": [
    "# Stefan-Maxwell diffusion involving three components\n"
   ]
  },
  {
   "attachments": {},
   "cell_type": "markdown",
   "metadata": {},
   "source": [
    "This example demonstrates the modeling of the multicomponent Stefan-Maxwell model involving three componentt.\n",
    "First we import the Stefan-Maxwell diffusion module"
   ]
  },
  {
   "cell_type": "code",
   "execution_count": 2,
   "metadata": {},
   "outputs": [],
   "source": [
    "import numpy as np\n",
    "from diffusionpy import Diffusion_MS\n",
    "import matplotlib.pyplot as plt"
   ]
  },
  {
   "attachments": {},
   "cell_type": "markdown",
   "metadata": {},
   "source": [
    "The experimental data for this example was taken from Schabel 2006 (https://doi.org/10.1016/j.ces.2006.12.062)"
   ]
  },
  {
   "cell_type": "code",
   "execution_count": 3,
   "metadata": {},
   "outputs": [],
   "source": [
    "texp=np.asarray([0,4.427792916,14.50035208,23.87257753,33.76909653,45.58674953,58.69408811,71.80142669,91.44521324,120.9089796,147.0930411,177.8656278,212.5493678,264.9136638,429.8518201])\n",
    "\n",
    "wpvac=np.asarray([0.333333333,0.397028757,0.559683846,0.704648614,0.763915741,0.791401827,0.801167219,0.822653035,0.830878575,0.841458325,0.846286716,0.857199094,0.851138308,0.858388537,0.8723936549])\n",
    "\n",
    "wtol=np.asarray([0.333333333,0.361083897,0.34858624,0.273123698,0.22781745,0.202716913,0.188759833,0.17692216,0.169121425,0.158541675,0.153713284,0.142800906,0.143816828,0.137082518,0.123003508])\n",
    "\n",
    "wmet=np.asarray([0.333333333,0.241887346,0.091729914,0.022227687,0.008266808,0.00588126,0.010072947,0.000424805,0,0,0,0,0,0,0])"
   ]
  },
  {
   "attachments": {},
   "cell_type": "markdown",
   "metadata": {},
   "source": [
    "We want to describe the diffusion of water into an ASD film. The ASD-water mixture is a ternary system. First we define starting and equilibrium weight fractions."
   ]
  },
  {
   "cell_type": "code",
   "execution_count": 4,
   "metadata": {},
   "outputs": [],
   "source": [
    "nc=3\n",
    "L=0.001\n",
    "wi0=np.asarray([0.01,0.495,0.495])\n",
    "wi8=np.asarray([0.999,0.0005,0.0005])\n",
    "Mi=np.asarray([18.015,357.57,65000])\n"
   ]
  },
  {
   "attachments": {},
   "cell_type": "markdown",
   "metadata": {},
   "source": [
    "For a the diffusion of three components, three binary diffusion coefficients need to be defined"
   ]
  },
  {
   "attachments": {},
   "cell_type": "markdown",
   "metadata": {},
   "source": [
    "\n",
    "$\\hat{Ð} =$ \n",
    "$\\left[\\begin{array}{rrr} \n",
    "0 & Ð_{12} & Ð_{13} \\\\ \n",
    "0 & 0 & Ð_{23} \\\\ \n",
    "0 & 0 & 0 \\\\ \n",
    "\\end{array}\\right]$\n",
    "\n",
    "$Ð_{vec} = \\left[\\begin{array}{rrr} Ð_{12} & Ð_{13} & Ð_{23} \\end{array}\\right]$"
   ]
  },
  {
   "cell_type": "code",
   "execution_count": 5,
   "metadata": {},
   "outputs": [],
   "source": [
    "Dvec=np.asarray([1E-13,2.3E-13,1.7E-13])"
   ]
  },
  {
   "attachments": {},
   "cell_type": "markdown",
   "metadata": {},
   "source": [
    "Next we define the time array and which component is mobile"
   ]
  },
  {
   "cell_type": "code",
   "execution_count": 6,
   "metadata": {},
   "outputs": [],
   "source": [
    "nt=300\n",
    "t=np.linspace(0,texp[-1],nt)\n",
    "volatile=np.asarray([True,True,False])"
   ]
  },
  {
   "cell_type": "code",
   "execution_count": 7,
   "metadata": {},
   "outputs": [],
   "source": [
    "wt=Diffusion_MS(t,L,Dvec,wi0,wi8,Mi,volatile)"
   ]
  },
  {
   "attachments": {},
   "cell_type": "markdown",
   "metadata": {},
   "source": [
    "We plot the results"
   ]
  },
  {
   "cell_type": "code",
   "execution_count": null,
   "metadata": {},
   "outputs": [],
   "source": [
    "\n",
    "font = {'weight' : 'normal',\n",
    "        'size'   : 12}\n",
    "plt.rc('font', **font)\n",
    "\n",
    "color1 = \"#99CC00\"\n",
    "color2 = \"#F08208\"\n",
    "color3 = \"#99CDE9\"\n",
    "\n",
    "fig, ax = plt.subplots(figsize=(5, 4), dpi = 200)\n",
    "fig.subplots_adjust(hspace=0.5, wspace=0.3)\n",
    "\n",
    "\n",
    "ax.plot(t,wt[:,0], \"-\",color = color1 , \n",
    "        linewidth = 2.0, label = \"wMet\")\n",
    "ax.plot(t,wt[:,1], \"-\",color = color2 , \n",
    "        linewidth = 2.0, label = \"wTol\")\n",
    "ax.plot(t,wt[:,2], \"-\",color = color3 , \n",
    "        linewidth = 2.0, label = \"wPVAc\")\n",
    "\n",
    "ax.plot(texp,wmet, \"o\",color = color1 , \n",
    "        linewidth = 2.0, label = \"wMet\")\n",
    "ax.plot(texp,wtol, \"o\",color = color2 , \n",
    "        linewidth = 2.0, label = \"wTol\")\n",
    "ax.plot(texp,wpvac, \"o\",color = color3 , \n",
    "        linewidth = 2.0, label = \"wPVAc\")\n",
    "\n",
    "\n",
    "ax.legend(fontsize=\"small\")\n",
    "ax.set_xlabel('$t$ / s')\n",
    "ax.set_ylabel('$wi$ / -')\n",
    "ax.axis([0, 300., 0., 1.])\n",
    "start, end = ax.get_xlim()\n",
    "ax.xaxis.set_ticks(np.linspace(start, end, 5))\n",
    "start, end = ax.get_ylim()\n",
    "ax.yaxis.set_ticks(np.linspace(start, end, 5))\n",
    "plt.show()"
   ]
  }
 ],
 "metadata": {
  "kernelspec": {
   "display_name": "Python 3",
   "language": "python",
   "name": "python3"
  },
  "language_info": {
   "codemirror_mode": {
    "name": "ipython",
    "version": 3
   },
   "file_extension": ".py",
   "mimetype": "text/x-python",
   "name": "python",
   "nbconvert_exporter": "python",
   "pygments_lexer": "ipython3",
   "version": "3.9.13"
  },
  "orig_nbformat": 4,
  "vscode": {
   "interpreter": {
    "hash": "155058e36bf5ed4f47d0ce54cf51e48fed84b2ca3ed25a64d8425315b88e4e7c"
   }
  }
 },
 "nbformat": 4,
 "nbformat_minor": 2
}
