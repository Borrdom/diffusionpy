{
 "cells": [
  {
   "cell_type": "markdown",
   "id": "bfacf273",
   "metadata": {},
   "source": [
    "# VLE of glassy polymers"
   ]
  },
  {
   "cell_type": "markdown",
   "id": "01cb9646",
   "metadata": {},
   "source": [
    "This is an example for a VLE calculation featuring a polymer and a solvent. PC-SAFT calculation for a water sorption isotherm of the polymer PVP were performed (the dotted line in Figure 2 of https://doi.org/10.3390/membranes12040434). "
   ]
  },
  {
   "cell_type": "code",
   "execution_count": 13,
   "id": "9cc7ede4",
   "metadata": {},
   "outputs": [],
   "source": [
    "import numpy as np\n",
    "from diffusionpy import vpure,lngi,SAFTSAC\n",
    "import matplotlib.pyplot as plt\n",
    "from scipy.optimize import root,root_scalar\n",
    "\n",
    "def convert(xi,Mi):\n",
    "    return xi*Mi[:,None]/np.sum(xi*Mi[:,None],axis=0)"
   ]
  },
  {
   "cell_type": "markdown",
   "id": "1845f8c5",
   "metadata": {},
   "source": [
    "The the first part of the code is basically the same as presented in VLE_Water_Sorption_Polymer_part1.ipynb"
   ]
  },
  {
   "cell_type": "code",
   "execution_count": 14,
   "id": "6c7a77b9",
   "metadata": {},
   "outputs": [],
   "source": [
    "mi=np.asarray([1.20469,1045.99,14.2829768])\n",
    "sigi=np.asarray([2.797059952,2.71,3.535])\n",
    "ui=np.asarray([353.95,205.599,262.791])\n",
    "epsAiBi=np.asarray([2425.67,0.,886.44])\n",
    "kapi=np.asarray([0.04509,0.02,0.02])\n",
    "N=np.asarray([1.,231.,3.])\n",
    "Mi=np.asarray([18.015,25700.,357.79])\n",
    "kij=np.asarray([\n",
    "    [0.,-0.128,-0.025],\n",
    "    [-0.128,0.,-0],\n",
    "    [-0.025,-0.,0.]])\n",
    "kijA=np.asarray([[0.]])"
   ]
  },
  {
   "cell_type": "code",
   "execution_count": null,
   "id": "95a1389b",
   "metadata": {},
   "outputs": [],
   "source": []
  },
  {
   "cell_type": "code",
   "execution_count": 15,
   "id": "f38f9ce7",
   "metadata": {},
   "outputs": [],
   "source": [
    "T=298.15\n",
    "p=1E5\n",
    "vpures=vpure(p,T,mi,sigi,ui,epsAiBi,kapi,N)\n",
    "npoint=100\n",
    "w1=np.linspace(0,1,npoint)\n",
    "w2=1-w1\n",
    "wi_immobiles=np.asarray([0.8,0.2])\n",
    "wi=np.vstack((w1,w2*wi_immobiles[0],w2*wi_immobiles[1]))\n",
    "xi=convert(wi,1/Mi)\n",
    "lngammai=np.asarray([lngi(T,np.ascontiguousarray(wi[:,i]),mi,sigi,ui,epsAiBi,kapi,N,vpures,Mi,kij,kijA).flatten() for i,val in enumerate(wi[0,:])])\n",
    "mobiles=np.asarray([True,False,False])\n",
    "immobiles=~mobiles\n",
    "\n",
    "kswp = 0.4279 #/ 0.03166**2\n",
    "kswa = 0.\n",
    "v0p = 1/1506.704837\n",
    "v0a = vpures[2]*1000./Mi[2]\n",
    "v0ASD=(v0p*wi_immobiles[0]+v0a*wi_immobiles[1])\n",
    "ksws=kswp*v0p/v0ASD*wi_immobiles[0]+kswa*v0a/v0ASD*wi_immobiles[1]\n",
    "MASD=(wi_immobiles[0]/Mi[1]+wi_immobiles[1]/Mi[2])**-1\n",
    "v0ASD=v0ASD*MASD/1000.\n",
    "xi_immobiles=wi_immobiles/Mi[immobiles]*MASD\n"
   ]
  },
  {
   "cell_type": "code",
   "execution_count": 16,
   "id": "5d6e24d4",
   "metadata": {},
   "outputs": [
    {
     "ename": "AttributeError",
     "evalue": "'numpy.ndarray' object has no attribute 'deepcopy'",
     "output_type": "error",
     "traceback": [
      "\u001b[1;31m---------------------------------------------------------------------------\u001b[0m",
      "\u001b[1;31mAttributeError\u001b[0m                            Traceback (most recent call last)",
      "Cell \u001b[1;32mIn[16], line 35\u001b[0m\n\u001b[0;32m     32\u001b[0m     wASD\u001b[38;5;241m=\u001b[39m(\u001b[38;5;241m1\u001b[39m\u001b[38;5;241m-\u001b[39mvali)\n\u001b[0;32m     33\u001b[0m     wi\u001b[38;5;241m=\u001b[39mnp\u001b[38;5;241m.\u001b[39masarray([vali,wASD\u001b[38;5;241m*\u001b[39m(\u001b[38;5;241m1\u001b[39m\u001b[38;5;241m-\u001b[39mDL),wASD\u001b[38;5;241m*\u001b[39mDL])\n\u001b[1;32m---> 35\u001b[0m     RS\u001b[38;5;241m=\u001b[39m\u001b[43mNETVLE\u001b[49m\u001b[43m(\u001b[49m\u001b[43mT\u001b[49m\u001b[43m,\u001b[49m\u001b[43mwi\u001b[49m\u001b[43m,\u001b[49m\u001b[43mv0p\u001b[49m\u001b[43m,\u001b[49m\u001b[43mmobile\u001b[49m\u001b[43m,\u001b[49m\u001b[43mpolymer\u001b[49m\u001b[43m,\u001b[49m\u001b[43mksw\u001b[49m\u001b[43m,\u001b[49m\u001b[43mmi\u001b[49m\u001b[43m,\u001b[49m\u001b[43msigi\u001b[49m\u001b[43m,\u001b[49m\u001b[43mui\u001b[49m\u001b[43m,\u001b[49m\u001b[43mepsAiBi\u001b[49m\u001b[43m,\u001b[49m\u001b[43mkapi\u001b[49m\u001b[43m,\u001b[49m\u001b[43mN\u001b[49m\u001b[43m,\u001b[49m\u001b[43mvpures\u001b[49m\u001b[43m,\u001b[49m\u001b[43mMi\u001b[49m\u001b[43m,\u001b[49m\u001b[43mkij\u001b[49m\u001b[43m,\u001b[49m\u001b[43mkijA\u001b[49m\u001b[43m)\u001b[49m\n\u001b[0;32m     36\u001b[0m     RHvec\u001b[38;5;241m.\u001b[39mappend(RS[\u001b[38;5;241m0\u001b[39m])\n\u001b[0;32m     37\u001b[0m RHvec\u001b[38;5;241m=\u001b[39mnp\u001b[38;5;241m.\u001b[39masarray(RHvec)\n",
      "File \u001b[1;32mC:\\GitHub_Projects\\diffusionpy\\diffusionpy\\Stefan_Maxwell_segmental.py:442\u001b[0m, in \u001b[0;36mNETVLE\u001b[1;34m(T, wi, v0p, mobile, polymer, ksw, mi, sigi, ui, epsAiBi, kapi, N, vpures, Mi, kij, kijA)\u001b[0m\n\u001b[0;32m    440\u001b[0m     lngid,lngres,_,lngw\u001b[38;5;241m=\u001b[39mSAFTSAC(T,wi,mi,sigi,ui,epsAiBi,kapi,N,vpures2,Mi,kij,kijA)\n\u001b[0;32m    441\u001b[0m     \u001b[38;5;28;01mreturn\u001b[39;00m lngid[mobiles]\u001b[38;5;241m+\u001b[39mlngres[mobiles]\u001b[38;5;241m+\u001b[39mlngw[mobiles]\u001b[38;5;241m+\u001b[39mnp\u001b[38;5;241m.\u001b[39mlog(wi[mobiles])\u001b[38;5;241m-\u001b[39mnp\u001b[38;5;241m.\u001b[39mlog(RS)\n\u001b[1;32m--> 442\u001b[0m \u001b[38;5;28;01mreturn\u001b[39;00m \u001b[43mroot\u001b[49m\u001b[43m(\u001b[49m\u001b[43mres\u001b[49m\u001b[43m,\u001b[49m\u001b[43mwi\u001b[49m\u001b[43m[\u001b[49m\u001b[43mmobiles\u001b[49m\u001b[43m]\u001b[49m\u001b[43m,\u001b[49m\u001b[43mmethod\u001b[49m\u001b[38;5;241;43m=\u001b[39;49m\u001b[38;5;124;43m'\u001b[39;49m\u001b[38;5;124;43mbroyden1\u001b[39;49m\u001b[38;5;124;43m'\u001b[39;49m\u001b[43m)\u001b[49m[\u001b[38;5;124m\"\u001b[39m\u001b[38;5;124mx\u001b[39m\u001b[38;5;124m\"\u001b[39m]\n",
      "File \u001b[1;32mc:\\Users\\domin\\AppData\\Local\\Programs\\Python\\Python311\\Lib\\site-packages\\scipy\\optimize\\_root.py:246\u001b[0m, in \u001b[0;36mroot\u001b[1;34m(fun, x0, args, method, jac, tol, callback, options)\u001b[0m\n\u001b[0;32m    243\u001b[0m \u001b[38;5;28;01melif\u001b[39;00m meth \u001b[38;5;129;01min\u001b[39;00m (\u001b[38;5;124m'\u001b[39m\u001b[38;5;124mbroyden1\u001b[39m\u001b[38;5;124m'\u001b[39m, \u001b[38;5;124m'\u001b[39m\u001b[38;5;124mbroyden2\u001b[39m\u001b[38;5;124m'\u001b[39m, \u001b[38;5;124m'\u001b[39m\u001b[38;5;124manderson\u001b[39m\u001b[38;5;124m'\u001b[39m, \u001b[38;5;124m'\u001b[39m\u001b[38;5;124mlinearmixing\u001b[39m\u001b[38;5;124m'\u001b[39m,\n\u001b[0;32m    244\u001b[0m               \u001b[38;5;124m'\u001b[39m\u001b[38;5;124mdiagbroyden\u001b[39m\u001b[38;5;124m'\u001b[39m, \u001b[38;5;124m'\u001b[39m\u001b[38;5;124mexcitingmixing\u001b[39m\u001b[38;5;124m'\u001b[39m, \u001b[38;5;124m'\u001b[39m\u001b[38;5;124mkrylov\u001b[39m\u001b[38;5;124m'\u001b[39m):\n\u001b[0;32m    245\u001b[0m     _warn_jac_unused(jac, method)\n\u001b[1;32m--> 246\u001b[0m     sol \u001b[38;5;241m=\u001b[39m \u001b[43m_root_nonlin_solve\u001b[49m\u001b[43m(\u001b[49m\u001b[43mfun\u001b[49m\u001b[43m,\u001b[49m\u001b[43m \u001b[49m\u001b[43mx0\u001b[49m\u001b[43m,\u001b[49m\u001b[43m \u001b[49m\u001b[43margs\u001b[49m\u001b[38;5;241;43m=\u001b[39;49m\u001b[43margs\u001b[49m\u001b[43m,\u001b[49m\u001b[43m \u001b[49m\u001b[43mjac\u001b[49m\u001b[38;5;241;43m=\u001b[39;49m\u001b[43mjac\u001b[49m\u001b[43m,\u001b[49m\n\u001b[0;32m    247\u001b[0m \u001b[43m                             \u001b[49m\u001b[43m_method\u001b[49m\u001b[38;5;241;43m=\u001b[39;49m\u001b[43mmeth\u001b[49m\u001b[43m,\u001b[49m\u001b[43m \u001b[49m\u001b[43m_callback\u001b[49m\u001b[38;5;241;43m=\u001b[39;49m\u001b[43mcallback\u001b[49m\u001b[43m,\u001b[49m\n\u001b[0;32m    248\u001b[0m \u001b[43m                             \u001b[49m\u001b[38;5;241;43m*\u001b[39;49m\u001b[38;5;241;43m*\u001b[39;49m\u001b[43moptions\u001b[49m\u001b[43m)\u001b[49m\n\u001b[0;32m    249\u001b[0m \u001b[38;5;28;01melse\u001b[39;00m:\n\u001b[0;32m    250\u001b[0m     \u001b[38;5;28;01mraise\u001b[39;00m \u001b[38;5;167;01mValueError\u001b[39;00m(\u001b[38;5;124m'\u001b[39m\u001b[38;5;124mUnknown solver \u001b[39m\u001b[38;5;132;01m%s\u001b[39;00m\u001b[38;5;124m'\u001b[39m \u001b[38;5;241m%\u001b[39m method)\n",
      "File \u001b[1;32mc:\\Users\\domin\\AppData\\Local\\Programs\\Python\\Python311\\Lib\\site-packages\\scipy\\optimize\\_root.py:344\u001b[0m, in \u001b[0;36m_root_nonlin_solve\u001b[1;34m(fun, x0, args, jac, _callback, _method, nit, disp, maxiter, ftol, fatol, xtol, xatol, tol_norm, line_search, jac_options, **unknown_options)\u001b[0m\n\u001b[0;32m    341\u001b[0m \u001b[38;5;28;01melse\u001b[39;00m:\n\u001b[0;32m    342\u001b[0m     f \u001b[38;5;241m=\u001b[39m fun\n\u001b[1;32m--> 344\u001b[0m x, info \u001b[38;5;241m=\u001b[39m \u001b[43mnonlin\u001b[49m\u001b[38;5;241;43m.\u001b[39;49m\u001b[43mnonlin_solve\u001b[49m\u001b[43m(\u001b[49m\u001b[43mf\u001b[49m\u001b[43m,\u001b[49m\u001b[43m \u001b[49m\u001b[43mx0\u001b[49m\u001b[43m,\u001b[49m\u001b[43m \u001b[49m\u001b[43mjacobian\u001b[49m\u001b[38;5;241;43m=\u001b[39;49m\u001b[43mjacobian\u001b[49m\u001b[43m(\u001b[49m\u001b[38;5;241;43m*\u001b[39;49m\u001b[38;5;241;43m*\u001b[39;49m\u001b[43mjac_options\u001b[49m\u001b[43m)\u001b[49m\u001b[43m,\u001b[49m\n\u001b[0;32m    345\u001b[0m \u001b[43m                              \u001b[49m\u001b[38;5;28;43miter\u001b[39;49m\u001b[38;5;241;43m=\u001b[39;49m\u001b[43mnit\u001b[49m\u001b[43m,\u001b[49m\u001b[43m \u001b[49m\u001b[43mverbose\u001b[49m\u001b[38;5;241;43m=\u001b[39;49m\u001b[43mverbose\u001b[49m\u001b[43m,\u001b[49m\n\u001b[0;32m    346\u001b[0m \u001b[43m                              \u001b[49m\u001b[43mmaxiter\u001b[49m\u001b[38;5;241;43m=\u001b[39;49m\u001b[43mmaxiter\u001b[49m\u001b[43m,\u001b[49m\u001b[43m \u001b[49m\u001b[43mf_tol\u001b[49m\u001b[38;5;241;43m=\u001b[39;49m\u001b[43mf_tol\u001b[49m\u001b[43m,\u001b[49m\n\u001b[0;32m    347\u001b[0m \u001b[43m                              \u001b[49m\u001b[43mf_rtol\u001b[49m\u001b[38;5;241;43m=\u001b[39;49m\u001b[43mf_rtol\u001b[49m\u001b[43m,\u001b[49m\u001b[43m \u001b[49m\u001b[43mx_tol\u001b[49m\u001b[38;5;241;43m=\u001b[39;49m\u001b[43mx_tol\u001b[49m\u001b[43m,\u001b[49m\n\u001b[0;32m    348\u001b[0m \u001b[43m                              \u001b[49m\u001b[43mx_rtol\u001b[49m\u001b[38;5;241;43m=\u001b[39;49m\u001b[43mx_rtol\u001b[49m\u001b[43m,\u001b[49m\u001b[43m \u001b[49m\u001b[43mtol_norm\u001b[49m\u001b[38;5;241;43m=\u001b[39;49m\u001b[43mtol_norm\u001b[49m\u001b[43m,\u001b[49m\n\u001b[0;32m    349\u001b[0m \u001b[43m                              \u001b[49m\u001b[43mline_search\u001b[49m\u001b[38;5;241;43m=\u001b[39;49m\u001b[43mline_search\u001b[49m\u001b[43m,\u001b[49m\n\u001b[0;32m    350\u001b[0m \u001b[43m                              \u001b[49m\u001b[43mcallback\u001b[49m\u001b[38;5;241;43m=\u001b[39;49m\u001b[43m_callback\u001b[49m\u001b[43m,\u001b[49m\u001b[43m \u001b[49m\u001b[43mfull_output\u001b[49m\u001b[38;5;241;43m=\u001b[39;49m\u001b[38;5;28;43;01mTrue\u001b[39;49;00m\u001b[43m,\u001b[49m\n\u001b[0;32m    351\u001b[0m \u001b[43m                              \u001b[49m\u001b[43mraise_exception\u001b[49m\u001b[38;5;241;43m=\u001b[39;49m\u001b[38;5;28;43;01mFalse\u001b[39;49;00m\u001b[43m)\u001b[49m\n\u001b[0;32m    352\u001b[0m sol \u001b[38;5;241m=\u001b[39m OptimizeResult(x\u001b[38;5;241m=\u001b[39mx)\n\u001b[0;32m    353\u001b[0m sol\u001b[38;5;241m.\u001b[39mupdate(info)\n",
      "File \u001b[1;32mc:\\Users\\domin\\AppData\\Local\\Programs\\Python\\Python311\\Lib\\site-packages\\scipy\\optimize\\_nonlin.py:172\u001b[0m, in \u001b[0;36mnonlin_solve\u001b[1;34m(F, x0, jacobian, iter, verbose, maxiter, f_tol, f_rtol, x_tol, x_rtol, tol_norm, line_search, callback, full_output, raise_exception)\u001b[0m\n\u001b[0;32m    169\u001b[0m x \u001b[38;5;241m=\u001b[39m x0\u001b[38;5;241m.\u001b[39mflatten()\n\u001b[0;32m    171\u001b[0m dx \u001b[38;5;241m=\u001b[39m np\u001b[38;5;241m.\u001b[39mfull_like(x, np\u001b[38;5;241m.\u001b[39minf)\n\u001b[1;32m--> 172\u001b[0m Fx \u001b[38;5;241m=\u001b[39m \u001b[43mfunc\u001b[49m\u001b[43m(\u001b[49m\u001b[43mx\u001b[49m\u001b[43m)\u001b[49m\n\u001b[0;32m    173\u001b[0m Fx_norm \u001b[38;5;241m=\u001b[39m norm(Fx)\n\u001b[0;32m    175\u001b[0m jacobian \u001b[38;5;241m=\u001b[39m asjacobian(jacobian)\n",
      "File \u001b[1;32mc:\\Users\\domin\\AppData\\Local\\Programs\\Python\\Python311\\Lib\\site-packages\\scipy\\optimize\\_nonlin.py:168\u001b[0m, in \u001b[0;36mnonlin_solve.<locals>.func\u001b[1;34m(z)\u001b[0m\n\u001b[0;32m    167\u001b[0m \u001b[38;5;28;01mdef\u001b[39;00m \u001b[38;5;21mfunc\u001b[39m(z):\n\u001b[1;32m--> 168\u001b[0m     \u001b[38;5;28;01mreturn\u001b[39;00m _as_inexact(\u001b[43mF\u001b[49m\u001b[43m(\u001b[49m\u001b[43m_array_like\u001b[49m\u001b[43m(\u001b[49m\u001b[43mz\u001b[49m\u001b[43m,\u001b[49m\u001b[43m \u001b[49m\u001b[43mx0\u001b[49m\u001b[43m)\u001b[49m\u001b[43m)\u001b[49m)\u001b[38;5;241m.\u001b[39mflatten()\n",
      "File \u001b[1;32mC:\\GitHub_Projects\\diffusionpy\\diffusionpy\\Stefan_Maxwell_segmental.py:438\u001b[0m, in \u001b[0;36mNETVLE.<locals>.res\u001b[1;34m(RS)\u001b[0m\n\u001b[0;32m    436\u001b[0m xw\u001b[38;5;241m=\u001b[39mxi[mobiles]\n\u001b[0;32m    437\u001b[0m vmol\u001b[38;5;241m=\u001b[39mv0dry\u001b[38;5;241m/\u001b[39m(\u001b[38;5;241m1\u001b[39m\u001b[38;5;241m-\u001b[39mnp\u001b[38;5;241m.\u001b[39msum(ksws\u001b[38;5;241m*\u001b[39mRS\u001b[38;5;241m*\u001b[39m\u001b[38;5;241m*\u001b[39m\u001b[38;5;241m2\u001b[39m))\u001b[38;5;241m*\u001b[39m(\u001b[38;5;241m1\u001b[39m\u001b[38;5;241m-\u001b[39mnp\u001b[38;5;241m.\u001b[39msum(xw))\n\u001b[1;32m--> 438\u001b[0m vpures2\u001b[38;5;241m=\u001b[39m\u001b[43mvpures\u001b[49m\u001b[38;5;241;43m.\u001b[39;49m\u001b[43mdeepcopy\u001b[49m()\n\u001b[0;32m    439\u001b[0m vpures2[immobiles]\u001b[38;5;241m=\u001b[39m(vmol\u001b[38;5;241m-\u001b[39mnp\u001b[38;5;241m.\u001b[39msum(xw\u001b[38;5;241m*\u001b[39mvpures[mobiles]))\u001b[38;5;241m/\u001b[39m(\u001b[38;5;241m1\u001b[39m\u001b[38;5;241m-\u001b[39mnp\u001b[38;5;241m.\u001b[39msum(xw))\u001b[38;5;241m*\u001b[39mxidry[immobiles]\n\u001b[0;32m    440\u001b[0m lngid,lngres,_,lngw\u001b[38;5;241m=\u001b[39mSAFTSAC(T,wi,mi,sigi,ui,epsAiBi,kapi,N,vpures2,Mi,kij,kijA)\n",
      "\u001b[1;31mAttributeError\u001b[0m: 'numpy.ndarray' object has no attribute 'deepcopy'"
     ]
    }
   ],
   "source": [
    "def NETVLE(RH,ww):\n",
    "    wi=np.asarray([ww,(1-ww)*wi_immobiles[0],(1-ww)*wi_immobiles[1]])\n",
    "    xi=convert(wi[:,None],1./Mi)[:,0]\n",
    "    xw=xi[mobiles]\n",
    "    vmol=v0ASD/(1-ksws*RH**2)*(1-np.sum(xw))\n",
    "    # vpures[1]=xw/(1-xw)*(1-ksw*RH**2)/(ksw*RH**2)*vpures[0]\n",
    "    vpures[immobiles]=(vmol-np.sum(xw*vpures[mobiles]))/(1-np.sum(xw))*xi_immobiles\n",
    "    lngid,lngres,_,lngw=SAFTSAC(T,wi,mi,sigi,ui,epsAiBi,kapi,N,vpures,Mi,kij,kijA)\n",
    "    return lngid[mobiles]+lngres[mobiles]+lngw[mobiles]+np.log(ww)\n",
    "\n",
    "RHvec=[]\n",
    "wnet=np.linspace(0.01,0.4,npoint)\n",
    "for i,val in enumerate(wnet):\n",
    "    res=lambda RH : NETVLE(RH,val)-np.log(RH)\n",
    "    RHvec.append(root(res,val,method='broyden1')[\"x\"])\n",
    "RHvec=np.asarray(RHvec)\n",
    "\n",
    "\n",
    "from diffusionpy import vpure,lngi,SAFTSAC,NETVLE\n",
    "T=298.15\n",
    "p=1E5\n",
    "npoint=100\n",
    "DL=0.5\n",
    "ksw = 0.4279 #/ 0.03166**2\n",
    "v0p = 1/1506.704837\n",
    "polymer=np.asarray([False,True,False])\n",
    "mobile=np.asarray([True,False,False])\n",
    "vpures=vpure(p,T,mi,sigi,ui,epsAiBi,kapi,N)\n",
    "ww=np.linspace(0.01,0.4,npoint)\n",
    "RHvec=[]\n",
    "for i,vali in enumerate(ww):\n",
    "    wASD=(1-vali)\n",
    "    wi=np.asarray([vali,wASD*(1-DL),wASD*DL])\n",
    "    \n",
    "    RS=NETVLE(T,wi,v0p,mobile,polymer,ksw,mi,sigi,ui,epsAiBi,kapi,N,vpures,Mi,kij,kijA)\n",
    "    RHvec.append(RS[0])\n",
    "RHvec=np.asarray(RHvec)\n"
   ]
  },
  {
   "cell_type": "code",
   "execution_count": null,
   "id": "c4c8d67b",
   "metadata": {},
   "outputs": [],
   "source": [
    "\n",
    "\n",
    "font = {'weight' : 'normal',\n",
    "        'size'   : 12}\n",
    "plt.rc('font', **font)\n",
    "\n",
    "colorVLE = \"#99CC00\"\n",
    "\n",
    "fig, ax = plt.subplots(figsize = (6, 5), dpi = 300)\n",
    "fig.subplots_adjust(hspace=0.5, wspace=0.3)\n",
    "\n",
    "RHexp = [0.9868,0.9858,0.9787,0.9749,0.9724,0.9685,0.9576,0.9565,0.9563,0.9217,0.89,0.8519,0.7998,0.7529]\n",
    "wexp = [0.704,0.6808,0.6142,0.593,0.5808,0.5638,0.5162,0.5096,0.506,0.4175,0.3672,0.3193,0.275,0.246]\n",
    "RHexp =np.asarray([9.82332155477042, \n",
    "29.89399293286229, \n",
    "44.73498233215558, \n",
    "59.85865724381636, \n",
    "73.28621908127221, \n",
    "87.7031802120143])/100\n",
    "\n",
    "wexp = np.asarray([0.8158090091161938,\n",
    "2.412388276865684,\n",
    "3.6772277815721566,\n",
    "5.412417970722018,\n",
    "7.754075481782962,\n",
    "12.246162069068014])/100\n",
    "\n",
    "RHexp2 = [0.0924,0.2939,0.4449,0.599,0.7344,0.8781]\n",
    "wexp2 = [0.0274269,0.0821512,0.1275743,0.1764984,0.237775,0.3401576]\n",
    "\n",
    "\n",
    "w1vecnet=np.asarray([0,0.01010101,0.03030303,0.05050505050505051,0.07070707,0.08080808,0.1010101,0.15151515,0.2020202,0.2525252,0.29292929,0.32323232,0.35353535,0.36363636,0.37373737 ])\n",
    "\n",
    "RHvecnet=np.asarray([0,0.08918283177229723,0.13443607581986078,0.1760292767458166,0.23249529616442166,0.2672469998598751,0.339728603928366,0.5152843958145663,0.6584131146365886,0.7752373315670975,0.8549372175803867,0.9084896086230553,0.957630227423256,0.9732295774807403,0.9882587661995547])\n",
    "\n",
    "\n",
    "ax.plot(np.exp(lngammai[:,0]+np.log(w1)),w1, \"--\",color = colorVLE , \n",
    "        linewidth = 2.0, label = \"PC-SAFT\")\n",
    "ax.plot(RHvec,wnet, \"-.\",color = colorVLE , \n",
    "        linewidth = 2.0, label = \"NET-GP\")\n",
    "# ax.plot(RHvec[RHvec<RHvecnet],w1vec[RHvec<RHvecnet], \"-\",color = colorVLE , \n",
    "#         linewidth = 2.0, label = \"PC-SAFT+NET-GP\")\n",
    "# ax.plot(RHvecnet[RHvec>RHvecnet],w1vecnet[RHvec>RHvecnet], \"-\",color = colorVLE , \n",
    "#         linewidth = 2.0)\n",
    "\n",
    "\n",
    "ax.scatter(RHexp, wexp, s = 100, c = colorVLE, marker=\"^\", \n",
    "            linewidth=1.0, edgecolor='k', label = \"rubbery\")\n",
    "ax.scatter(RHexp2, wexp2, s = 100, c = colorVLE, marker=\"o\", \n",
    "            linewidth=1.0, edgecolor='k', label = \"glassy\")\n",
    "\n",
    "\n",
    "\n",
    "ax.legend(fontsize=\"small\")\n",
    "ax.set_ylabel('$w_w$ / -')\n",
    "ax.set_xlabel('$RH$ / -')\n",
    "ax.axis([0, 1., 0, 0.8])\n",
    "start, end = ax.get_xlim()\n",
    "ax.xaxis.set_ticks(np.linspace(start, end, 5))\n",
    "start, end = ax.get_ylim()\n",
    "ax.yaxis.set_ticks(np.linspace(start, end, 5))\n",
    "plt.show()"
   ]
  },
  {
   "cell_type": "code",
   "execution_count": null,
   "id": "b5c7dee7",
   "metadata": {},
   "outputs": [],
   "source": []
  },
  {
   "cell_type": "code",
   "execution_count": null,
   "id": "41abdf8d",
   "metadata": {},
   "outputs": [],
   "source": []
  }
 ],
 "metadata": {
  "kernelspec": {
   "display_name": "Python 3 (ipykernel)",
   "language": "python",
   "name": "python3"
  },
  "language_info": {
   "codemirror_mode": {
    "name": "ipython",
    "version": 3
   },
   "file_extension": ".py",
   "mimetype": "text/x-python",
   "name": "python",
   "nbconvert_exporter": "python",
   "pygments_lexer": "ipython3",
   "version": "3.11.4"
  },
  "vscode": {
   "interpreter": {
    "hash": "155058e36bf5ed4f47d0ce54cf51e48fed84b2ca3ed25a64d8425315b88e4e7c"
   }
  }
 },
 "nbformat": 4,
 "nbformat_minor": 5
}
