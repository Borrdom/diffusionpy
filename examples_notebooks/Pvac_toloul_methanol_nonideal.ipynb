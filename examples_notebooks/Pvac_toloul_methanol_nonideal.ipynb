{
 "cells": [
  {
   "attachments": {},
   "cell_type": "markdown",
   "metadata": {},
   "source": [
    "# Stefan-Maxwell diffusion involving three components\n"
   ]
  },
  {
   "attachments": {},
   "cell_type": "markdown",
   "metadata": {},
   "source": [
    "This example demonstrates the modeling of the multicomponent Stefan-Maxwell model involving three componentt.\n",
    "First we import the Stefan-Maxwell diffusion module"
   ]
  },
  {
   "cell_type": "code",
   "execution_count": 1,
   "metadata": {},
   "outputs": [],
   "source": [
    "import numpy as np\n",
    "from diffusionpy import Diffusion_MS\n",
    "import matplotlib.pyplot as plt\n",
    "from epcsaftpy import THdiag,component,pcsaft"
   ]
  },
  {
   "attachments": {},
   "cell_type": "markdown",
   "metadata": {},
   "source": [
    "The experimental data for this example was taken from Schabel 2006 (https://doi.org/10.1016/j.ces.2006.12.062)"
   ]
  },
  {
   "cell_type": "code",
   "execution_count": 2,
   "metadata": {},
   "outputs": [],
   "source": [
    "texp=np.asarray([0,4.427792916,14.50035208,23.87257753,33.76909653,45.58674953,58.69408811,71.80142669,91.44521324,120.9089796,147.0930411,177.8656278,212.5493678,264.9136638,429.8518201])\n",
    "\n",
    "wpvac=np.asarray([0.333333333,0.397028757,0.559683846,0.704648614,0.763915741,0.791401827,0.801167219,0.822653035,0.830878575,0.841458325,0.846286716,0.857199094,0.851138308,0.858388537,0.8723936549])\n",
    "\n",
    "wtol=np.asarray([0.333333333,0.361083897,0.34858624,0.273123698,0.22781745,0.202716913,0.188759833,0.17692216,0.169121425,0.158541675,0.153713284,0.142800906,0.143816828,0.137082518,0.123003508])\n",
    "\n",
    "wmet=np.asarray([0.333333333,0.241887346,0.091729914,0.022227687,0.008266808,0.00588126,0.010072947,0.000424805,0,0,0,0,0,0,0])"
   ]
  },
  {
   "attachments": {},
   "cell_type": "markdown",
   "metadata": {},
   "source": [
    "We want to describe the diffusion of water into an ASD film. The ASD-water mixture is a ternary system. First we define starting and equilibrium weight fractions."
   ]
  },
  {
   "cell_type": "code",
   "execution_count": 3,
   "metadata": {},
   "outputs": [],
   "source": [
    "nc=3\n",
    "L=2E-5\n",
    "wi0=np.asarray([0.333333333,0.333333333,0.333333333])\n",
    "wi8=np.asarray([0.00001,0.127606346,0.872393654])\n",
    "Mi=np.asarray([32.04,92.14,100000])\n",
    "T=298.15\n",
    "P=1E5\n"
   ]
  },
  {
   "attachments": {},
   "cell_type": "markdown",
   "metadata": {},
   "source": [
    "We define the PC-SAFT parameters"
   ]
  },
  {
   "cell_type": "code",
   "execution_count": 4,
   "metadata": {},
   "outputs": [],
   "source": [
    "PVac = component('PVac', ms = 2889.9, sigma = 3.3972, eps = 204.65,\n",
    "                 kappaAB = 0., eAB = 0., sites = [0, 1047, 1047], Mw = 90000)\n",
    "Methanol = component('Methanol', ms = 1.5255, sigma = 3.23 , eps = 188.9, \n",
    "               kappaAB = 0.035176, eAB = 2899.5, sites = [0, 1, 1], Mw = 32.042)\n",
    "Toloul = component('Toloul', ms = 2.8149, sigma = 3.7169 , eps = 285.69, \n",
    "               kappaAB = 0., eAB = 0., sites = [0, 0, 0], Mw = 92.142)\n",
    "mix = Methanol + Toloul + PVac \n",
    "saft = pcsaft(mix, compute_critical = False)\n"
   ]
  },
  {
   "attachments": {},
   "cell_type": "markdown",
   "metadata": {},
   "source": [
    "For a the diffusion of three components, three binary diffusion coefficients need to be defined"
   ]
  },
  {
   "attachments": {},
   "cell_type": "markdown",
   "metadata": {},
   "source": [
    "\n",
    "$\\hat{Ð} =$ \n",
    "$\\left[\\begin{array}{rrr} \n",
    "0 & Ð_{12} & Ð_{13} \\\\ \n",
    "0 & 0 & Ð_{23} \\\\ \n",
    "0 & 0 & 0 \\\\ \n",
    "\\end{array}\\right]$\n",
    "\n",
    "$Ð_{vec} = \\left[\\begin{array}{rrr} Ð_{12} & Ð_{13} & Ð_{23} \\end{array}\\right]$"
   ]
  },
  {
   "cell_type": "code",
   "execution_count": 5,
   "metadata": {},
   "outputs": [],
   "source": [
    "Dvec=np.asarray([1E-8,2.3E-11,1.7E-11])"
   ]
  },
  {
   "attachments": {},
   "cell_type": "markdown",
   "metadata": {},
   "source": [
    "Next we define the time array and which component is mobile"
   ]
  },
  {
   "cell_type": "code",
   "execution_count": 6,
   "metadata": {},
   "outputs": [],
   "source": [
    "nt=300\n",
    "t=np.linspace(0,texp[-1],nt)\n",
    "volatile=np.asarray([True,True,False])"
   ]
  },
  {
   "cell_type": "code",
   "execution_count": 7,
   "metadata": {},
   "outputs": [
    {
     "name": "stdout",
     "output_type": "stream",
     "text": [
      "------------- Diffusion modeling took 0.6035829 seconds ----------------\n"
     ]
    }
   ],
   "source": [
    "wt=Diffusion_MS(t,L,Dvec,wi0,wi8,Mi,volatile)"
   ]
  },
  {
   "cell_type": "code",
   "execution_count": 12,
   "metadata": {},
   "outputs": [
    {
     "name": "stdout",
     "output_type": "stream",
     "text": [
      "[[-1.38924984e+02  4.82202581e+02 -4.29208916e+02]\n",
      " [-1.48930202e+02  4.48956286e+02 -4.02550951e+02]\n",
      " [-1.46915484e+02  4.01870974e+02 -3.47621264e+02]\n",
      " [-1.41126839e+02  3.50615814e+02 -2.79132688e+02]\n",
      " [-1.32351869e+02  2.99352888e+02 -2.02993927e+02]\n",
      " [-1.21419306e+02  2.51194001e+02 -1.23568408e+02]\n",
      " [-1.09140549e+02  2.07965829e+02 -4.41586939e+01]\n",
      " [-9.62663036e+01  1.70477204e+02  3.27592536e+01]\n",
      " [-8.34430621e+01  1.38800483e+02  1.05435716e+02]\n",
      " [-7.11806974e+01  1.12537982e+02  1.72758286e+02]\n",
      " [-5.98404318e+01  9.10474733e+01  2.34145829e+02]\n",
      " [-4.96421333e+01  7.36071119e+01  2.89432394e+02]\n",
      " [-4.06849288e+01  5.95186043e+01  3.38754052e+02]\n",
      " [-3.29742125e+01  4.81602532e+01  3.82448802e+02]\n",
      " [-2.64493709e+01  3.90057393e+01  4.20974812e+02]\n",
      " [-2.10085445e+01  3.16229748e+01  4.54847993e+02]\n",
      " [-1.65285925e+01  2.56634219e+01  4.84597361e+02]\n",
      " [-1.28798311e+01  2.08483118e+01  5.10735334e+02]\n",
      " [-9.93611926e+00  1.69553674e+01  5.33738957e+02]\n",
      " [-7.58077195e+00  1.38069208e+01  5.54041242e+02]\n",
      " [-5.70988623e+00  1.12607054e+01  5.72026418e+02]\n",
      " [-4.23335726e+00  9.20226553e+00  5.88030636e+02]\n",
      " [-3.07468868e+00  7.53920548e+00  6.02344394e+02]\n",
      " [-2.17005721e+00  6.19679900e+00  6.15216053e+02]\n",
      " [-1.46685087e+00  5.11436836e+00  6.26856893e+02]\n",
      " [-9.22216638e-01  4.24263955e+00  6.37445350e+02]\n",
      " [-5.01559722e-01  3.54153924e+00  6.47131586e+02]\n",
      " [-1.77195991e-01  2.97848812e+00  6.56041460e+02]\n",
      " [ 7.28539974e-02  2.52700200e+00  6.64280168e+02]\n",
      " [ 2.65895676e-01  2.16557009e+00  6.71935387e+02]\n",
      " [ 4.15433495e-01  1.87673762e+00  6.79080006e+02]\n",
      " [ 5.31900279e-01  1.64635863e+00  6.85774465e+02]\n",
      " [ 6.23266145e-01  1.46298284e+00  6.92068770e+02]\n",
      " [ 6.95546852e-01  1.31735413e+00  6.98004233e+02]\n",
      " [ 7.53229902e-01  1.20199970e+00  7.03614992e+02]\n",
      " [ 7.99631202e-01  1.11089408e+00  7.08929330e+02]\n",
      " [ 8.37190683e-01  1.03918440e+00  7.13970835e+02]\n",
      " [ 8.67710802e-01  9.82967488e-01  7.18759384e+02]\n",
      " [ 8.92542813e-01  9.39107028e-01  7.23311963e+02]\n",
      " [ 9.12724338e-01  9.05086039e-01  7.27643326e+02]\n",
      " [ 9.29075857e-01  8.78886725e-01  7.31766499e+02]\n",
      " [ 9.42264105e-01  8.58893928e-01  7.35693148e+02]\n",
      " [ 9.52843017e-01  8.43814887e-01  7.39433857e+02]\n",
      " [ 9.61277684e-01  8.32617062e-01  7.42998314e+02]\n",
      " [ 9.67960050e-01  8.24476431e-01  7.46395449e+02]\n",
      " [ 9.73219867e-01  8.18735455e-01  7.49633544e+02]\n",
      " [ 9.77332270e-01  8.14870968e-01  7.52720307e+02]\n",
      " [ 9.80525069e-01  8.12467048e-01  7.55662940e+02]\n",
      " [ 9.82985395e-01  8.11193264e-01  7.58468196e+02]\n",
      " [ 9.84865686e-01  8.10787516e-01  7.61142430e+02]\n",
      " [ 9.86289067e-01  8.11042452e-01  7.63691638e+02]\n",
      " [ 9.87354401e-01  8.11794200e-01  7.66121491e+02]\n",
      " [ 9.88140563e-01  8.12913608e-01  7.68437371e+02]\n",
      " [ 9.88710162e-01  8.14299149e-01  7.70644394e+02]\n",
      " [ 9.89112651e-01  8.15871298e-01  7.72747432e+02]\n",
      " [ 9.89386951e-01  8.17567965e-01  7.74751135e+02]\n",
      " [ 9.89563559e-01  8.19340942e-01  7.76659944e+02]\n",
      " [ 9.89666300e-01  8.21152997e-01  7.78478108e+02]\n",
      " [ 9.89713709e-01  8.22975605e-01  7.80209691e+02]\n",
      " [ 9.89720166e-01  8.24787101e-01  7.81858589e+02]\n",
      " [ 9.89696775e-01  8.26571252e-01  7.83428531e+02]\n",
      " [ 9.89652079e-01  8.28316081e-01  7.84923093e+02]\n",
      " [ 9.89592618e-01  8.30012965e-01  7.86345702e+02]\n",
      " [ 9.89523367e-01  8.31655901e-01  7.87699643e+02]\n",
      " [ 9.89448085e-01  8.33240929e-01  7.88988063e+02]\n",
      " [ 9.89369600e-01  8.34765652e-01  7.90213979e+02]\n",
      " [ 9.89290013e-01  8.36228885e-01  7.91380281e+02]\n",
      " [ 9.89210856e-01  8.37630390e-01  7.92489737e+02]\n",
      " [ 9.89133224e-01  8.38970646e-01  7.93544998e+02]\n",
      " [ 9.89057881e-01  8.40250658e-01  7.94548601e+02]\n",
      " [ 9.88985346e-01  8.41471810e-01  7.95502975e+02]\n",
      " [ 9.88915949e-01  8.42635760e-01  7.96410444e+02]\n",
      " [ 9.88849875e-01  8.43744363e-01  7.97273228e+02]\n",
      " [ 9.88787204e-01  8.44799598e-01  7.98093453e+02]\n",
      " [ 9.88727935e-01  8.45803524e-01  7.98873149e+02]\n",
      " [ 9.88672013e-01  8.46758229e-01  7.99614255e+02]\n",
      " [ 9.88619344e-01  8.47665809e-01  8.00318624e+02]\n",
      " [ 9.88569815e-01  8.48528319e-01  8.00988027e+02]\n",
      " [ 9.88523284e-01  8.49347805e-01  8.01624152e+02]\n",
      " [ 9.88479617e-01  8.50126228e-01  8.02228611e+02]\n",
      " [ 9.88438657e-01  8.50865529e-01  8.02802943e+02]\n",
      " [ 9.88400251e-01  8.51567572e-01  8.03348615e+02]\n",
      " [ 9.88364247e-01  8.52234160e-01  8.03867025e+02]\n",
      " [ 9.88330497e-01  8.52867025e-01  8.04359507e+02]\n",
      " [ 9.88298858e-01  8.53467828e-01  8.04827331e+02]\n",
      " [ 9.88269191e-01  8.54038162e-01  8.05271708e+02]\n",
      " [ 9.88241379e-01  8.54579523e-01  8.05693794e+02]\n",
      " [ 9.88215290e-01  8.55093379e-01  8.06094685e+02]\n",
      " [ 9.88190811e-01  8.55581109e-01  8.06475426e+02]\n",
      " [ 9.88167859e-01  8.56043981e-01  8.06837023e+02]\n",
      " [ 9.88146316e-01  8.56483282e-01  8.07180418e+02]\n",
      " [ 9.88126091e-01  8.56900200e-01  8.07506514e+02]\n",
      " [ 9.88107118e-01  8.57295830e-01  8.07816182e+02]\n",
      " [ 9.88089299e-01  8.57671278e-01  8.08110230e+02]\n",
      " [ 9.88072560e-01  8.58027569e-01  8.08389439e+02]\n",
      " [ 9.88056833e-01  8.58365673e-01  8.08654556e+02]\n",
      " [ 9.88042049e-01  8.58686516e-01  8.08906277e+02]\n",
      " [ 9.88028144e-01  8.58990987e-01  8.09145276e+02]\n",
      " [ 9.88015057e-01  8.59279931e-01  8.09372190e+02]\n",
      " [ 9.88002739e-01  8.59554127e-01  8.09587622e+02]\n",
      " [ 9.87991138e-01  8.59814334e-01  8.09792149e+02]\n",
      " [ 9.87980207e-01  8.60061269e-01  8.09986320e+02]\n",
      " [ 9.87969906e-01  8.60295603e-01  8.10170651e+02]\n",
      " [ 9.87960196e-01  8.60517978e-01  8.10345639e+02]\n",
      " [ 9.87951044e-01  8.60728999e-01  8.10511758e+02]\n",
      " [ 9.87942412e-01  8.60929248e-01  8.10669449e+02]\n",
      " [ 9.87934271e-01  8.61119271e-01  8.10819139e+02]\n",
      " [ 9.87926593e-01  8.61299590e-01  8.10961235e+02]\n",
      " [ 9.87919347e-01  8.61470698e-01  8.11096115e+02]\n",
      " [ 9.87912509e-01  8.61633069e-01  8.11224147e+02]\n",
      " [ 9.87906052e-01  8.61787153e-01  8.11345677e+02]\n",
      " [ 9.87899955e-01  8.61933366e-01  8.11461032e+02]\n",
      " [ 9.87894194e-01  8.62072116e-01  8.11570524e+02]\n",
      " [ 9.87888750e-01  8.62203788e-01  8.11674452e+02]\n",
      " [ 9.87883606e-01  8.62328736e-01  8.11773096e+02]\n",
      " [ 9.87878742e-01  8.62447307e-01  8.11866723e+02]\n",
      " [ 9.87874143e-01  8.62559826e-01  8.11955589e+02]\n",
      " [ 9.87869794e-01  8.62666602e-01  8.12039933e+02]\n",
      " [ 9.87865682e-01  8.62767925e-01  8.12119986e+02]\n",
      " [ 9.87861793e-01  8.62864075e-01  8.12195966e+02]\n",
      " [ 9.87858113e-01  8.62955315e-01  8.12268078e+02]\n",
      " [ 9.87854633e-01  8.63041896e-01  8.12336519e+02]\n",
      " [ 9.87851340e-01  8.63124056e-01  8.12401477e+02]\n",
      " [ 9.87848224e-01  8.63202021e-01  8.12463126e+02]\n",
      " [ 9.87845274e-01  8.63276005e-01  8.12521636e+02]\n",
      " [ 9.87842482e-01  8.63346211e-01  8.12577166e+02]\n",
      " [ 9.87839839e-01  8.63412828e-01  8.12629865e+02]\n",
      " [ 9.87837338e-01  8.63476042e-01  8.12679878e+02]\n",
      " [ 9.87834968e-01  8.63536030e-01  8.12727343e+02]\n",
      " [ 9.87832723e-01  8.63592961e-01  8.12772392e+02]\n",
      " [ 9.87830598e-01  8.63646974e-01  8.12815139e+02]\n",
      " [ 9.87828586e-01  8.63698225e-01  8.12855705e+02]\n",
      " [ 9.87826679e-01  8.63746860e-01  8.12894203e+02]\n",
      " [ 9.87824871e-01  8.63793019e-01  8.12930741e+02]\n",
      " [ 9.87823158e-01  8.63836826e-01  8.12965419e+02]\n",
      " [ 9.87821535e-01  8.63878385e-01  8.12998322e+02]\n",
      " [ 9.87819997e-01  8.63917823e-01  8.13029547e+02]\n",
      " [ 9.87818539e-01  8.63955252e-01  8.13059183e+02]\n",
      " [ 9.87817156e-01  8.63990779e-01  8.13087314e+02]\n",
      " [ 9.87815845e-01  8.64024489e-01  8.13114006e+02]\n",
      " [ 9.87814603e-01  8.64056476e-01  8.13139337e+02]\n",
      " [ 9.87813425e-01  8.64086833e-01  8.13163378e+02]\n",
      " [ 9.87812308e-01  8.64115644e-01  8.13186195e+02]\n",
      " [ 9.87811250e-01  8.64142988e-01  8.13207851e+02]\n",
      " [ 9.87810246e-01  8.64168933e-01  8.13228401e+02]\n",
      " [ 9.87809294e-01  8.64193554e-01  8.13247904e+02]\n",
      " [ 9.87808392e-01  8.64216920e-01  8.13266413e+02]\n",
      " [ 9.87807537e-01  8.64239094e-01  8.13283979e+02]\n",
      " [ 9.87806726e-01  8.64260135e-01  8.13300648e+02]\n",
      " [ 9.87805957e-01  8.64280101e-01  8.13316467e+02]\n",
      " [ 9.87805229e-01  8.64299048e-01  8.13331479e+02]\n",
      " [ 9.87804537e-01  8.64317028e-01  8.13345726e+02]\n",
      " [ 9.87803882e-01  8.64334092e-01  8.13359246e+02]\n",
      " [ 9.87803260e-01  8.64350281e-01  8.13372075e+02]\n",
      " [ 9.87802671e-01  8.64365644e-01  8.13384249e+02]\n",
      " [ 9.87802112e-01  8.64380223e-01  8.13395802e+02]\n",
      " [ 9.87801581e-01  8.64394059e-01  8.13406766e+02]\n",
      " [ 9.87801078e-01  8.64407189e-01  8.13417171e+02]\n",
      " [ 9.87800600e-01  8.64419647e-01  8.13427043e+02]\n",
      " [ 9.87800148e-01  8.64431469e-01  8.13436412e+02]\n",
      " [ 9.87799718e-01  8.64442689e-01  8.13445304e+02]\n",
      " [ 9.87799310e-01  8.64453338e-01  8.13453744e+02]\n",
      " [ 9.87798924e-01  8.64463442e-01  8.13461751e+02]\n",
      " [ 9.87798557e-01  8.64473030e-01  8.13469350e+02]\n",
      " [ 9.87798209e-01  8.64482129e-01  8.13476561e+02]\n",
      " [ 9.87797879e-01  8.64490765e-01  8.13483405e+02]\n",
      " [ 9.87797566e-01  8.64498960e-01  8.13489901e+02]\n",
      " [ 9.87797269e-01  8.64506736e-01  8.13496064e+02]\n",
      " [ 9.87796987e-01  8.64514115e-01  8.13501913e+02]\n",
      " [ 9.87796720e-01  8.64521118e-01  8.13507464e+02]\n",
      " [ 9.87796466e-01  8.64527764e-01  8.13512732e+02]\n",
      " [ 9.87796226e-01  8.64534068e-01  8.13517729e+02]\n",
      " [ 9.87795998e-01  8.64540050e-01  8.13522471e+02]\n",
      " [ 9.87795782e-01  8.64545725e-01  8.13526970e+02]\n",
      " [ 9.87795577e-01  8.64551110e-01  8.13531240e+02]\n",
      " [ 9.87795382e-01  8.64556221e-01  8.13535291e+02]\n",
      " [ 9.87795198e-01  8.64561071e-01  8.13539136e+02]\n",
      " [ 9.87795022e-01  8.64565676e-01  8.13542787e+02]\n",
      " [ 9.87794856e-01  8.64570039e-01  8.13546245e+02]\n",
      " [ 9.87794699e-01  8.64574176e-01  8.13549526e+02]\n",
      " [ 9.87794549e-01  8.64578102e-01  8.13552638e+02]\n",
      " [ 9.87794408e-01  8.64581828e-01  8.13555592e+02]\n",
      " [ 9.87794273e-01  8.64585364e-01  8.13558395e+02]\n",
      " [ 9.87794145e-01  8.64588723e-01  8.13561058e+02]\n",
      " [ 9.87794023e-01  8.64591915e-01  8.13563588e+02]\n",
      " [ 9.87793908e-01  8.64594934e-01  8.13565981e+02]\n",
      " [ 9.87793799e-01  8.64597798e-01  8.13568252e+02]\n",
      " [ 9.87793696e-01  8.64600517e-01  8.13570407e+02]\n",
      " [ 9.87793598e-01  8.64603097e-01  8.13572452e+02]\n",
      " [ 9.87793504e-01  8.64605548e-01  8.13574395e+02]\n",
      " [ 9.87793415e-01  8.64607878e-01  8.13576241e+02]\n",
      " [ 9.87793331e-01  8.64610092e-01  8.13577996e+02]\n",
      " [ 9.87793251e-01  8.64612187e-01  8.13579657e+02]\n",
      " [ 9.87793175e-01  8.64614176e-01  8.13581233e+02]\n",
      " [ 9.87793103e-01  8.64616064e-01  8.13582730e+02]\n",
      " [ 9.87793035e-01  8.64617857e-01  8.13584151e+02]\n",
      " [ 9.87792970e-01  8.64619560e-01  8.13585500e+02]\n",
      " [ 9.87792908e-01  8.64621178e-01  8.13586783e+02]\n",
      " [ 9.87792850e-01  8.64622715e-01  8.13588001e+02]\n",
      " [ 9.87792794e-01  8.64624172e-01  8.13589156e+02]\n",
      " [ 9.87792742e-01  8.64625555e-01  8.13590253e+02]\n",
      " [ 9.87792692e-01  8.64626868e-01  8.13591293e+02]\n",
      " [ 9.87792644e-01  8.64628114e-01  8.13592282e+02]\n",
      " [ 9.87792599e-01  8.64629297e-01  8.13593220e+02]\n",
      " [ 9.87792557e-01  8.64630421e-01  8.13594110e+02]\n",
      " [ 9.87792516e-01  8.64631487e-01  8.13594956e+02]\n",
      " [ 9.87792478e-01  8.64632498e-01  8.13595758e+02]\n",
      " [ 9.87792441e-01  8.64633458e-01  8.13596519e+02]\n",
      " [ 9.87792407e-01  8.64634369e-01  8.13597241e+02]\n",
      " [ 9.87792374e-01  8.64635233e-01  8.13597926e+02]\n",
      " [ 9.87792343e-01  8.64636053e-01  8.13598577e+02]\n",
      " [ 9.87792313e-01  8.64636832e-01  8.13599194e+02]\n",
      " [ 9.87792285e-01  8.64637570e-01  8.13599779e+02]\n",
      " [ 9.87792259e-01  8.64638267e-01  8.13600332e+02]\n",
      " [ 9.87792234e-01  8.64638928e-01  8.13600856e+02]\n",
      " [ 9.87792210e-01  8.64639554e-01  8.13601352e+02]\n",
      " [ 9.87792188e-01  8.64640146e-01  8.13601822e+02]\n",
      " [ 9.87792167e-01  8.64640708e-01  8.13602268e+02]\n",
      " [ 9.87792146e-01  8.64641241e-01  8.13602690e+02]\n",
      " [ 9.87792127e-01  8.64641747e-01  8.13603091e+02]\n",
      " [ 9.87792109e-01  8.64642227e-01  8.13603473e+02]\n",
      " [ 9.87792092e-01  8.64642685e-01  8.13603836e+02]\n",
      " [ 9.87792075e-01  8.64643123e-01  8.13604183e+02]\n",
      " [ 9.87792059e-01  8.64643531e-01  8.13604506e+02]\n",
      " [ 9.87792045e-01  8.64643912e-01  8.13604808e+02]\n",
      " [ 9.87792031e-01  8.64644272e-01  8.13605094e+02]\n",
      " [ 9.87792018e-01  8.64644613e-01  8.13605364e+02]\n",
      " [ 9.87792006e-01  8.64644936e-01  8.13605620e+02]\n",
      " [ 9.87791995e-01  8.64645242e-01  8.13605863e+02]\n",
      " [ 9.87791984e-01  8.64645534e-01  8.13606094e+02]\n",
      " [ 9.87791973e-01  8.64645812e-01  8.13606315e+02]\n",
      " [ 9.87791963e-01  8.64646079e-01  8.13606527e+02]\n",
      " [ 9.87791953e-01  8.64646337e-01  8.13606731e+02]\n",
      " [ 9.87791943e-01  8.64646588e-01  8.13606930e+02]\n",
      " [ 9.87791935e-01  8.64646811e-01  8.13607106e+02]\n",
      " [ 9.87791927e-01  8.64647021e-01  8.13607273e+02]\n",
      " [ 9.87791919e-01  8.64647221e-01  8.13607431e+02]\n",
      " [ 9.87791912e-01  8.64647411e-01  8.13607582e+02]\n",
      " [ 9.87791905e-01  8.64647592e-01  8.13607725e+02]\n",
      " [ 9.87791898e-01  8.64647764e-01  8.13607862e+02]\n",
      " [ 9.87791892e-01  8.64647930e-01  8.13607994e+02]\n",
      " [ 9.87791886e-01  8.64648090e-01  8.13608120e+02]\n",
      " [ 9.87791880e-01  8.64648244e-01  8.13608243e+02]\n",
      " [ 9.87791874e-01  8.64648395e-01  8.13608362e+02]\n",
      " [ 9.87791869e-01  8.64648540e-01  8.13608477e+02]\n",
      " [ 9.87791864e-01  8.64648671e-01  8.13608581e+02]\n",
      " [ 9.87791859e-01  8.64648797e-01  8.13608680e+02]\n",
      " [ 9.87791854e-01  8.64648917e-01  8.13608775e+02]\n",
      " [ 9.87791850e-01  8.64649032e-01  8.13608866e+02]\n",
      " [ 9.87791846e-01  8.64649141e-01  8.13608953e+02]\n",
      " [ 9.87791842e-01  8.64649247e-01  8.13609036e+02]\n",
      " [ 9.87791838e-01  8.64649348e-01  8.13609117e+02]\n",
      " [ 9.87791834e-01  8.64649445e-01  8.13609193e+02]\n",
      " [ 9.87791830e-01  8.64649538e-01  8.13609267e+02]\n",
      " [ 9.87791827e-01  8.64649628e-01  8.13609338e+02]\n",
      " [ 9.87791824e-01  8.64649714e-01  8.13609406e+02]\n",
      " [ 9.87791821e-01  8.64649795e-01  8.13609471e+02]\n",
      " [ 9.87791818e-01  8.64649873e-01  8.13609532e+02]\n",
      " [ 9.87791815e-01  8.64649947e-01  8.13609591e+02]\n",
      " [ 9.87791812e-01  8.64650018e-01  8.13609647e+02]\n",
      " [ 9.87791810e-01  8.64650085e-01  8.13609701e+02]\n",
      " [ 9.87791807e-01  8.64650150e-01  8.13609752e+02]\n",
      " [ 9.87791805e-01  8.64650211e-01  8.13609800e+02]\n",
      " [ 9.87791803e-01  8.64650268e-01  8.13609846e+02]\n",
      " [ 9.87791801e-01  8.64650323e-01  8.13609889e+02]\n",
      " [ 9.87791799e-01  8.64650374e-01  8.13609930e+02]\n",
      " [ 9.87791797e-01  8.64650423e-01  8.13609969e+02]\n",
      " [ 9.87791795e-01  8.64650470e-01  8.13610006e+02]\n",
      " [ 9.87791793e-01  8.64650514e-01  8.13610041e+02]\n",
      " [ 9.87791792e-01  8.64650556e-01  8.13610074e+02]\n",
      " [ 9.87791790e-01  8.64650596e-01  8.13610105e+02]\n",
      " [ 9.87791789e-01  8.64650633e-01  8.13610135e+02]\n",
      " [ 9.87791787e-01  8.64650668e-01  8.13610163e+02]\n",
      " [ 9.87791786e-01  8.64650701e-01  8.13610189e+02]\n",
      " [ 9.87791785e-01  8.64650732e-01  8.13610214e+02]\n",
      " [ 9.87791784e-01  8.64650762e-01  8.13610238e+02]\n",
      " [ 9.87791783e-01  8.64650791e-01  8.13610260e+02]\n",
      " [ 9.87791782e-01  8.64650816e-01  8.13610280e+02]\n",
      " [ 9.87791781e-01  8.64650840e-01  8.13610299e+02]\n",
      " [ 9.87791780e-01  8.64650862e-01  8.13610317e+02]\n",
      " [ 9.87791779e-01  8.64650883e-01  8.13610334e+02]\n",
      " [ 9.87791779e-01  8.64650903e-01  8.13610349e+02]\n",
      " [ 9.87791778e-01  8.64650922e-01  8.13610364e+02]\n",
      " [ 9.87791777e-01  8.64650940e-01  8.13610378e+02]\n",
      " [ 9.87791776e-01  8.64650957e-01  8.13610392e+02]\n",
      " [ 9.87791776e-01  8.64650974e-01  8.13610405e+02]\n",
      " [ 9.87791775e-01  8.64650991e-01  8.13610419e+02]\n",
      " [ 9.87791775e-01  8.64651006e-01  8.13610431e+02]\n",
      " [ 9.87791774e-01  8.64651020e-01  8.13610442e+02]\n",
      " [ 9.87791774e-01  8.64651033e-01  8.13610452e+02]\n",
      " [ 9.87791773e-01  8.64651045e-01  8.13610462e+02]\n",
      " [ 9.87791773e-01  8.64651057e-01  8.13610471e+02]\n",
      " [ 9.87791772e-01  8.64651068e-01  8.13610480e+02]\n",
      " [ 9.87791772e-01  8.64651079e-01  8.13610489e+02]\n",
      " [ 9.87791771e-01  8.64651090e-01  8.13610497e+02]\n",
      " [ 9.87791771e-01  8.64651100e-01  8.13610505e+02]\n",
      " [ 9.87791771e-01  8.64651111e-01  8.13610514e+02]\n",
      " [ 9.87791770e-01  8.64651121e-01  8.13610522e+02]\n",
      " [ 9.87791770e-01  8.64651131e-01  8.13610530e+02]\n",
      " [ 9.87791769e-01  8.64651141e-01  8.13610538e+02]]\n"
     ]
    },
    {
     "data": {
      "text/plain": [
       "[<matplotlib.lines.Line2D at 0x1775b793d60>]"
      ]
     },
     "execution_count": 12,
     "metadata": {},
     "output_type": "execute_result"
    },
    {
     "data": {
      "image/png": "[encoded data removed]",
      "text/plain": [
       "<Figure size 432x288 with 1 Axes>"
      ]
     },
     "metadata": {
      "needs_background": "light"
     },
     "output_type": "display_data"
    }
   ],
   "source": [
    "THii=[]\n",
    "for i in range(nt):\n",
    "    wit=wt[i,:]\n",
    "    xit=wit/saft.Mw/(wit/saft.Mw).sum()\n",
    "    THii.append(THdiag(xit,T,P,saft)/(1-wit)*(1-xit))\n",
    "THii=np.asarray(THii)\n",
    "print(THii)\n",
    "plt.plot(wt[:,1],THii[:,1])"
   ]
  },
  {
   "attachments": {},
   "cell_type": "markdown",
   "metadata": {},
   "source": [
    "We plot the results"
   ]
  },
  {
   "cell_type": "code",
   "execution_count": 9,
   "metadata": {},
   "outputs": [
    {
     "data": {
      "image/png": "[encoded data removed]",
      "text/plain": [
       "<Figure size 1000x800 with 1 Axes>"
      ]
     },
     "metadata": {
      "needs_background": "light"
     },
     "output_type": "display_data"
    }
   ],
   "source": [
    "\n",
    "font = {'weight' : 'normal',\n",
    "        'size'   : 12}\n",
    "plt.rc('font', **font)\n",
    "\n",
    "color1 = \"#99CC00\"\n",
    "color2 = \"#F08208\"\n",
    "color3 = \"#99CDE9\"\n",
    "\n",
    "fig, ax = plt.subplots(figsize=(5, 4), dpi = 200)\n",
    "fig.subplots_adjust(hspace=0.5, wspace=0.3)\n",
    "\n",
    "\n",
    "ax.plot(t,wt[:,0], \"-\",color = color1 , \n",
    "        linewidth = 2.0, label = \"wMet\")\n",
    "ax.plot(t,wt[:,1], \"-\",color = color2 , \n",
    "        linewidth = 2.0, label = \"wTol\")\n",
    "ax.plot(t,wt[:,2], \"-\",color = color3 , \n",
    "        linewidth = 2.0, label = \"wPVAc\")\n",
    "\n",
    "ax.plot(texp,wmet, \"o\",color = color1 , \n",
    "        linewidth = 2.0, label = \"wMet\")\n",
    "ax.plot(texp,wtol, \"o\",color = color2 , \n",
    "        linewidth = 2.0, label = \"wTol\")\n",
    "ax.plot(texp,wpvac, \"o\",color = color3 , \n",
    "        linewidth = 2.0, label = \"wPVAc\")\n",
    "\n",
    "\n",
    "ax.legend(fontsize=\"small\")\n",
    "ax.set_xlabel('$t$ / s')\n",
    "ax.set_ylabel('$wi$ / -')\n",
    "ax.axis([0, 300., 0., 1.])\n",
    "start, end = ax.get_xlim()\n",
    "ax.xaxis.set_ticks(np.linspace(start, end, 5))\n",
    "start, end = ax.get_ylim()\n",
    "ax.yaxis.set_ticks(np.linspace(start, end, 5))\n",
    "plt.show()"
   ]
  }
 ],
 "metadata": {
  "kernelspec": {
   "display_name": "Python 3",
   "language": "python",
   "name": "python3"
  },
  "language_info": {
   "codemirror_mode": {
    "name": "ipython",
    "version": 3
   },
   "file_extension": ".py",
   "mimetype": "text/x-python",
   "name": "python",
   "nbconvert_exporter": "python",
   "pygments_lexer": "ipython3",
   "version": "3.9.13"
  },
  "orig_nbformat": 4,
  "vscode": {
   "interpreter": {
    "hash": "155058e36bf5ed4f47d0ce54cf51e48fed84b2ca3ed25a64d8425315b88e4e7c"
   }
  }
 },
 "nbformat": 4,
 "nbformat_minor": 2
}
