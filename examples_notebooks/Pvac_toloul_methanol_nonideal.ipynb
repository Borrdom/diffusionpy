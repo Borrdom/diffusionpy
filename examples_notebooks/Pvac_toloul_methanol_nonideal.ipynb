{
 "cells": [
  {
   "cell_type": "markdown",
   "metadata": {},
   "source": [
    "# Stefan-Maxwell diffusion involving three components\n"
   ]
  },
  {
   "cell_type": "markdown",
   "metadata": {},
   "source": [
    "This example demonstrates the modeling of the multicomponent Stefan-Maxwell model involving three componentt.\n",
    "First we import the Stefan-Maxwell diffusion module"
   ]
  },
  {
   "cell_type": "code",
   "execution_count": 9,
   "metadata": {},
   "outputs": [],
   "source": [
    "import numpy as np\n",
    "from numba import config\n",
    "config.DISABLE_JIT = True\n",
    "from diffusionpy import Diffusion_MS,SAFTSAC,THFaktor,vpure\n",
    "import matplotlib.pyplot as plt\n",
    "from epcsaftpy import THdiag,component,pcsaft"
   ]
  },
  {
   "cell_type": "markdown",
   "metadata": {},
   "source": [
    "The experimental data for this example was taken from Schabel 2006 (https://doi.org/10.1016/j.ces.2006.12.062)"
   ]
  },
  {
   "cell_type": "code",
   "execution_count": 10,
   "metadata": {},
   "outputs": [],
   "source": [
    "texp=np.asarray([0,4.427792916,14.50035208,23.87257753,33.76909653,45.58674953,58.69408811,71.80142669,91.44521324,120.9089796,147.0930411,177.8656278,212.5493678,264.9136638,429.8518201])\n",
    "\n",
    "wpvac=np.asarray([0.333333333,0.397028757,0.559683846,0.704648614,0.763915741,0.791401827,0.801167219,0.822653035,0.830878575,0.841458325,0.846286716,0.857199094,0.851138308,0.858388537,0.8723936549])\n",
    "\n",
    "wtol=np.asarray([0.333333333,0.361083897,0.34858624,0.273123698,0.22781745,0.202716913,0.188759833,0.17692216,0.169121425,0.158541675,0.153713284,0.142800906,0.143816828,0.137082518,0.123003508])\n",
    "\n",
    "wmet=np.asarray([0.333333333,0.241887346,0.091729914,0.022227687,0.008266808,0.00588126,0.010072947,0.000424805,0,0,0,0,0,0,0])"
   ]
  },
  {
   "cell_type": "markdown",
   "metadata": {},
   "source": [
    "We want to describe the diffusion of water into an ASD film. The ASD-water mixture is a ternary system. First we define starting and equilibrium weight fractions."
   ]
  },
  {
   "cell_type": "code",
   "execution_count": 11,
   "metadata": {},
   "outputs": [],
   "source": [
    "nc=3\n",
    "L=2E-5\n",
    "wi0=np.asarray([0.333333333,0.333333333,0.333333333])\n",
    "wi8=np.asarray([0.00001,0.127606346,0.872393654])\n",
    "Mi=np.asarray([32.04,92.14,100000])\n",
    "T=298.15\n",
    "P=1E5\n"
   ]
  },
  {
   "cell_type": "markdown",
   "metadata": {},
   "source": [
    "We define the PC-SAFT parameters"
   ]
  },
  {
   "cell_type": "code",
   "execution_count": 12,
   "metadata": {},
   "outputs": [],
   "source": [
    "Methanol = component('Methanol', ms = 1.5255, sigma = 3.23 , eps = 188.9, \n",
    "               kappaAB = 0.035176, eAB = 2899.5, sites = [0, 1, 1], Mw = 32.042)\n",
    "Toloul = component('Toloul', ms = 2.8149, sigma = 3.7169 , eps = 285.69, \n",
    "               kappaAB = 0., eAB = 0., sites = [0, 0, 0], Mw = 92.142)\n",
    "PVac = component('PVac', ms = 2889.9, sigma = 3.3972, eps = 204.65,\n",
    "                 kappaAB = 0., eAB = 0., sites = [0, 1047, 1047], Mw = 90000)\n",
    "\n",
    "mix = Methanol + Toloul + PVac \n",
    "saft = pcsaft(mix, compute_critical = False)\n",
    "T=298.15\n",
    "p=1E5\n",
    "mi=np.asarray([1.5255, 2.8149, 2889.9])\n",
    "sigi=np.asarray([3.2300, 3.7169, 3.3972])\n",
    "ui=np.asarray([188.9, 285.69, 204.65])\n",
    "kapi=np.asarray([0.035176, 0., 0.])\n",
    "epsAiBi=np.asarray([2899.5, 0., 0.])\n",
    "N=np.asarray([1., 0., 1047.])\n",
    "vpures=vpure(p,T,mi,sigi,ui,epsAiBi,kapi,N)\n",
    "\n"
   ]
  },
  {
   "cell_type": "markdown",
   "metadata": {},
   "source": [
    "For a the diffusion of three components, three binary diffusion coefficients need to be defined"
   ]
  },
  {
   "cell_type": "markdown",
   "metadata": {},
   "source": [
    "\n",
    "$\\hat{Ð} =$ \n",
    "$\\left[\\begin{array}{rrr} \n",
    "0 & Ð_{12} & Ð_{13} \\\\ \n",
    "0 & 0 & Ð_{23} \\\\ \n",
    "0 & 0 & 0 \\\\ \n",
    "\\end{array}\\right]$\n",
    "\n",
    "$Ð_{vec} = \\left[\\begin{array}{rrr} Ð_{12} & Ð_{13} & Ð_{23} \\end{array}\\right]$"
   ]
  },
  {
   "cell_type": "code",
   "execution_count": 13,
   "metadata": {},
   "outputs": [],
   "source": [
    "Dvec=np.asarray([1E-8,2.3E-11,1.7E-11])"
   ]
  },
  {
   "cell_type": "markdown",
   "metadata": {},
   "source": [
    "Next we define the time array and which component is mobile"
   ]
  },
  {
   "cell_type": "code",
   "execution_count": 14,
   "metadata": {},
   "outputs": [],
   "source": [
    "nt=300\n",
    "t=np.linspace(0,texp[-1],nt)\n",
    "volatile=np.asarray([True,True,False])"
   ]
  },
  {
   "cell_type": "code",
   "execution_count": 15,
   "metadata": {},
   "outputs": [
    {
     "name": "stdout",
     "output_type": "stream",
     "text": [
      "CasADi -  MESSAGE(\"integrator::init\") [.../casadi/core/function_internal.cpp:477]\n",
      "CasADi -  MESSAGE(\"integrator::create_function daeF:[x, z, p, t]->[ode, alg]\") [.../casadi/core/oracle_function.cpp:132]\n",
      "CasADi -  MESSAGE(\"integrator::create_function quadF:[x, z, p, t]->[quad]\") [.../casadi/core/oracle_function.cpp:132]\n",
      "CasADi -  MESSAGE(\"integrator::create_function daeB:[rx, rz, rp, x, z, p, t]->[rode, ralg]\") [.../casadi/core/oracle_function.cpp:132]\n",
      "CasADi -  MESSAGE(\"integrator::create_function quadB:[rx, rz, rp, x, z, p, t]->[rquad]\") [.../casadi/core/oracle_function.cpp:132]\n",
      "CasADi -  MESSAGE(\"IDA initialized\") [.../casadi/interfaces/sundials/idas_interface.cpp:290]\n",
      "CasADi -  MESSAGE(\"Attached linear solver\") [.../casadi/interfaces/sundials/idas_interface.cpp:384]\n",
      "CasADi -  MESSAGE(\"Initialized adjoint sensitivities\") [.../casadi/interfaces/sundials/idas_interface.cpp:392]\n",
      "CasADi -  MESSAGE(\"integrator::reset\") [.../casadi/interfaces/sundials/idas_interface.cpp:406]\n",
      "------------- Diffusion modeling took 0.0758074 seconds ----------------\n"
     ]
    }
   ],
   "source": [
    "wt=Diffusion_MS(t,L,Dvec,wi0,wi8,Mi,volatile)"
   ]
  },
  {
   "cell_type": "code",
   "execution_count": 21,
   "metadata": {},
   "outputs": [
    {
     "data": {
      "text/plain": [
       "[<matplotlib.lines.Line2D at 0x25dc229b1f0>]"
      ]
     },
     "execution_count": 21,
     "metadata": {},
     "output_type": "execute_result"
    },
    {
     "data": {
      "image/png": "[encoded data removed]",
      "text/plain": [
       "<Figure size 432x288 with 1 Axes>"
      ]
     },
     "metadata": {
      "needs_background": "light"
     },
     "output_type": "display_data"
    }
   ],
   "source": [
    "THii=[]\n",
    "xt=np.zeros((len(mi),nt))\n",
    "for i in range(nt):\n",
    "    wit=wt[i,:]\n",
    "    xit=wit/saft.Mw/(wit/saft.Mw).sum()\n",
    "    #THii.append(THdiag(xit,T,P,saft))\n",
    "    xt[:,i]=xit\n",
    "THii=np.asarray(THii)\n",
    "xt=xt.T\n",
    "#print(THii)\n",
    "#plt.plot(wt[:,1],THii[:,0])\n",
    "THiii=np.asarray([THFaktor(T,vpures,np.ascontiguousarray(xt[i,:]),mi,sigi,ui,epsAiBi,kapi,N,None,None,saft.Mw)[0,0] for i,val in enumerate(xt[:,0])])\n",
    "plt.plot(wt[:,1],THiii)\n",
    "#xt\n",
    "#xt.shape"
   ]
  },
  {
   "cell_type": "markdown",
   "metadata": {},
   "source": [
    "We plot the results"
   ]
  },
  {
   "cell_type": "code",
   "execution_count": null,
   "metadata": {},
   "outputs": [],
   "source": [
    "\n",
    "font = {'weight' : 'normal',\n",
    "        'size'   : 12}\n",
    "plt.rc('font', **font)\n",
    "\n",
    "color1 = \"#99CC00\"\n",
    "color2 = \"#F08208\"\n",
    "color3 = \"#99CDE9\"\n",
    "\n",
    "fig, ax = plt.subplots(figsize=(5, 4), dpi = 200)\n",
    "fig.subplots_adjust(hspace=0.5, wspace=0.3)\n",
    "\n",
    "\n",
    "ax.plot(t,wt[:,0], \"-\",color = color1 , \n",
    "        linewidth = 2.0, label = \"wMet\")\n",
    "ax.plot(t,wt[:,1], \"-\",color = color2 , \n",
    "        linewidth = 2.0, label = \"wTol\")\n",
    "ax.plot(t,wt[:,2], \"-\",color = color3 , \n",
    "        linewidth = 2.0, label = \"wPVAc\")\n",
    "\n",
    "ax.plot(texp,wmet, \"o\",color = color1 , \n",
    "        linewidth = 2.0, label = \"wMet\")\n",
    "ax.plot(texp,wtol, \"o\",color = color2 , \n",
    "        linewidth = 2.0, label = \"wTol\")\n",
    "ax.plot(texp,wpvac, \"o\",color = color3 , \n",
    "        linewidth = 2.0, label = \"wPVAc\")\n",
    "\n",
    "\n",
    "ax.legend(fontsize=\"small\")\n",
    "ax.set_xlabel('$t$ / s')\n",
    "ax.set_ylabel('$wi$ / -')\n",
    "ax.axis([0, 300., 0., 1.])\n",
    "start, end = ax.get_xlim()\n",
    "ax.xaxis.set_ticks(np.linspace(start, end, 5))\n",
    "start, end = ax.get_ylim()\n",
    "ax.yaxis.set_ticks(np.linspace(start, end, 5))\n",
    "plt.show()"
   ]
  },
  {
   "cell_type": "code",
   "execution_count": null,
   "metadata": {},
   "outputs": [],
   "source": []
  },
  {
   "cell_type": "code",
   "execution_count": null,
   "metadata": {},
   "outputs": [],
   "source": []
  }
 ],
 "metadata": {
  "kernelspec": {
   "display_name": "Python 3 (ipykernel)",
   "language": "python",
   "name": "python3"
  },
  "language_info": {
   "codemirror_mode": {
    "name": "ipython",
    "version": 3
   },
   "file_extension": ".py",
   "mimetype": "text/x-python",
   "name": "python",
   "nbconvert_exporter": "python",
   "pygments_lexer": "ipython3",
   "version": "3.9.13"
  },
  "vscode": {
   "interpreter": {
    "hash": "155058e36bf5ed4f47d0ce54cf51e48fed84b2ca3ed25a64d8425315b88e4e7c"
   }
  }
 },
 "nbformat": 4,
 "nbformat_minor": 2
}
