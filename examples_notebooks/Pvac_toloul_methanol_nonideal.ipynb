{
 "cells": [
  {
   "attachments": {},
   "cell_type": "markdown",
   "metadata": {},
   "source": [
    "# Stefan-Maxwell diffusion involving three components\n"
   ]
  },
  {
   "attachments": {},
   "cell_type": "markdown",
   "metadata": {},
   "source": [
    "This example demonstrates the modeling of the multicomponent Stefan-Maxwell model involving three componentt.\n",
    "First we import the Stefan-Maxwell diffusion module"
   ]
  },
  {
   "cell_type": "code",
   "execution_count": 1,
   "metadata": {},
   "outputs": [],
   "source": [
    "import numpy as np\n",
    "from diffusionpy import Diffusion_MS\n",
    "import matplotlib.pyplot as plt\n",
    "from epcsaftpy import THdiag,component,pcsaft"
   ]
  },
  {
   "attachments": {},
   "cell_type": "markdown",
   "metadata": {},
   "source": [
    "The experimental data for this example was taken from Schabel 2006 (https://doi.org/10.1016/j.ces.2006.12.062)"
   ]
  },
  {
   "cell_type": "code",
   "execution_count": 2,
   "metadata": {},
   "outputs": [],
   "source": [
    "texp=np.asarray([0,4.427792916,14.50035208,23.87257753,33.76909653,45.58674953,58.69408811,71.80142669,91.44521324,120.9089796,147.0930411,177.8656278,212.5493678,264.9136638,429.8518201])\n",
    "\n",
    "wpvac=np.asarray([0.333333333,0.397028757,0.559683846,0.704648614,0.763915741,0.791401827,0.801167219,0.822653035,0.830878575,0.841458325,0.846286716,0.857199094,0.851138308,0.858388537,0.8723936549])\n",
    "\n",
    "wtol=np.asarray([0.333333333,0.361083897,0.34858624,0.273123698,0.22781745,0.202716913,0.188759833,0.17692216,0.169121425,0.158541675,0.153713284,0.142800906,0.143816828,0.137082518,0.123003508])\n",
    "\n",
    "wmet=np.asarray([0.333333333,0.241887346,0.091729914,0.022227687,0.008266808,0.00588126,0.010072947,0.000424805,0,0,0,0,0,0,0])"
   ]
  },
  {
   "attachments": {},
   "cell_type": "markdown",
   "metadata": {},
   "source": [
    "We want to describe the diffusion of water into an ASD film. The ASD-water mixture is a ternary system. First we define starting and equilibrium weight fractions."
   ]
  },
  {
   "cell_type": "code",
   "execution_count": 3,
   "metadata": {},
   "outputs": [],
   "source": [
    "nc=3\n",
    "L=2E-5\n",
    "wi0=np.asarray([0.333333333,0.333333333,0.333333333])\n",
    "wi8=np.asarray([0.00001,0.127606346,0.872393654])\n",
    "Mi=np.asarray([32.04,92.14,100000])\n",
    "T=298.15\n",
    "P=1E5\n"
   ]
  },
  {
   "attachments": {},
   "cell_type": "markdown",
   "metadata": {},
   "source": [
    "We define the PC-SAFT parameters"
   ]
  },
  {
   "cell_type": "code",
   "execution_count": 4,
   "metadata": {},
   "outputs": [],
   "source": [
    "PVac = component('PVac', ms = 2889.9, sigma = 3.3972, eps = 204.65,\n",
    "                 kappaAB = 0., eAB = 0., sites = [0, 1047, 1047], Mw = 90000)\n",
    "Methanol = component('Methanol', ms = 1.5255, sigma = 3.23 , eps = 188.9, \n",
    "               kappaAB = 0.035176, eAB = 2899.5, sites = [0, 1, 1], Mw = 32.042)\n",
    "Toloul = component('Toloul', ms = 2.8149, sigma = 3.7169 , eps = 285.69, \n",
    "               kappaAB = 0., eAB = 0., sites = [0, 0, 0], Mw = 92.142)\n",
    "mix = Methanol + Toloul + PVac \n",
    "saft = pcsaft(mix, compute_critical = False)\n"
   ]
  },
  {
   "attachments": {},
   "cell_type": "markdown",
   "metadata": {},
   "source": [
    "For a the diffusion of three components, three binary diffusion coefficients need to be defined"
   ]
  },
  {
   "attachments": {},
   "cell_type": "markdown",
   "metadata": {},
   "source": [
    "\n",
    "$\\hat{Ð} =$ \n",
    "$\\left[\\begin{array}{rrr} \n",
    "0 & Ð_{12} & Ð_{13} \\\\ \n",
    "0 & 0 & Ð_{23} \\\\ \n",
    "0 & 0 & 0 \\\\ \n",
    "\\end{array}\\right]$\n",
    "\n",
    "$Ð_{vec} = \\left[\\begin{array}{rrr} Ð_{12} & Ð_{13} & Ð_{23} \\end{array}\\right]$"
   ]
  },
  {
   "cell_type": "code",
   "execution_count": 5,
   "metadata": {},
   "outputs": [],
   "source": [
    "Dvec=np.asarray([1E-8,2.3E-11,1.7E-11])"
   ]
  },
  {
   "attachments": {},
   "cell_type": "markdown",
   "metadata": {},
   "source": [
    "Next we define the time array and which component is mobile"
   ]
  },
  {
   "cell_type": "code",
   "execution_count": 6,
   "metadata": {},
   "outputs": [],
   "source": [
    "nt=300\n",
    "t=np.linspace(0,texp[-1],nt)\n",
    "volatile=np.asarray([True,True,False])"
   ]
  },
  {
   "cell_type": "code",
   "execution_count": 7,
   "metadata": {},
   "outputs": [
    {
     "name": "stdout",
     "output_type": "stream",
     "text": [
      "CasADi -  MESSAGE(\"integrator::init\") [.../casadi/core/function_internal.cpp:477]\n",
      "CasADi -  MESSAGE(\"integrator::create_function daeF:[x, z, p, t]->[ode, alg]\") [.../casadi/core/oracle_function.cpp:132]\n",
      "CasADi -  MESSAGE(\"integrator::create_function quadF:[x, z, p, t]->[quad]\") [.../casadi/core/oracle_function.cpp:132]\n",
      "CasADi -  MESSAGE(\"integrator::create_function daeB:[rx, rz, rp, x, z, p, t]->[rode, ralg]\") [.../casadi/core/oracle_function.cpp:132]\n",
      "CasADi -  MESSAGE(\"integrator::create_function quadB:[rx, rz, rp, x, z, p, t]->[rquad]\") [.../casadi/core/oracle_function.cpp:132]\n",
      "CasADi -  MESSAGE(\"IDA initialized\") [.../casadi/interfaces/sundials/idas_interface.cpp:290]\n",
      "CasADi -  MESSAGE(\"Attached linear solver\") [.../casadi/interfaces/sundials/idas_interface.cpp:384]\n",
      "CasADi -  MESSAGE(\"Initialized adjoint sensitivities\") [.../casadi/interfaces/sundials/idas_interface.cpp:392]\n",
      "CasADi -  MESSAGE(\"integrator::reset\") [.../casadi/interfaces/sundials/idas_interface.cpp:406]\n",
      "------------- Diffusion modeling took 0.0696068 seconds ----------------\n"
     ]
    }
   ],
   "source": [
    "wt=Diffusion_MS(t,L,Dvec,wi0,wi8,Mi,volatile)"
   ]
  },
  {
   "cell_type": "code",
   "execution_count": 8,
   "metadata": {},
   "outputs": [
    {
     "name": "stdout",
     "output_type": "stream",
     "text": [
      "[[-9.72207391e+01  4.90565380e+02 -9.29399294e+01]\n",
      " [-8.89154462e+01  3.76230028e+02 -2.11287888e+01]\n",
      " [-8.07257022e+01  3.13415055e+02  3.39075384e+01]\n",
      " [-7.18865728e+01  2.59836707e+02  9.05191111e+01]\n",
      " [-6.27030322e+01  2.14280443e+02  1.46474677e+02]\n",
      " [-5.36117379e+01  1.76109648e+02  2.00082109e+02]\n",
      " [-4.49814825e+01  1.44487838e+02  2.50253963e+02]\n",
      " [-3.70786958e+01  1.18474056e+02  2.96374930e+02]\n",
      " [-3.00626514e+01  9.71406720e+01  3.38201581e+02]\n",
      " [-2.39970554e+01  7.96529219e+01  3.75766310e+02]\n",
      " [-1.88709719e+01  6.53038794e+01  4.09287769e+02]\n",
      " [-1.46222679e+01  5.35158637e+01  4.39095662e+02]\n",
      " [-1.11590808e+01  4.38245848e+01  4.65572107e+02]\n",
      " [-8.37670783e+00  3.58574736e+01  4.89110746e+02]\n",
      " [-6.16947705e+00  2.93133023e+01  5.10090606e+02]\n",
      " [-4.43822431e+00  2.39459395e+01  5.28860859e+02]\n",
      " [-3.09430436e+00  1.95522558e+01  5.45733586e+02]\n",
      " [-2.06117119e+00  1.59634012e+01  5.60981787e+02]\n",
      " [-1.27441315e+00  1.30385172e+01  5.74840516e+02]\n",
      " [-6.80886721e-01  1.06600078e+01  5.87509849e+02]\n",
      " [-2.37418669e-01  8.72984304e+00  5.99158649e+02]\n",
      " [ 9.06309872e-02  7.16653950e+00  6.09928562e+02]\n",
      " [ 3.30772207e-01  5.90260835e+00  6.19937896e+02]\n",
      " [ 5.04660890e-01  4.88236512e+00  6.29285189e+02]\n",
      " [ 6.29208153e-01  4.06003934e+00  6.38052371e+02]\n",
      " [ 7.17515522e-01  3.39814238e+00  6.46307516e+02]\n",
      " [ 7.79645429e-01  2.86606749e+00  6.54107172e+02]\n",
      " [ 8.23245454e-01  2.43890037e+00  6.61498319e+02]\n",
      " [ 8.54049156e-01  2.09640904e+00  6.68520004e+02]\n",
      " [ 8.76275257e-01  1.82219983e+00  6.75204682e+02]\n",
      " [ 8.92947180e-01  1.60301222e+00  6.81579330e+02]\n",
      " [ 9.06151845e-01  1.42813455e+00  6.87666385e+02]\n",
      " [ 9.17253542e-01  1.28892229e+00  6.93484541e+02]\n",
      " [ 9.27074822e-01  1.17839890e+00  6.99049452e+02]\n",
      " [ 9.36050980e-01  1.09093520e+00  7.04374355e+02]\n",
      " [ 9.44361269e-01  1.02198590e+00  7.09470621e+02]\n",
      " [ 9.52035768e-01  9.67880414e-01  7.14348238e+02]\n",
      " [ 9.59036482e-01  9.25654956e-01  7.19016199e+02]\n",
      " [ 9.65312403e-01  8.92918085e-01  7.23482807e+02]\n",
      " [ 9.70830900e-01  8.67742942e-01  7.27755885e+02]\n",
      " [ 9.75590448e-01  8.48579661e-01  7.31842916e+02]\n",
      " [ 9.79620801e-01  8.34183931e-01  7.35751113e+02]\n",
      " [ 9.82976381e-01  8.23558551e-01  7.39487460e+02]\n",
      " [ 9.85727329e-01  8.15905636e-01  7.43058726e+02]\n",
      " [ 9.87950938e-01  8.10587787e-01  7.46471467e+02]\n",
      " [ 9.89724883e-01  8.07096450e-01  7.49732027e+02]\n",
      " [ 9.91122512e-01  8.05026545e-01  7.52846533e+02]\n",
      " [ 9.92210121e-01  8.04055797e-01  7.55820905e+02]\n",
      " [ 9.93045667e-01  8.03928328e-01  7.58660852e+02]\n",
      " [ 9.93678586e-01  8.04441250e-01  7.61371884e+02]\n",
      " [ 9.94150219e-01  8.05434081e-01  7.63959314e+02]\n",
      " [ 9.94494617e-01  8.06780167e-01  7.66428264e+02]\n",
      " [ 9.94739473e-01  8.08379852e-01  7.68783678e+02]\n",
      " [ 9.94907088e-01  8.10155001e-01  7.71030321e+02]\n",
      " [ 9.95015268e-01  8.12044609e-01  7.73172788e+02]\n",
      " [ 9.95078128e-01  8.14001291e-01  7.75215510e+02]\n",
      " [ 9.95106788e-01  8.15988484e-01  7.77162759e+02]\n",
      " [ 9.95109957e-01  8.17978190e-01  7.79018651e+02]\n",
      " [ 9.95094422e-01  8.19949202e-01  7.80787153e+02]\n",
      " [ 9.95065435e-01  8.21885695e-01  7.82472083e+02]\n",
      " [ 9.95027042e-01  8.23776051e-01  7.84077119e+02]\n",
      " [ 9.94982346e-01  8.25611958e-01  7.85605799e+02]\n",
      " [ 9.94933707e-01  8.27387681e-01  7.87061525e+02]\n",
      " [ 9.94882906e-01  8.29099514e-01  7.88447570e+02]\n",
      " [ 9.94831268e-01  8.30745328e-01  7.89767076e+02]\n",
      " [ 9.94779771e-01  8.32324202e-01  7.91023062e+02]\n",
      " [ 9.94729123e-01  8.33836125e-01  7.92218427e+02]\n",
      " [ 9.94679829e-01  8.35281770e-01  7.93355950e+02]\n",
      " [ 9.94632233e-01  8.36662343e-01  7.94438298e+02]\n",
      " [ 9.94586558e-01  8.37979435e-01  7.95468026e+02]\n",
      " [ 9.94542933e-01  8.39234912e-01  7.96447584e+02]\n",
      " [ 9.94501423e-01  8.40430818e-01  7.97379315e+02]\n",
      " [ 9.94462040e-01  8.41569316e-01  7.98265466e+02]\n",
      " [ 9.94424764e-01  8.42652633e-01  7.99108184e+02]\n",
      " [ 9.94389545e-01  8.43683026e-01  7.99909524e+02]\n",
      " [ 9.94356316e-01  8.44662750e-01  8.00671450e+02]\n",
      " [ 9.94325000e-01  8.45594034e-01  8.01395841e+02]\n",
      " [ 9.94295510e-01  8.46479065e-01  8.02084490e+02]\n",
      " [ 9.94267756e-01  8.47319973e-01  8.02739111e+02]\n",
      " [ 9.94241647e-01  8.48118828e-01  8.03361341e+02]\n",
      " [ 9.94217093e-01  8.48877628e-01  8.03952742e+02]\n",
      " [ 9.94194005e-01  8.49598298e-01  8.04514804e+02]\n",
      " [ 9.94172296e-01  8.50282689e-01  8.05048950e+02]\n",
      " [ 9.94151884e-01  8.50932578e-01  8.05556535e+02]\n",
      " [ 9.94132689e-01  8.51549662e-01  8.06038854e+02]\n",
      " [ 9.94114637e-01  8.52135562e-01  8.06497139e+02]\n",
      " [ 9.94097659e-01  8.52691824e-01  8.06932567e+02]\n",
      " [ 9.94081685e-01  8.53219930e-01  8.07346257e+02]\n",
      " [ 9.94066655e-01  8.53721288e-01  8.07739277e+02]\n",
      " [ 9.94052508e-01  8.54197238e-01  8.08112643e+02]\n",
      " [ 9.94039191e-01  8.54649058e-01  8.08467324e+02]\n",
      " [ 9.94026650e-01  8.55077964e-01  8.08804241e+02]\n",
      " [ 9.94014836e-01  8.55485114e-01  8.09124272e+02]\n",
      " [ 9.94003706e-01  8.55871604e-01  8.09428252e+02]\n",
      " [ 9.93993215e-01  8.56238481e-01  8.09716978e+02]\n",
      " [ 9.93983325e-01  8.56586736e-01  8.09991205e+02]\n",
      " [ 9.93973999e-01  8.56917312e-01  8.10251654e+02]\n",
      " [ 9.93965203e-01  8.57231104e-01  8.10499010e+02]\n",
      " [ 9.93956903e-01  8.57528964e-01  8.10733924e+02]\n",
      " [ 9.93949071e-01  8.57811698e-01  8.10957017e+02]\n",
      " [ 9.93941678e-01  8.58080074e-01  8.11168878e+02]\n",
      " [ 9.93934697e-01  8.58334820e-01  8.11370069e+02]\n",
      " [ 9.93928104e-01  8.58576628e-01  8.11561121e+02]\n",
      " [ 9.93921877e-01  8.58806155e-01  8.11742543e+02]\n",
      " [ 9.93915993e-01  8.59024024e-01  8.11914816e+02]\n",
      " [ 9.93910433e-01  8.59230828e-01  8.12078398e+02]\n",
      " [ 9.93905177e-01  8.59427128e-01  8.12233726e+02]\n",
      " [ 9.93900209e-01  8.59613457e-01  8.12381212e+02]\n",
      " [ 9.93895510e-01  8.59790320e-01  8.12521250e+02]\n",
      " [ 9.93891067e-01  8.59958197e-01  8.12654213e+02]\n",
      " [ 9.93886864e-01  8.60117546e-01  8.12780456e+02]\n",
      " [ 9.93882888e-01  8.60268797e-01  8.12900317e+02]\n",
      " [ 9.93879126e-01  8.60412362e-01  8.13014117e+02]\n",
      " [ 9.93875566e-01  8.60548635e-01  8.13122162e+02]\n",
      " [ 9.93872197e-01  8.60677987e-01  8.13224745e+02]\n",
      " [ 9.93869007e-01  8.60800773e-01  8.13322141e+02]\n",
      " [ 9.93865987e-01  8.60917314e-01  8.13414604e+02]\n",
      " [ 9.93863128e-01  8.61027935e-01  8.13502388e+02]\n",
      " [ 9.93860421e-01  8.61132940e-01  8.13585730e+02]\n",
      " [ 9.93857856e-01  8.61232615e-01  8.13664856e+02]\n",
      " [ 9.93855427e-01  8.61327222e-01  8.13739972e+02]\n",
      " [ 9.93853126e-01  8.61417024e-01  8.13811284e+02]\n",
      " [ 9.93850946e-01  8.61502268e-01  8.13878987e+02]\n",
      " [ 9.93848881e-01  8.61583189e-01  8.13943265e+02]\n",
      " [ 9.93846923e-01  8.61659994e-01  8.14004283e+02]\n",
      " [ 9.93845068e-01  8.61732899e-01  8.14062209e+02]\n",
      " [ 9.93843311e-01  8.61802103e-01  8.14117202e+02]\n",
      " [ 9.93841644e-01  8.61867797e-01  8.14169411e+02]\n",
      " [ 9.93840065e-01  8.61930151e-01  8.14218972e+02]\n",
      " [ 9.93838568e-01  8.61989337e-01  8.14266020e+02]\n",
      " [ 9.93837149e-01  8.62045518e-01  8.14310684e+02]\n",
      " [ 9.93835803e-01  8.62098849e-01  8.14353085e+02]\n",
      " [ 9.93834527e-01  8.62149470e-01  8.14393337e+02]\n",
      " [ 9.93833318e-01  8.62197517e-01  8.14431545e+02]\n",
      " [ 9.93832171e-01  8.62243125e-01  8.14467816e+02]\n",
      " [ 9.93831083e-01  8.62286418e-01  8.14502250e+02]\n",
      " [ 9.93830052e-01  8.62327514e-01  8.14534937e+02]\n",
      " [ 9.93829074e-01  8.62366519e-01  8.14565965e+02]\n",
      " [ 9.93828147e-01  8.62403544e-01  8.14595419e+02]\n",
      " [ 9.93827267e-01  8.62438690e-01  8.14623380e+02]\n",
      " [ 9.93826432e-01  8.62472053e-01  8.14649924e+02]\n",
      " [ 9.93825641e-01  8.62503718e-01  8.14675120e+02]\n",
      " [ 9.93824890e-01  8.62533776e-01  8.14699037e+02]\n",
      " [ 9.93824178e-01  8.62562309e-01  8.14721742e+02]\n",
      " [ 9.93823502e-01  8.62589395e-01  8.14743296e+02]\n",
      " [ 9.93822861e-01  8.62615102e-01  8.14763755e+02]\n",
      " [ 9.93822253e-01  8.62639505e-01  8.14783176e+02]\n",
      " [ 9.93821676e-01  8.62662669e-01  8.14801611e+02]\n",
      " [ 9.93821129e-01  8.62684657e-01  8.14819113e+02]\n",
      " [ 9.93820609e-01  8.62705528e-01  8.14835725e+02]\n",
      " [ 9.93820117e-01  8.62725339e-01  8.14851494e+02]\n",
      " [ 9.93819649e-01  8.62744143e-01  8.14866463e+02]\n",
      " [ 9.93819206e-01  8.62761994e-01  8.14880673e+02]\n",
      " [ 9.93818785e-01  8.62778938e-01  8.14894161e+02]\n",
      " [ 9.93818386e-01  8.62795020e-01  8.14906964e+02]\n",
      " [ 9.93818007e-01  8.62810286e-01  8.14919117e+02]\n",
      " [ 9.93817647e-01  8.62824778e-01  8.14930655e+02]\n",
      " [ 9.93817306e-01  8.62838533e-01  8.14941606e+02]\n",
      " [ 9.93816982e-01  8.62851589e-01  8.14952001e+02]\n",
      " [ 9.93816675e-01  8.62863983e-01  8.14961868e+02]\n",
      " [ 9.93816384e-01  8.62875747e-01  8.14971235e+02]\n",
      " [ 9.93816107e-01  8.62886915e-01  8.14980127e+02]\n",
      " [ 9.93815844e-01  8.62897514e-01  8.14988567e+02]\n",
      " [ 9.93815595e-01  8.62907575e-01  8.14996578e+02]\n",
      " [ 9.93815359e-01  8.62917126e-01  8.15004183e+02]\n",
      " [ 9.93815134e-01  8.62926193e-01  8.15011402e+02]\n",
      " [ 9.93814921e-01  8.62934798e-01  8.15018254e+02]\n",
      " [ 9.93814719e-01  8.62942966e-01  8.15024759e+02]\n",
      " [ 9.93814528e-01  8.62950720e-01  8.15030933e+02]\n",
      " [ 9.93814345e-01  8.62958080e-01  8.15036794e+02]\n",
      " [ 9.93814173e-01  8.62965066e-01  8.15042357e+02]\n",
      " [ 9.93814009e-01  8.62971697e-01  8.15047638e+02]\n",
      " [ 9.93813853e-01  8.62977992e-01  8.15052651e+02]\n",
      " [ 9.93813705e-01  8.62983967e-01  8.15057409e+02]\n",
      " [ 9.93813565e-01  8.62989638e-01  8.15061926e+02]\n",
      " [ 9.93813432e-01  8.62995022e-01  8.15066213e+02]\n",
      " [ 9.93813306e-01  8.63000132e-01  8.15070283e+02]\n",
      " [ 9.93813186e-01  8.63004983e-01  8.15074146e+02]\n",
      " [ 9.93813072e-01  8.63009587e-01  8.15077813e+02]\n",
      " [ 9.93812964e-01  8.63013957e-01  8.15081294e+02]\n",
      " [ 9.93812862e-01  8.63018106e-01  8.15084598e+02]\n",
      " [ 9.93812765e-01  8.63022044e-01  8.15087734e+02]\n",
      " [ 9.93812672e-01  8.63025782e-01  8.15090711e+02]\n",
      " [ 9.93812585e-01  8.63029330e-01  8.15093537e+02]\n",
      " [ 9.93812502e-01  8.63032698e-01  8.15096219e+02]\n",
      " [ 9.93812423e-01  8.63035895e-01  8.15098765e+02]\n",
      " [ 9.93812348e-01  8.63038930e-01  8.15101182e+02]\n",
      " [ 9.93812277e-01  8.63041810e-01  8.15103476e+02]\n",
      " [ 9.93812209e-01  8.63044545e-01  8.15105654e+02]\n",
      " [ 9.93812145e-01  8.63047140e-01  8.15107721e+02]\n",
      " [ 9.93812084e-01  8.63049604e-01  8.15109683e+02]\n",
      " [ 9.93812027e-01  8.63051942e-01  8.15111546e+02]\n",
      " [ 9.93811972e-01  8.63054161e-01  8.15113313e+02]\n",
      " [ 9.93811920e-01  8.63056267e-01  8.15114990e+02]\n",
      " [ 9.93811871e-01  8.63058265e-01  8.15116582e+02]\n",
      " [ 9.93811824e-01  8.63060162e-01  8.15118093e+02]\n",
      " [ 9.93811779e-01  8.63061961e-01  8.15119526e+02]\n",
      " [ 9.93811737e-01  8.63063668e-01  8.15120886e+02]\n",
      " [ 9.93811697e-01  8.63065288e-01  8.15122176e+02]\n",
      " [ 9.93811659e-01  8.63066825e-01  8.15123400e+02]\n",
      " [ 9.93811623e-01  8.63068284e-01  8.15124562e+02]\n",
      " [ 9.93811589e-01  8.63069668e-01  8.15125664e+02]\n",
      " [ 9.93811557e-01  8.63070981e-01  8.15126710e+02]\n",
      " [ 9.93811526e-01  8.63072228e-01  8.15127703e+02]\n",
      " [ 9.93811497e-01  8.63073412e-01  8.15128646e+02]\n",
      " [ 9.93811469e-01  8.63074537e-01  8.15129543e+02]\n",
      " [ 9.93811443e-01  8.63075607e-01  8.15130395e+02]\n",
      " [ 9.93811418e-01  8.63076621e-01  8.15131202e+02]\n",
      " [ 9.93811394e-01  8.63077582e-01  8.15131968e+02]\n",
      " [ 9.93811372e-01  8.63078493e-01  8.15132694e+02]\n",
      " [ 9.93811350e-01  8.63079358e-01  8.15133383e+02]\n",
      " [ 9.93811330e-01  8.63080180e-01  8.15134037e+02]\n",
      " [ 9.93811311e-01  8.63080960e-01  8.15134659e+02]\n",
      " [ 9.93811293e-01  8.63081701e-01  8.15135249e+02]\n",
      " [ 9.93811275e-01  8.63082406e-01  8.15135810e+02]\n",
      " [ 9.93811259e-01  8.63083075e-01  8.15136343e+02]\n",
      " [ 9.93811243e-01  8.63083708e-01  8.15136847e+02]\n",
      " [ 9.93811228e-01  8.63084310e-01  8.15137327e+02]\n",
      " [ 9.93811214e-01  8.63084881e-01  8.15137782e+02]\n",
      " [ 9.93811201e-01  8.63085424e-01  8.15138214e+02]\n",
      " [ 9.93811188e-01  8.63085940e-01  8.15138625e+02]\n",
      " [ 9.93811176e-01  8.63086430e-01  8.15139015e+02]\n",
      " [ 9.93811164e-01  8.63086896e-01  8.15139386e+02]\n",
      " [ 9.93811153e-01  8.63087340e-01  8.15139740e+02]\n",
      " [ 9.93811143e-01  8.63087759e-01  8.15140074e+02]\n",
      " [ 9.93811133e-01  8.63088158e-01  8.15140391e+02]\n",
      " [ 9.93811124e-01  8.63088536e-01  8.15140692e+02]\n",
      " [ 9.93811115e-01  8.63088895e-01  8.15140979e+02]\n",
      " [ 9.93811107e-01  8.63089236e-01  8.15141251e+02]\n",
      " [ 9.93811099e-01  8.63089561e-01  8.15141509e+02]\n",
      " [ 9.93811091e-01  8.63089869e-01  8.15141754e+02]\n",
      " [ 9.93811084e-01  8.63090162e-01  8.15141988e+02]\n",
      " [ 9.93811077e-01  8.63090440e-01  8.15142209e+02]\n",
      " [ 9.93811071e-01  8.63090704e-01  8.15142419e+02]\n",
      " [ 9.93811064e-01  8.63090954e-01  8.15142618e+02]\n",
      " [ 9.93811058e-01  8.63091191e-01  8.15142807e+02]\n",
      " [ 9.93811053e-01  8.63091416e-01  8.15142987e+02]\n",
      " [ 9.93811048e-01  8.63091630e-01  8.15143157e+02]\n",
      " [ 9.93811043e-01  8.63091834e-01  8.15143320e+02]\n",
      " [ 9.93811038e-01  8.63092027e-01  8.15143474e+02]\n",
      " [ 9.93811033e-01  8.63092211e-01  8.15143620e+02]\n",
      " [ 9.93811029e-01  8.63092385e-01  8.15143758e+02]\n",
      " [ 9.93811025e-01  8.63092549e-01  8.15143889e+02]\n",
      " [ 9.93811021e-01  8.63092706e-01  8.15144014e+02]\n",
      " [ 9.93811017e-01  8.63092854e-01  8.15144132e+02]\n",
      " [ 9.93811014e-01  8.63092995e-01  8.15144245e+02]\n",
      " [ 9.93811011e-01  8.63093129e-01  8.15144351e+02]\n",
      " [ 9.93811008e-01  8.63093257e-01  8.15144453e+02]\n",
      " [ 9.93811005e-01  8.63093378e-01  8.15144550e+02]\n",
      " [ 9.93811002e-01  8.63093493e-01  8.15144641e+02]\n",
      " [ 9.93810999e-01  8.63093601e-01  8.15144727e+02]\n",
      " [ 9.93810997e-01  8.63093705e-01  8.15144809e+02]\n",
      " [ 9.93810994e-01  8.63093802e-01  8.15144887e+02]\n",
      " [ 9.93810992e-01  8.63093896e-01  8.15144962e+02]\n",
      " [ 9.93810990e-01  8.63093984e-01  8.15145032e+02]\n",
      " [ 9.93810988e-01  8.63094068e-01  8.15145099e+02]\n",
      " [ 9.93810986e-01  8.63094149e-01  8.15145163e+02]\n",
      " [ 9.93810984e-01  8.63094225e-01  8.15145224e+02]\n",
      " [ 9.93810982e-01  8.63094297e-01  8.15145281e+02]\n",
      " [ 9.93810980e-01  8.63094365e-01  8.15145336e+02]\n",
      " [ 9.93810979e-01  8.63094430e-01  8.15145387e+02]\n",
      " [ 9.93810977e-01  8.63094492e-01  8.15145436e+02]\n",
      " [ 9.93810976e-01  8.63094550e-01  8.15145483e+02]\n",
      " [ 9.93810974e-01  8.63094606e-01  8.15145528e+02]\n",
      " [ 9.93810973e-01  8.63094659e-01  8.15145570e+02]\n",
      " [ 9.93810972e-01  8.63094710e-01  8.15145610e+02]\n",
      " [ 9.93810971e-01  8.63094758e-01  8.15145648e+02]\n",
      " [ 9.93810969e-01  8.63094803e-01  8.15145684e+02]\n",
      " [ 9.93810968e-01  8.63094846e-01  8.15145719e+02]\n",
      " [ 9.93810967e-01  8.63094887e-01  8.15145751e+02]\n",
      " [ 9.93810966e-01  8.63094926e-01  8.15145782e+02]\n",
      " [ 9.93810965e-01  8.63094963e-01  8.15145812e+02]\n",
      " [ 9.93810965e-01  8.63094998e-01  8.15145840e+02]\n",
      " [ 9.93810964e-01  8.63095032e-01  8.15145866e+02]\n",
      " [ 9.93810963e-01  8.63095063e-01  8.15145892e+02]\n",
      " [ 9.93810962e-01  8.63095093e-01  8.15145916e+02]\n",
      " [ 9.93810962e-01  8.63095122e-01  8.15145938e+02]\n",
      " [ 9.93810961e-01  8.63095149e-01  8.15145960e+02]\n",
      " [ 9.93810960e-01  8.63095174e-01  8.15145980e+02]\n",
      " [ 9.93810960e-01  8.63095199e-01  8.15146000e+02]\n",
      " [ 9.93810959e-01  8.63095222e-01  8.15146018e+02]\n",
      " [ 9.93810959e-01  8.63095244e-01  8.15146035e+02]\n",
      " [ 9.93810958e-01  8.63095264e-01  8.15146052e+02]\n",
      " [ 9.93810958e-01  8.63095284e-01  8.15146068e+02]\n",
      " [ 9.93810957e-01  8.63095302e-01  8.15146082e+02]\n",
      " [ 9.93810957e-01  8.63095320e-01  8.15146096e+02]\n",
      " [ 9.93810956e-01  8.63095336e-01  8.15146109e+02]\n",
      " [ 9.93810956e-01  8.63095352e-01  8.15146122e+02]\n",
      " [ 9.93810956e-01  8.63095366e-01  8.15146133e+02]\n",
      " [ 9.93810955e-01  8.63095380e-01  8.15146144e+02]\n",
      " [ 9.93810955e-01  8.63095393e-01  8.15146154e+02]\n",
      " [ 9.93810955e-01  8.63095405e-01  8.15146164e+02]\n",
      " [ 9.93810954e-01  8.63095416e-01  8.15146173e+02]\n",
      " [ 9.93810954e-01  8.63095427e-01  8.15146181e+02]\n",
      " [ 9.93810954e-01  8.63095437e-01  8.15146189e+02]\n",
      " [ 9.93810954e-01  8.63095446e-01  8.15146197e+02]\n",
      " [ 9.93810953e-01  8.63095455e-01  8.15146204e+02]\n",
      " [ 9.93810953e-01  8.63095463e-01  8.15146210e+02]\n",
      " [ 9.93810953e-01  8.63095471e-01  8.15146216e+02]\n",
      " [ 9.93810953e-01  8.63095478e-01  8.15146222e+02]]\n"
     ]
    },
    {
     "data": {
      "text/plain": [
       "[<matplotlib.lines.Line2D at 0x211a92826d0>]"
      ]
     },
     "execution_count": 8,
     "metadata": {},
     "output_type": "execute_result"
    },
    {
     "data": {
      "image/png": "[encoded data removed]",
      "text/plain": [
       "<Figure size 432x288 with 1 Axes>"
      ]
     },
     "metadata": {
      "needs_background": "light"
     },
     "output_type": "display_data"
    }
   ],
   "source": [
    "THii=[]\n",
    "for i in range(nt):\n",
    "    wit=wt[i,:]\n",
    "    xit=wit/saft.Mw/(wit/saft.Mw).sum()\n",
    "    THii.append(THdiag(xit,T,P,saft)/(1-wit)*(1-xit))\n",
    "THii=np.asarray(THii)\n",
    "print(THii)\n",
    "plt.plot(wt[:,1],THii[:,1])"
   ]
  },
  {
   "attachments": {},
   "cell_type": "markdown",
   "metadata": {},
   "source": [
    "We plot the results"
   ]
  },
  {
   "cell_type": "code",
   "execution_count": 9,
   "metadata": {},
   "outputs": [
    {
     "data": {
      "image/png": "[encoded data removed]",
      "text/plain": [
       "<Figure size 1000x800 with 1 Axes>"
      ]
     },
     "metadata": {
      "needs_background": "light"
     },
     "output_type": "display_data"
    }
   ],
   "source": [
    "\n",
    "font = {'weight' : 'normal',\n",
    "        'size'   : 12}\n",
    "plt.rc('font', **font)\n",
    "\n",
    "color1 = \"#99CC00\"\n",
    "color2 = \"#F08208\"\n",
    "color3 = \"#99CDE9\"\n",
    "\n",
    "fig, ax = plt.subplots(figsize=(5, 4), dpi = 200)\n",
    "fig.subplots_adjust(hspace=0.5, wspace=0.3)\n",
    "\n",
    "\n",
    "ax.plot(t,wt[:,0], \"-\",color = color1 , \n",
    "        linewidth = 2.0, label = \"wMet\")\n",
    "ax.plot(t,wt[:,1], \"-\",color = color2 , \n",
    "        linewidth = 2.0, label = \"wTol\")\n",
    "ax.plot(t,wt[:,2], \"-\",color = color3 , \n",
    "        linewidth = 2.0, label = \"wPVAc\")\n",
    "\n",
    "ax.plot(texp,wmet, \"o\",color = color1 , \n",
    "        linewidth = 2.0, label = \"wMet\")\n",
    "ax.plot(texp,wtol, \"o\",color = color2 , \n",
    "        linewidth = 2.0, label = \"wTol\")\n",
    "ax.plot(texp,wpvac, \"o\",color = color3 , \n",
    "        linewidth = 2.0, label = \"wPVAc\")\n",
    "\n",
    "\n",
    "ax.legend(fontsize=\"small\")\n",
    "ax.set_xlabel('$t$ / s')\n",
    "ax.set_ylabel('$wi$ / -')\n",
    "ax.axis([0, 300., 0., 1.])\n",
    "start, end = ax.get_xlim()\n",
    "ax.xaxis.set_ticks(np.linspace(start, end, 5))\n",
    "start, end = ax.get_ylim()\n",
    "ax.yaxis.set_ticks(np.linspace(start, end, 5))\n",
    "plt.show()"
   ]
  }
 ],
 "metadata": {
  "kernelspec": {
   "display_name": "Python 3",
   "language": "python",
   "name": "python3"
  },
  "language_info": {
   "codemirror_mode": {
    "name": "ipython",
    "version": 3
   },
   "file_extension": ".py",
   "mimetype": "text/x-python",
   "name": "python",
   "nbconvert_exporter": "python",
   "pygments_lexer": "ipython3",
   "version": "3.9.13"
  },
  "orig_nbformat": 4,
  "vscode": {
   "interpreter": {
    "hash": "155058e36bf5ed4f47d0ce54cf51e48fed84b2ca3ed25a64d8425315b88e4e7c"
   }
  }
 },
 "nbformat": 4,
 "nbformat_minor": 2
}
