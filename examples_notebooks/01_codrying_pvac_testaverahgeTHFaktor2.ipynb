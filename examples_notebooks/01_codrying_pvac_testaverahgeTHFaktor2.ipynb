{
 "cells": [
  {
   "attachments": {},
   "cell_type": "markdown",
   "metadata": {},
   "source": [
    "# Co-drying of methanol and toluol from poly-(vinylacetate)"
   ]
  },
  {
   "attachments": {},
   "cell_type": "markdown",
   "metadata": {},
   "source": [
    "This jupyter notebook models the co-drying of two solvents,from a polymer and demonstrate the power of diffusionpy.\n",
    "First we import the diffusion model and the pc-saft implementation from diffusionpy"
   ]
  },
  {
   "cell_type": "code",
   "execution_count": 1,
   "metadata": {},
   "outputs": [],
   "source": [
    "import numpy as np\n",
    "from diffusionpy import Diffusion_MS,vpure,dlnai_dlnxi,D_Matrix,Diffusion_MS_iter,origin_like,lngi,dlnai_dlnxi_loop,DIdeal2DReal\n",
    "import matplotlib.pyplot as plt\n",
    "plt.rcdefaults()"
   ]
  },
  {
   "attachments": {},
   "cell_type": "markdown",
   "metadata": {},
   "source": [
    "The experimental data for this example was taken from Schabel et al. 2006 (https://doi.org/10.1016/j.ces.2006.12.062)"
   ]
  },
  {
   "cell_type": "code",
   "execution_count": 2,
   "metadata": {},
   "outputs": [],
   "source": [
    "texp=np.asarray([0,4.427792916,14.50035208,23.87257753,33.76909653,45.58674953,58.69408811,71.80142669,91.44521324,120.9089796,147.0930411,177.8656278,212.5493678,264.9136638,429.8518201])\n",
    "\n",
    "wpvac=np.asarray([0.333333333,0.397028757,0.559683846,0.704648614,0.763915741,0.791401827,0.801167219,0.822653035,0.830878575,0.841458325,0.846286716,0.857199094,0.851138308,0.858388537,0.8723936549])\n",
    "\n",
    "wtol=np.asarray([0.333333333,0.361083897,0.34858624,0.273123698,0.22781745,0.202716913,0.188759833,0.17692216,0.169121425,0.158541675,0.153713284,0.142800906,0.143816828,0.137082518,0.123003508])\n",
    "\n",
    "wmet=np.asarray([0.333333333,0.241887346,0.091729914,0.022227687,0.008266808,0.00588126,0.010072947,0.000424805,0,0,0,0,0,0,0])\n",
    "\n",
    "\n",
    "zexp1=np.asarray([1.9474,4.8216,4.9238,6.5452,11.1408,13.4856,13.5108,15.7391,20.0811,21.531,22.3125,24.4252,29.9245,30.8605,38.8925,47.3389,55.6328])/90.\n",
    "meth=np.asarray([0.23319,0.7155,1.51472,0.19766,0.14607,1.48775,0.68454,0.11456,0.07899,1.42055,0.53311,0.05949,1.0763,0.39771,1.22609,1.29549,1.17211])/1.6*1\n",
    "\n",
    "zexp2=np.asarray([0.8693,2.3874,2.8598,4.0545,4.6346,4.9451,6.6285,6.8366,9.8909,11.5564,12.0909,12.6496,13.2874,15.4473,15.6765,18.0826,20.7233,21.026,21.1068,21.9164,21.9851,24.6318,29.6695,30.2134,37.6273,45.746,53.6665])/90.\n",
    "tolu=np.asarray([0.119214,0.224938,0.119364,0.581156,0.123559,0.336155,0.191408,0.122371,0.111769,0.18907,0.111935,0.508688,0.362508,0.109479,0.16636,0.098846,0.154557,0.092297,0.52828,0.337432,0.081538,0.133187,0.477474,0.25411,0.48078,0.516594,0.404811])/0.6*1\n",
    "\n"
   ]
  },
  {
   "attachments": {},
   "cell_type": "markdown",
   "metadata": {},
   "source": [
    "The drying starts from a mixture of methanol-toloul-PVAc in equal parts. We define the temperature, the presssure, the number of components, their molar mass and the starting and equilibrium weight fractions."
   ]
  },
  {
   "cell_type": "code",
   "execution_count": 3,
   "metadata": {},
   "outputs": [],
   "source": [
    "T=298.15\n",
    "p=1E5\n",
    "nc=3 # number of components\n",
    "L=2.32E-5 # estimated thickness of the film\n",
    "wi0=np.asarray([0.333333333,0.333333333,0.333333333]) # Weight fractions of the components methanol, toluol and PVAc at t=0\n",
    "# wi0=np.asarray([0.3,0.3,0.4])\n",
    "wi8=np.asarray([0.0001,0.127606346,0.872393654]) # Weight fractions of the components methanol, toluol and PVAc at t=8.T\n",
    "# wi8=np.asarray([0.05,0.05,0.9])\n",
    "wi8=wi8/np.sum(wi8)\n",
    "wi0=wi0/np.sum(wi0)\n",
    "# wi8=np.asarray([0.25,0.25,0.5])\n",
    "Mi=np.asarray([32.04,92.14,90000.])\n",
    "# Mi=np.asarray([1.,1.,2.])"
   ]
  },
  {
   "attachments": {},
   "cell_type": "markdown",
   "metadata": {},
   "source": [
    "For describing the diffusion in the mixture, a matrix of diffusion coefficients needs to be defined. The matrix for a ternary system is displayed below:"
   ]
  },
  {
   "attachments": {},
   "cell_type": "markdown",
   "metadata": {},
   "source": [
    "\n",
    "$\\hat{Ð} =$ \n",
    "$\\left[\\begin{array}{rrr} \n",
    "0 & Ð_{12} & Ð_{13} \\\\ \n",
    "Ð_{21} & 0 & Ð_{23} \\\\ \n",
    "Ð_{31} & Ð_{32} & 0 \\\\ \n",
    "\\end{array}\\right]$\n",
    "\n",
    "where $\\hat{Ð}$ is the matrix of diffusion coefficients and $Ð_{ij}$ are the binary diffusion coefficients of component i moving in j. Friction between the same species is not required, thus $Ð_{ii}=0$  \n",
    "Furthermore, the Stefan-Maxwell diffusion coefficients used in diffusionpy retain a convenient property where each pair of binary diffusion coefficients is symmetric i.e $Ð_{ij}=Ð_{ji}$\n",
    "\n",
    "Thus, for describing the diffusion in a ternary system, only three binary diffusion coefficients need to be defined:\n",
    "\n",
    "$Ð_{vec} = \\left[\\begin{array}{rrr} Ð_{12} & Ð_{13} & Ð_{23} \\end{array}\\right]$\n",
    "\n",
    "which is stored as a vector of length $\\frac{n_c(1-n_c)}{2}$ with $n_c$ being the number of components"
   ]
  },
  {
   "cell_type": "code",
   "execution_count": 4,
   "metadata": {},
   "outputs": [],
   "source": [
    "Dvec=np.asarray([1E-5,9E-10,1E-9])\n",
    "Dvec=np.asarray([1E-5,8E-10,1E-8])\n",
    "\n",
    "\n",
    "# Dvec=np.asarray([1E-5,1E-12,1E-12])\n"
   ]
  },
  {
   "attachments": {},
   "cell_type": "markdown",
   "metadata": {},
   "source": [
    "Diffusionpy internally caclulates the matrix $\\hat{Ð}$ using the D_Matrix functionality"
   ]
  },
  {
   "cell_type": "code",
   "execution_count": 5,
   "metadata": {},
   "outputs": [
    {
     "name": "stdout",
     "output_type": "stream",
     "text": [
      "[[0.e+00 1.e-05 8.e-10]\n",
      " [1.e-05 0.e+00 1.e-08]\n",
      " [8.e-10 1.e-08 0.e+00]]\n"
     ]
    }
   ],
   "source": [
    "Dmat=D_Matrix(Dvec,nc)\n",
    "print(Dmat)"
   ]
  },
  {
   "attachments": {},
   "cell_type": "markdown",
   "metadata": {},
   "source": [
    "Lastly, one needs to specify which components is considered mobile and which immobile. In our case, the solvents are obviously mobile while the polymer can be considered immobile due to its large molar mass which is conveniently defined as a boolean array."
   ]
  },
  {
   "cell_type": "code",
   "execution_count": 6,
   "metadata": {},
   "outputs": [],
   "source": [
    "mobile=np.asarray([True,True,True])"
   ]
  },
  {
   "attachments": {},
   "cell_type": "markdown",
   "metadata": {},
   "source": [
    "Finally, we can model solvent desorption. First in the ideal case and plot the results"
   ]
  },
  {
   "cell_type": "code",
   "execution_count": 7,
   "metadata": {},
   "outputs": [
    {
     "name": "stdout",
     "output_type": "stream",
     "text": [
      "------------- Initialization and postprocessing ----------------\n",
      "------------- Start diffusion modeling ----------------\n",
      "------------- Diffusion modeling took 0.4130554 seconds ----------------\n",
      "------------- Initialization and postprocessing took 0.0130585 seconds----------------\n"
     ]
    }
   ],
   "source": [
    "nt=80\n",
    "t=np.linspace(0,texp[-1]**0.5,nt)**2    \n",
    "\n",
    "wtid=Diffusion_MS(t,L,Dvec,wi0,wi8,Mi,mobile)"
   ]
  },
  {
   "attachments": {},
   "cell_type": "markdown",
   "metadata": {},
   "source": [
    "diffusionpy neglects non-idealities for the default case. If the user wants to consider non-idealities a thermodynamic model is needed. \n",
    "diffusionpy comes prepackaged with an implementation of the pc-saft equation of state. \n",
    "PC-SAFT parameteters can be defined as follows:"
   ]
  },
  {
   "cell_type": "code",
   "execution_count": 8,
   "metadata": {},
   "outputs": [],
   "source": [
    "kij=D_Matrix(np.asarray([0.029,-0.05855362,0.027776682]),nc)\n",
    "par={\"mi\":np.asarray([1.5255, 2.8149, 2889.9]),\n",
    "\"si\": np.asarray([3.2300, 3.7169, 3.3972]),\n",
    "\"ui\" :np.asarray([188.9, 285.69, 204.65]),\n",
    "\"eAi\" :np.asarray([2899.5, 0., 0.]),\n",
    "\"kAi\":np.asarray([0.035176, 0., 0.]),\n",
    "\"NAi\":np.asarray([1., 0., 1047.]),\n",
    "\"Mi\": Mi,\n",
    "\"kij\":kij,\n",
    "\"kijA\":np.asarray([[0.]])}\n"
   ]
  },
  {
   "attachments": {},
   "cell_type": "markdown",
   "metadata": {},
   "source": [
    "However, any other implementatation of any thermodyamic model can be used in conjucntion with diffusionpy. \n",
    "This is because, diffusionpy relies soley on the numerical values of second derivative of activities $a_i$ or fugacities $f_i$ of component i. \n",
    "\n",
    "$\\frac{Dlna_i}{Dlnx_i}$ = $\\frac{Dlnf_i}{Dlnx_i}$ , where $D$ denotes that the differentiation was performed while neglecting the mass balance.\n",
    "\n",
    "The nonidealities employed in an iterative fashion and are supplied for each time point for the current weight fraction -time matrix. Here, the ideal solution from before gives the initial point for the iteration. "
   ]
  },
  {
   "cell_type": "code",
   "execution_count": 9,
   "metadata": {},
   "outputs": [
    {
     "name": "stdout",
     "output_type": "stream",
     "text": [
      "------------- Initialization and postprocessing ----------------\n",
      "------------- Start diffusion modeling ----------------\n",
      "------------- Diffusion modeling took 0.0868821 seconds ----------------\n",
      "------------- Initialization and postprocessing took 0.0009844 seconds----------------\n",
      "       message: Optimization terminated successfully.\n",
      "       success: True\n",
      "        status: 0\n",
      "           fun: 5.0085000897769385\n",
      "             x: [-1.228e-05  3.962e-11  2.193e-11]\n",
      "           nit: 36\n",
      "          nfev: 67\n",
      " final_simplex: (array([[-1.228e-05,  3.962e-11,  2.193e-11],\n",
      "                       [-1.233e-05,  3.968e-11,  2.192e-11],\n",
      "                       [-1.227e-05,  3.959e-11,  2.177e-11],\n",
      "                       [-1.219e-05,  3.934e-11,  2.177e-11]]), array([ 5.009e+00,  5.009e+00,  5.009e+00,  5.009e+00]))\n",
      "-7.148455300019488e-14\n"
     ]
    },
    {
     "data": {
      "image/png": "[encoded data removed]",
      "text/plain": [
       "<Figure size 1000x1000 with 1 Axes>"
      ]
     },
     "metadata": {},
     "output_type": "display_data"
    }
   ],
   "source": [
    "vpures=vpure(p,T,**par)\n",
    "par[\"vpure\"]=vpures\n",
    "dlnai_dlnwi_fun=lambda wi: dlnai_dlnxi_loop(T,wi,**par)#/wi[:,:,:,None]\n",
    "dlnai_dlnwi_fun2=lambda wi: dlnai_dlnxi(T,np.ascontiguousarray(wi),**par)\n",
    "Dvec=np.asarray([1E-6,2E-12,8E-12])\n",
    "# Dvec=np.asarray([1E-5,1E-11,1E-11])\n",
    "wtid,wtz,zvec,Lt=Diffusion_MS(t,L,Dvec,wi0,wi8,Mi,mobile,full_output=True)\n",
    "# der=dlnai_dlnwi_fun(np.ascontiguousarray(np.swapaxes(wtz,1,2)))\n",
    "# wt,wtz,zvec,Lt=Diffusion_MS_iter(t,L,Dvec,wi0,wi8,Mi,mobile,full_output=True,dlnai_dlnwi_fun=dlnai_dlnwi_fun)\n",
    "wave=wi0*0.5+wi8*0.5#np.average(wtid,axis=0)#wi0*0.5+wi8*0.5\n",
    "#dlnai_dlnwi=np.average(np.asarray([dlnai_dlnwi_fun2(val) for val in wtid]),axis=0)\n",
    "\n",
    "dlnai_dlnwi=dlnai_dlnwi_fun2(wave)\n",
    "\n",
    "ri=Mi/np.min(Mi)\n",
    "dlnai_dlnwi=dlnai_dlnwi_fun2(wave)#wave[None,:]  # This one is symmetric \n",
    "Dvec2=DIdeal2DReal(Dvec,wave,wi0,dlnai_dlnwi,mobile,ri)\n",
    "\n",
    "# wt,wtz,zvec,Lt=Diffusion_MS_iter(t,L,Dvec2,wi0,wi8,Mi,mobile,full_output=True,dlnai_dlnwi_fun=dlnai_dlnwi_fun)\n",
    "\n",
    "# wt,wtz,zvec,Lt=Diffusion_MS(t,L,Dvec2,wi0,wi8,Mi,mobile,full_output=True,dlnai_dlnwi=dlnai_dlnwi)\n",
    "\n",
    "# wtid=Diffusion_MS(t,L,Dvec2,wi0,wi8,Mi,mobile)\n",
    "fig,ax=origin_like.subplots()\n",
    "\n",
    "# origin_like.plot(ax,t,wt[:,0],\"c-\")\n",
    "# origin_like.plot(ax,t,wt[:,1],\"r-\")\n",
    "# origin_like.plot(ax,t,wt[:,2],\"g-\")\n",
    "origin_like.plot(ax,t,wtid[:,0],\"k--\")\n",
    "origin_like.plot(ax,t,wtid[:,1],\"k--\")\n",
    "origin_like.plot(ax,t,wtid[:,2],\"k--\")\n",
    "origin_like.plot(ax,texp,wmet,\"co\")\n",
    "origin_like.plot(ax,texp,wtol,\"ro\")\n",
    "origin_like.plot(ax,texp,wpvac,\"go\")\n",
    "origin_like.set_xlabel(ax,\"t\",\"s\")\n",
    "origin_like.set_ylabel(ax,\"w_i\",\"-\")\n",
    "origin_like.set_ticks(ax,0,300,0,1)\n",
    "plt.show()\n"
   ]
  },
  {
   "attachments": {},
   "cell_type": "markdown",
   "metadata": {},
   "source": [
    "In esssence, the iteration was performed by using a simple fixed point iteration. \n",
    "Additionally, full output can specified in order to recieve e.g the spatial information of the concentrations\n",
    "We can plot the time and spatial profiles of methanol and toluene"
   ]
  },
  {
   "attachments": {},
   "cell_type": "markdown",
   "metadata": {},
   "source": [
    "Finally, diffusionpy provides an interface to change the boundary conditions. For example here, we provide a time-dependant surface cocnentartion to consider that the surface concentration needs time to establish due to gassided diffusion limitations"
   ]
  },
  {
   "cell_type": "code",
   "execution_count": 10,
   "metadata": {},
   "outputs": [
    {
     "name": "stdout",
     "output_type": "stream",
     "text": [
      "------------- Initialization and postprocessing ----------------\n",
      "------------- Start diffusion modeling ----------------\n",
      "------------- Diffusion modeling took 0.1996047 seconds ----------------\n",
      "------------- Initialization and postprocessing took 0.0 seconds----------------\n",
      "------------- Start PC-SAFT modeling ----------------\n",
      "------------- PC-SAFT modeling took 0.4676339 seconds ----------------\n",
      "------------- Initialization and postprocessing ----------------\n",
      "------------- Start diffusion modeling ----------------\n",
      "------------- Diffusion modeling took 1.3947442 seconds ----------------\n"
     ]
    },
    {
     "ename": "Exception",
     "evalue": "Required step size is less than spacing between numbers. The time step of failing was 273.3667479533568 seconds",
     "output_type": "error",
     "traceback": [
      "\u001b[1;31m---------------------------------------------------------------------------\u001b[0m",
      "\u001b[1;31mException\u001b[0m                                 Traceback (most recent call last)",
      "\u001b[1;32mc:\\GitHub_Projects\\diffusionpy\\examples_notebooks\\01_codrying_pvac.ipynb Cell 23\u001b[0m line \u001b[0;36m5\n\u001b[0;32m      <a href='vscode-notebook-cell:/c%3A/GitHub_Projects/diffusionpy/examples_notebooks/01_codrying_pvac.ipynb#X31sZmlsZQ%3D%3D?line=2'>3</a>\u001b[0m witB\u001b[39m=\u001b[39mtime_dep_surface(t,wi0,wi8,mobile,taui)\n\u001b[0;32m      <a href='vscode-notebook-cell:/c%3A/GitHub_Projects/diffusionpy/examples_notebooks/01_codrying_pvac.ipynb#X31sZmlsZQ%3D%3D?line=3'>4</a>\u001b[0m Dvec\u001b[39m=\u001b[39mnp\u001b[39m.\u001b[39masarray([\u001b[39m1E-5\u001b[39m,\u001b[39m2E-10\u001b[39m,\u001b[39m8E-10\u001b[39m])\n\u001b[1;32m----> <a href='vscode-notebook-cell:/c%3A/GitHub_Projects/diffusionpy/examples_notebooks/01_codrying_pvac.ipynb#X31sZmlsZQ%3D%3D?line=4'>5</a>\u001b[0m wt,wtz,zvec,Lt\u001b[39m=\u001b[39mDiffusion_MS_iter(t,L,Dvec,wi0,wi8,Mi,mobile,full_output\u001b[39m=\u001b[39;49m\u001b[39mTrue\u001b[39;49;00m,dlnai_dlnwi_fun\u001b[39m=\u001b[39;49mdlnai_dlnwi_fun,witB\u001b[39m=\u001b[39;49mwitB)\n\u001b[0;32m      <a href='vscode-notebook-cell:/c%3A/GitHub_Projects/diffusionpy/examples_notebooks/01_codrying_pvac.ipynb#X31sZmlsZQ%3D%3D?line=6'>7</a>\u001b[0m \u001b[39m# wt,wtz,zvec,Lt=Diffusion_MS_iter(t,L,Dvec,wi0,wi8,Mi,mobile,full_output=True,dlnai_dlnwi_fun=dlnai_dlnwi_fun,witB=witB,maxit=9,method=\"wegstein\")\u001b[39;00m\n\u001b[0;32m      <a href='vscode-notebook-cell:/c%3A/GitHub_Projects/diffusionpy/examples_notebooks/01_codrying_pvac.ipynb#X31sZmlsZQ%3D%3D?line=7'>8</a>\u001b[0m \n\u001b[0;32m      <a href='vscode-notebook-cell:/c%3A/GitHub_Projects/diffusionpy/examples_notebooks/01_codrying_pvac.ipynb#X31sZmlsZQ%3D%3D?line=8'>9</a>\u001b[0m \u001b[39m# wt,wtz,zvec,Lt=Diffusion_MS(t,L,Dvec,wi0,wi8,Mi,mobile,full_output=True,witB=witB)\u001b[39;00m\n\u001b[0;32m     <a href='vscode-notebook-cell:/c%3A/GitHub_Projects/diffusionpy/examples_notebooks/01_codrying_pvac.ipynb#X31sZmlsZQ%3D%3D?line=9'>10</a>\u001b[0m \u001b[39m# for i in range(5):\u001b[39;00m\n\u001b[0;32m     <a href='vscode-notebook-cell:/c%3A/GitHub_Projects/diffusionpy/examples_notebooks/01_codrying_pvac.ipynb#X31sZmlsZQ%3D%3D?line=10'>11</a>\u001b[0m \u001b[39m#     dlnai_dlnwi=np.asarray([[dlnai_dlnwi_fun(col) for col in row.T] for row in wtz])\u001b[39;00m\n\u001b[0;32m     <a href='vscode-notebook-cell:/c%3A/GitHub_Projects/diffusionpy/examples_notebooks/01_codrying_pvac.ipynb#X31sZmlsZQ%3D%3D?line=11'>12</a>\u001b[0m \u001b[39m#     wt,wtz,zvec,Lt=Diffusion_MS(t,L,Dvec,wi0,wi8,Mi,mobile,full_output=True,dlnai_dlnwi=dlnai_dlnwi,witB=witB)\u001b[39;00m\n",
      "File \u001b[1;32mC:\\GitHub_Projects\\diffusionpy\\diffusionpy\\Stefan_Maxwell_segmental.py:345\u001b[0m, in \u001b[0;36mDiffusion_MS_iter\u001b[1;34m(t, L, Dvec, wi0, wi8, Mi, mobile, full_output, dlnai_dlnwi_fun, **kwargs)\u001b[0m\n\u001b[0;32m    343\u001b[0m     \u001b[39mprint\u001b[39m(\u001b[39m\"\u001b[39m\u001b[39m------------- PC-SAFT modeling took \u001b[39m\u001b[39m\"\u001b[39m\u001b[39m+\u001b[39m\u001b[39mstr\u001b[39m((end\u001b[39m-\u001b[39mstart)\u001b[39m/\u001b[39m\u001b[39m1E9\u001b[39m)\u001b[39m+\u001b[39m\u001b[39m\"\u001b[39m\u001b[39m seconds ----------------\u001b[39m\u001b[39m\"\u001b[39m)\n\u001b[0;32m    344\u001b[0m     \u001b[39mreturn\u001b[39;00m Diffusion_MS(t,L,Dvec,wi0,wi8,Mi,mobile,dlnai_dlnwi\u001b[39m=\u001b[39mdlnai_dlnwi,full_output\u001b[39m=\u001b[39m\u001b[39mTrue\u001b[39;00m,\u001b[39m*\u001b[39m\u001b[39m*\u001b[39mkwargs)[\u001b[39m1\u001b[39m]\n\u001b[1;32m--> 345\u001b[0m wtopt\u001b[39m=\u001b[39mwegstein(wt_fix,wt_old)\n\u001b[0;32m    346\u001b[0m wtopt\u001b[39m=\u001b[39mnp\u001b[39m.\u001b[39mascontiguousarray(np\u001b[39m.\u001b[39mswapaxes(wtopt,\u001b[39m1\u001b[39m,\u001b[39m2\u001b[39m))\n\u001b[0;32m    347\u001b[0m dlnai_dlnwiopt\u001b[39m=\u001b[39mdlnai_dlnwi_fun(wtopt)\n",
      "File \u001b[1;32mC:\\GitHub_Projects\\diffusionpy\\diffusionpy\\Stefan_Maxwell_segmental.py:305\u001b[0m, in \u001b[0;36mwegstein\u001b[1;34m(fun, x)\u001b[0m\n\u001b[0;32m    303\u001b[0m tol\u001b[39m=\u001b[39m\u001b[39m1E-6\u001b[39m \u001b[39m#Toleranzbereich\u001b[39;00m\n\u001b[0;32m    304\u001b[0m maxiter\u001b[39m=\u001b[39m\u001b[39m10\u001b[39m \u001b[39m#Anzahl max. Iterationen\u001b[39;00m\n\u001b[1;32m--> 305\u001b[0m f \u001b[39m=\u001b[39m fun(x)\n\u001b[0;32m    306\u001b[0m xx\u001b[39m=\u001b[39mf    \n\u001b[0;32m    307\u001b[0m dx \u001b[39m=\u001b[39m xx \u001b[39m-\u001b[39m x\n",
      "File \u001b[1;32mC:\\GitHub_Projects\\diffusionpy\\diffusionpy\\Stefan_Maxwell_segmental.py:344\u001b[0m, in \u001b[0;36mDiffusion_MS_iter.<locals>.wt_fix\u001b[1;34m(wtz)\u001b[0m\n\u001b[0;32m    342\u001b[0m end\u001b[39m=\u001b[39mtime\u001b[39m.\u001b[39mtime_ns()\n\u001b[0;32m    343\u001b[0m \u001b[39mprint\u001b[39m(\u001b[39m\"\u001b[39m\u001b[39m------------- PC-SAFT modeling took \u001b[39m\u001b[39m\"\u001b[39m\u001b[39m+\u001b[39m\u001b[39mstr\u001b[39m((end\u001b[39m-\u001b[39mstart)\u001b[39m/\u001b[39m\u001b[39m1E9\u001b[39m)\u001b[39m+\u001b[39m\u001b[39m\"\u001b[39m\u001b[39m seconds ----------------\u001b[39m\u001b[39m\"\u001b[39m)\n\u001b[1;32m--> 344\u001b[0m \u001b[39mreturn\u001b[39;00m Diffusion_MS(t,L,Dvec,wi0,wi8,Mi,mobile,dlnai_dlnwi\u001b[39m=\u001b[39;49mdlnai_dlnwi,full_output\u001b[39m=\u001b[39;49m\u001b[39mTrue\u001b[39;49;00m,\u001b[39m*\u001b[39;49m\u001b[39m*\u001b[39;49mkwargs)[\u001b[39m1\u001b[39m]\n",
      "File \u001b[1;32mC:\\GitHub_Projects\\diffusionpy\\diffusionpy\\Stefan_Maxwell_segmental.py:191\u001b[0m, in \u001b[0;36mDiffusion_MS\u001b[1;34m(tint, L, Dvec, wi0, wi8, Mi, mobile, full_output, dlnai_dlnwi, **kwargs)\u001b[0m\n\u001b[0;32m    189\u001b[0m end\u001b[39m=\u001b[39mtime\u001b[39m.\u001b[39mtime_ns()\n\u001b[0;32m    190\u001b[0m \u001b[39mprint\u001b[39m(\u001b[39m\"\u001b[39m\u001b[39m------------- Diffusion modeling took \u001b[39m\u001b[39m\"\u001b[39m\u001b[39m+\u001b[39m\u001b[39mstr\u001b[39m((end\u001b[39m-\u001b[39mstart)\u001b[39m/\u001b[39m\u001b[39m1E9\u001b[39m)\u001b[39m+\u001b[39m\u001b[39m\"\u001b[39m\u001b[39m seconds ----------------\u001b[39m\u001b[39m\"\u001b[39m)\n\u001b[1;32m--> 191\u001b[0m \u001b[39mif\u001b[39;00m \u001b[39mnot\u001b[39;00m sol[\u001b[39m\"\u001b[39m\u001b[39msuccess\u001b[39m\u001b[39m\"\u001b[39m]: \u001b[39mraise\u001b[39;00m \u001b[39mException\u001b[39;00m(sol[\u001b[39m\"\u001b[39m\u001b[39mmessage\u001b[39m\u001b[39m\"\u001b[39m]\u001b[39m+\u001b[39m\u001b[39mf\u001b[39m\u001b[39m\"\u001b[39m\u001b[39m The time step of failing was \u001b[39m\u001b[39m{\u001b[39;00mtint[\u001b[39mlen\u001b[39m(sol[\u001b[39m'\u001b[39m\u001b[39my\u001b[39m\u001b[39m'\u001b[39m])]\u001b[39m}\u001b[39;00m\u001b[39m seconds\u001b[39m\u001b[39m\"\u001b[39m)\u001b[39m# the initial conditions are returned instead ----------------\"); #return wi0*np.ones((nc,nt)).T \u001b[39;00m\n\u001b[0;32m    192\u001b[0m \u001b[39m# x_sol=np.exp(sol[\"y\"] ) if \"EJ\" not in kwargs else sol[\"y\"] \u001b[39;00m\n\u001b[0;32m    193\u001b[0m x_sol\u001b[39m=\u001b[39msol[\u001b[39m\"\u001b[39m\u001b[39my\u001b[39m\u001b[39m\"\u001b[39m]\n",
      "\u001b[1;31mException\u001b[0m: Required step size is less than spacing between numbers. The time step of failing was 273.3667479533568 seconds"
     ]
    }
   ],
   "source": [
    "taui=np.asarray([5,55])\n",
    "from diffusionpy.surface_activity import time_dep_surface\n",
    "witB=time_dep_surface(t,wi0,wi8,mobile,taui)\n",
    "Dvec=np.asarray([1E-5,2E-10,8E-10])\n",
    "wt,wtz,zvec,Lt=Diffusion_MS_iter(t,L,Dvec,wi0,wi8,Mi,mobile,full_output=True,dlnai_dlnwi_fun=dlnai_dlnwi_fun,witB=witB)\n",
    "\n",
    "# wt,wtz,zvec,Lt=Diffusion_MS_iter(t,L,Dvec,wi0,wi8,Mi,mobile,full_output=True,dlnai_dlnwi_fun=dlnai_dlnwi_fun,witB=witB,maxit=9,method=\"wegstein\")\n",
    "\n",
    "# wt,wtz,zvec,Lt=Diffusion_MS(t,L,Dvec,wi0,wi8,Mi,mobile,full_output=True,witB=witB)\n",
    "# for i in range(5):\n",
    "#     dlnai_dlnwi=np.asarray([[dlnai_dlnwi_fun(col) for col in row.T] for row in wtz])\n",
    "#     wt,wtz,zvec,Lt=Diffusion_MS(t,L,Dvec,wi0,wi8,Mi,mobile,full_output=True,dlnai_dlnwi=dlnai_dlnwi,witB=witB)\n"
   ]
  },
  {
   "cell_type": "code",
   "execution_count": null,
   "metadata": {},
   "outputs": [],
   "source": [
    "# wt,wtz,zvec,Lt=Diffusion_MS_iter(t,L,Dvec,wi0,wi8,Mi,mobile,full_output=True,dlnai_dlnwi_fun=dlnai_dlnwi_fun,witB=witB)\n",
    "\n",
    "# lngi_fun=lambda wi: lngi(T,wi,**par)\n",
    "\n",
    "# wt,wtz,zvec,Lt=Diffusion_MS(t,L,Dvec,wi0,wi8,Mi,mobile,full_output=True)\n",
    "# for i in range(5):\n",
    "#         lngi_tz=np.asarray([[lngi_fun(col) for col in row.T] for row in wtz])\n",
    "#         wt,wtz,zvec,Lt=Diffusion_MS(t,L,Dvec,wi0,wi8,Mi,mobile,full_output=True,lngi_tz=lngi_tz,witB=witB)"
   ]
  },
  {
   "cell_type": "code",
   "execution_count": null,
   "metadata": {},
   "outputs": [],
   "source": [
    "%config InlineBackend.print_figure_kwargs = {'bbox_inches': None}\n",
    "\n",
    "color1 = \"#99CDE9\"\n",
    "color2 = \"#F08208\"\n",
    "color3 = \"#99CC00\"\n",
    "\n",
    "fig,ax=origin_like.subplots()\n",
    "\n",
    "origin_like.plot(ax,t,wt[:,0],\"c-\")\n",
    "origin_like.plot(ax,t,wt[:,1],\"r-\")\n",
    "origin_like.plot(ax,t,wt[:,2],\"g-\")\n",
    "origin_like.plot(ax,texp,wmet,\"co\")\n",
    "origin_like.plot(ax,texp,wtol,\"ro\")\n",
    "origin_like.plot(ax,texp,wpvac,\"go\")\n",
    "origin_like.set_xlabel(ax,\"t\",\"s\")\n",
    "origin_like.set_ylabel(ax,\"w_i\",\"-\")\n",
    "origin_like.set_ticks(ax,0,300,0,1)\n",
    "plt.show()"
   ]
  },
  {
   "cell_type": "code",
   "execution_count": null,
   "metadata": {},
   "outputs": [],
   "source": [
    "fig3, ax3 = origin_like.subplots()\n",
    "origin_like.set_xlabel(ax3,\"z\",\" µm\")\n",
    "origin_like.set_ylabel(ax3,\"X_i\",\"-\")\n",
    "[origin_like.plot(ax3,Lt[i]/Lt[0]*zvec*1E6,wtz[i,0,:]/wtz[i,2,:],\"c-\") for i,val in enumerate(wtz[:,0,0])]\n",
    "# [origin_like.plot(ax3,zvec*1E6,wtz[i,0,:]/wtz[i,2,:],\"c-\") for i,val in enumerate(wtz[:,0,0])]\n",
    "origin_like.plot(ax3,zexp1*Lt[0]*1E6,meth, \"bo\")\n",
    "\n",
    "fig4, ax4 = origin_like.subplots()\n",
    "origin_like.set_xlabel(ax4,\"z\",\" µm\")\n",
    "origin_like.set_ylabel(ax4,\"X_i\",\"-\")\n",
    "[origin_like.plot(ax4,Lt[i]/Lt[0]*zvec*1E6,wtz[i,1,:]/wtz[i,2,:],\"g-\") for i,val in enumerate(wtz[:,0,0])]\n",
    "# [origin_like.plot(ax4,zvec*1E6,wtz[i,1,:]/wtz[i,2,:],\"g-\") for i,val in enumerate(wtz[:,0,0])]\n",
    "origin_like.plot(ax4,zexp2*Lt[0]*1E6,tolu, \"go\")"
   ]
  },
  {
   "cell_type": "markdown",
   "metadata": {},
   "source": [
    "In Triangular diagram\n"
   ]
  },
  {
   "cell_type": "code",
   "execution_count": null,
   "metadata": {},
   "outputs": [],
   "source": [
    "%config InlineBackend.print_figure_kwargs = {'bbox_inches': None}\n",
    "\n",
    "figt,axt=origin_like.ternary()\n",
    "origin_like.plot(axt,wtol,wpvac,\"ro\",z=wmet,order=2)\n",
    "origin_like.plot(axt,wt[:,1],wt[:,2],\"r-\",z=wt[:,0],order=1)\n",
    "origin_like.set_labels(axt,label=\"mass fractions / -\",title=\"T = 298.15 K \\np = 1 bar\",xlabel='toluol',ylabel='polymer',zlabel=\"methanol\")\n",
    "ticks=np.linspace(0, 1, 6)\n",
    "ticks_zero_one_less=ticks[np.logical_and(ticks!=0,ticks!=1)]\n",
    "axt.taxis.set_ticks(ticks_zero_one_less)\n",
    "axt.laxis.set_ticks(ticks_zero_one_less)\n",
    "axt.raxis.set_ticks(ticks_zero_one_less)"
   ]
  }
 ],
 "metadata": {
  "kernelspec": {
   "display_name": "Python 3 (ipykernel)",
   "language": "python",
   "name": "python3"
  },
  "language_info": {
   "codemirror_mode": {
    "name": "ipython",
    "version": 3
   },
   "file_extension": ".py",
   "mimetype": "text/x-python",
   "name": "python",
   "nbconvert_exporter": "python",
   "pygments_lexer": "ipython3",
   "version": "3.11.4"
  },
  "vscode": {
   "interpreter": {
    "hash": "155058e36bf5ed4f47d0ce54cf51e48fed84b2ca3ed25a64d8425315b88e4e7c"
   }
  }
 },
 "nbformat": 4,
 "nbformat_minor": 2
}
