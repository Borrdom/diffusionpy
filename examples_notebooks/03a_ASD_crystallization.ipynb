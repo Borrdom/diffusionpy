{
 "cells": [
  {
   "cell_type": "code",
   "execution_count": 1,
   "id": "7148459d",
   "metadata": {
    "lines_to_next_cell": 1
   },
   "outputs": [],
   "source": [
    "import numpy as np\n",
    "\n",
    "from scipy.interpolate import interp1d\n",
    "from diffusionpy import D_Matrix,Diffusion_MS_iter,Diffusion_MS,time_dep_surface_cryst,lngi,vpure,dlnai_dlnxi\n",
    "import matplotlib.pyplot as plt"
   ]
  },
  {
   "cell_type": "code",
   "execution_count": 2,
   "id": "7e5ce177",
   "metadata": {},
   "outputs": [],
   "source": [
    "crystallize=np.asarray([False,False,True])\n",
    "mobile=np.asarray([True,False,False])\n",
    "mobiles=np.where(mobile)[0]\n",
    "immobiles=np.where(~mobile)[0]\n",
    "deltaHSL=np.asarray([31500.])\n",
    "TSL=np.asarray([429.47])\n",
    "cpSL=np.asarray([87.44])"
   ]
  },
  {
   "cell_type": "code",
   "execution_count": 3,
   "id": "4b1d973b",
   "metadata": {},
   "outputs": [],
   "source": [
    "data=np.asarray([[0.,\t0.27288],\n",
    "       [0.05   , 0.23445],\n",
    "       [0.1    , 0.19755],\n",
    "       [0.15   , 0.17761],\n",
    "       [0.2    , 0.16723],\n",
    "       [0.25   , 0.15672],\n",
    "       [0.3    , 0.14609],\n",
    "       [0.35   , 0.13535],\n",
    "       [0.45   , 0.11365],\n",
    "       [0.5    , 0.10276],\n",
    "       [0.55   , 0.09191],\n",
    "       [0.6    , 0.0812 ],\n",
    "       [0.65   , 0.07075],\n",
    "       [0.7    , 0.0607 ],\n",
    "       [0.75   , 0.05123],\n",
    "       [0.8    , 0.04251],\n",
    "       [0.85   , 0.03468],\n",
    "       [0.9    , 0.03224],\n",
    "       [0.95   , 0.0312 ],\n",
    "       [1.     , 0.03033]])\n",
    "ww=data[:,1] #np.asarray([0.27087,0.22302, 0.13792, 0.09208, 0.06118])\n",
    "dl=data[:,0] #np.asarray([0,0.1 , 0.3 , 0.5 , 0.68])\n",
    "DAPI=np.asarray([6.6E-17])\n",
    "sigma=np.asarray([1.98E-02])\n",
    "kt=np.asarray([5.1E-12])\n",
    "g=np.asarray([3.2])\n",
    "Mi=np.asarray([18.015,65000.,230.26])\n",
    "rho0i=np.asarray([997.,1180.,1320.])"
   ]
  },
  {
   "cell_type": "code",
   "execution_count": 4,
   "id": "7c893d50",
   "metadata": {},
   "outputs": [],
   "source": [
    "wv_fun=interp1d(dl,ww,bounds_error=False,fill_value=(np.max(ww),np.min(ww)))"
   ]
  },
  {
   "cell_type": "code",
   "execution_count": 5,
   "id": "abb608e9",
   "metadata": {},
   "outputs": [],
   "source": [
    "nc=3\n",
    "wv0=0.0001\n",
    "dl0=0.68\n",
    "wi0=np.asarray([wv0,(1-wv0)*(1-dl0),(1-wv0)*dl0])\n",
    "wv8=wv_fun(dl0)\n",
    "wi8=np.asarray([wv8,(1-wv8)*(1-dl0),(1-wv8)*dl0])\n",
    "T=298.15\n",
    "p=1E5"
   ]
  },
  {
   "cell_type": "code",
   "execution_count": 6,
   "id": "21ea571a",
   "metadata": {},
   "outputs": [],
   "source": [
    "kij=D_Matrix(np.asarray([-0.128,0.00648,-0.0574]),nc)\n",
    "par={\"mi\":np.asarray([1.20469,2420.99, 8.105152]),\n",
    "\"si\": np.asarray([2.797059952,2.947, 2.939]),\n",
    "\"ui\" :np.asarray([353.95,205.27, 229.45]),\n",
    "\"eAi\" :np.asarray([2425.67,0., 934.2]),\n",
    "\"kAi\":np.asarray([0.04509,0.02, 0.02]),\n",
    "\"NAi\":np.asarray([1.,653., 2.]),\n",
    "\"Mi\": Mi,\n",
    "\"kij\":kij}"
   ]
  },
  {
   "cell_type": "code",
   "execution_count": 7,
   "id": "ac958866",
   "metadata": {},
   "outputs": [],
   "source": [
    "vpures=vpure(p,T,**par)"
   ]
  },
  {
   "cell_type": "code",
   "execution_count": 8,
   "id": "b9abd777",
   "metadata": {
    "lines_to_next_cell": 2
   },
   "outputs": [],
   "source": [
    "par[\"vpure\"]=vpures\n",
    "lngi_fun=lambda wi: lngi(T,wi,**par)"
   ]
  },
  {
   "cell_type": "code",
   "execution_count": 9,
   "id": "0a9415c0",
   "metadata": {},
   "outputs": [
    {
     "name": "stdout",
     "output_type": "stream",
     "text": [
      "------------- Start diffusion modeling ----------------\n",
      "------------- Diffusion modeling took 0.1336192 seconds ----------------\n",
      "------------- Start diffusion modeling ----------------\n",
      "------------- Diffusion modeling took 0.2370226 seconds ----------------\n",
      "------------- Start diffusion modeling ----------------\n",
      "------------- Diffusion modeling took 0.3110619 seconds ----------------\n",
      "iter 0: ||F|| = 0.00117488, sigma = 1\n",
      "------------- Start diffusion modeling ----------------\n",
      "------------- Diffusion modeling took 0.2758638 seconds ----------------\n",
      "iter 1: ||F|| = 0.00116729, sigma = 154.76\n",
      "------------- Start diffusion modeling ----------------\n",
      "------------- Diffusion modeling took 0.1829834 seconds ----------------\n",
      "iter 2: ||F|| = 0.000225684, sigma = 178.335\n",
      "------------- Start diffusion modeling ----------------\n",
      "------------- Diffusion modeling took 0.1900987 seconds ----------------\n",
      "iter 3: ||F|| = 6.39235e-05, sigma = 219.283\n",
      "------------- Start diffusion modeling ----------------\n",
      "------------- Diffusion modeling took 0.1830153 seconds ----------------\n",
      "iter 4: ||F|| = 1.38533e-05, sigma = 254.881\n",
      "------------- Start diffusion modeling ----------------\n",
      "------------- Diffusion modeling took 0.1718485 seconds ----------------\n",
      "iter 5: ||F|| = 2.68167e-06, sigma = 231.463\n",
      "------------- Start diffusion modeling ----------------\n",
      "------------- Diffusion modeling took 0.1559055 seconds ----------------\n",
      "iter 6: ||F|| = 3.80175e-07, sigma = 258.377\n"
     ]
    },
    {
     "data": {
      "image/png": "[encoded data removed]",
      "text/plain": [
       "<Figure size 432x288 with 1 Axes>"
      ]
     },
     "metadata": {
      "needs_background": "light"
     },
     "output_type": "display_data"
    }
   ],
   "source": [
    "nt=300\n",
    "t=np.linspace(0,1300,nt)*60\n",
    "witB,alpha,r=time_dep_surface_cryst(t,mobiles,immobiles,crystallize,wi0,wi8,rho0i,Mi,DAPI,sigma,kt,g,deltaHSL,TSL,cpSL,lngi_fun,wv_fun)\n",
    "tmin=t/60\n",
    "# fig1,ax1=plt.subplots()\n",
    "# fig2,ax2=plt.subplots()\n",
    "# ax1.plot(tmin,alpha)\n",
    "# rmu=r/1E-6\n",
    "# ax2.plot(tmin,rmu)\n",
    "# import pandas as pd\n",
    "# pd.DataFrame((tmin,alpha,rmu)).to_clipboard()\n",
    "# plt.plot(t/60,witB[0,:])\n",
    "# plt.plot(t/60,witB[1,:])\n",
    "# plt.plot(t/60,witB[2,:])\n",
    "Dvec=np.asarray([5E-13,5E-13,5E-13])\n",
    "L=2.5E-5\n",
    "dlnai_dlnwi_fun=lambda wi: dlnai_dlnxi(T,wi,**par)\n",
    "wt=Diffusion_MS(t,L,Dvec,wi0,wi8,Mi,mobile,swelling=True,witB=witB.T)\n",
    "wt=Diffusion_MS_iter(t,L,Dvec,wi0,wi8,Mi,mobile,swelling=True,witB=witB.T,dlnai_dlnwi_fun=dlnai_dlnwi_fun)\n",
    "XwL=wt[:,0]/(1-wt[:,0])\n",
    "Xw=XwL*(1-alpha)\n",
    "ww=Xw/(1+Xw)\n",
    "# plt.plot(t/60,witB.T[:,0],\"bo\")\n",
    "plt.plot(t/60,Xw,'b',label=\"Non-ideal and wiB(t)\")\n",
    "plt.legend(\"\")\n",
    "plt.show()\n",
    "import pandas as pd\n",
    "pd.DataFrame((tmin,ww)).T.to_clipboard(excel=True, sep=None, index=False, header=None)"
   ]
  }
 ],
 "metadata": {
  "jupytext": {
   "cell_metadata_filter": "-all",
   "main_language": "python",
   "notebook_metadata_filter": "-all"
  },
  "kernelspec": {
   "display_name": "Python 3",
   "language": "python",
   "name": "python3"
  },
  "language_info": {
   "codemirror_mode": {
    "name": "ipython",
    "version": 3
   },
   "file_extension": ".py",
   "mimetype": "text/x-python",
   "name": "python",
   "nbconvert_exporter": "python",
   "pygments_lexer": "ipython3",
   "version": "3.9.13"
  }
 },
 "nbformat": 4,
 "nbformat_minor": 5
}
