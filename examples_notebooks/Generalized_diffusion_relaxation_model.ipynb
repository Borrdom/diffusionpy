{
 "cells": [
  {
   "cell_type": "code",
   "execution_count": null,
   "metadata": {},
   "outputs": [],
   "source": [
    "import numpy as np\n",
    "from diffusionpy import Diffusion_MS,Diffusion_MS_iter,dlnai_dlnxi,vpure,D_Matrix\n",
    "import matplotlib.pyplot as plt\n",
    "nt=500\n",
    "\n",
    "t=np.linspace(0.,4000.*60.,nt)\n",
    "Mi=np.asarray([18.015,65000])\n",
    "EJ=np.asarray([1E10])\n",
    "etaJ=np.asarray([1E9])\n",
    "exponent=np.asarray([0.,0.])\n",
    "mobile=np.asarray([True,False])\n",
    "Dvec=np.asarray([5E-14])\n",
    "wi0=np.asarray([1E-4,1-1E-4])\n",
    "wi8=np.asarray([0.1,0.9])\n",
    "#ai0=np.asarray([0.001,1])\n",
    "#ai8=np.asarray([0.25,1])\n",
    "a10=np.asarray([0.001])\n",
    "a18=np.asarray([0.25])\n",
    "L=1E-5\n",
    "dlna1_dlnw1=(np.log(a10)-np.log(a18))/(np.log(wi0[0])-np.log(wi8[0]))\n",
    "#dlnai_dlnwi=np.subtract.outer(np.log(ai0),np.log(ai8))/np.subtract.outer(np.log(wi0),np.log(wi8))\n",
    "dlnai_dlnwi=np.asarray([[[dlna1_dlnw1,0.],[0.,1.]]]*len(t))\n",
    "rho0i=np.asarray([997.,1180])\n",
    "etavec=np.asarray([1E9,1E12,1E14,1E16])\n",
    "for etaJ in etavec:\n",
    "    wt=Diffusion_MS(t,L,Dvec,wi0,wi8,Mi,mobile,dlnai_dlnwi=dlnai_dlnwi,EJ=EJ,etaJ=etaJ,exponent=exponent,rho0i=rho0i)\n",
    "    plt.plot((t/60)**(1/2),wt[:,0])\n",
    "# plt.plot(t,wt[:,2])\n",
    "plt.show()"
   ]
  }
 ],
 "metadata": {
  "language_info": {
   "name": "python"
  },
  "orig_nbformat": 4
 },
 "nbformat": 4,
 "nbformat_minor": 2
}
