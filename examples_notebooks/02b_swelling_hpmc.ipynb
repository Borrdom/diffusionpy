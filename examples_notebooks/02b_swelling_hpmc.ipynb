{
 "cells": [
  {
   "cell_type": "markdown",
   "metadata": {},
   "source": [
    " # Modeling the swelling behavior of a hypromellulose-based pharmaceutical formulation\n"
   ]
  },
  {
   "cell_type": "code",
   "execution_count": null,
   "metadata": {},
   "outputs": [],
   "source": [
    "import numpy as np\n",
    "from numpy import array\n",
    "from diffusionpy import Diffusion_MS,D_Matrix,Diffusion_MS_iter,vpure,dlnai_dlnxi_loop,circular,origin_like\n",
    "import matplotlib.pyplot as plt"
   ]
  },
  {
   "cell_type": "markdown",
   "metadata": {},
   "source": [
    "We import the experimental data from https://doi.org/10.1016/s0168-3659(99)00104-2"
   ]
  },
  {
   "cell_type": "code",
   "execution_count": null,
   "metadata": {},
   "outputs": [],
   "source": [
    "\n",
    "swelling_data=array([[0.       ,    0.    ],\n",
    "       [  9.24861,   0.895  ],\n",
    "       [ 11.18739,   1.08754],\n",
    "       [ 16.86526,   1.2824 ],\n",
    "       [ 32.37552,   1.54222],\n",
    "       [ 63.25758,   2.15696],\n",
    "       [121.14411,   2.80418],\n",
    "       [152.02616,   3.06168],\n",
    "       [182.76973,   3.28902],\n",
    "       [211.713  ,   3.51403],\n",
    "       [242.59505,   3.8388 ],\n",
    "       [271.53832,   4.00119],\n",
    "       [302.42037,   4.25869],\n",
    "       [333.30242,   4.38859],\n",
    "       [360.3069 ,   4.61593],\n",
    "       [420.13222,   5.06829],\n",
    "       [451.01427,   5.13324],\n",
    "       [483.83511,   5.35826]])\n",
    "\n",
    "minutes_exp=swelling_data[:,0]\n",
    "thickness_millis=swelling_data[:,1]\n",
    "msol=500000\n",
    "mges0=125\n",
    "wv0=0.01\n",
    "wv8=0.99\n",
    "\n",
    "dl0vec=np.asarray([0.1,0.2,0.3,0.4,0.6,0.8])\n",
    "\n",
    "def limits(dl0,wv0,wv8):\n",
    "       wi0=np.asarray([(1-wv0)*(1-dl0),(1-wv0)*dl0,wv0])\n",
    "       wi8=np.asarray([(1-wv8)*(1-dl0),(1-wv8)*dl0,wv8])\n",
    "       return wi0,wi8\n"
   ]
  },
  {
   "cell_type": "markdown",
   "metadata": {},
   "source": [
    "We wan to model this particular behavior"
   ]
  },
  {
   "cell_type": "code",
   "execution_count": null,
   "metadata": {},
   "outputs": [],
   "source": [
    "from IPython.display import Image\n",
    "Image(\"swelling_hpmc.png\")"
   ]
  },
  {
   "cell_type": "markdown",
   "metadata": {},
   "source": [
    " We want to describe the water sorption and dissolution of this formulation. The formulation consists of three components: the hypromellulose (hpmc) which is the polymer, the buflomedil pyridoxal phosphate (bpp) as an API and water. First we define starting and equilibrium weight fractions."
   ]
  },
  {
   "cell_type": "code",
   "execution_count": null,
   "metadata": {},
   "outputs": [],
   "source": [
    "nc=3\n",
    "L=6/1000\n",
    "# Dvec=np.asarray([5E-11,6E-9,6E-9]) \n",
    "\n",
    "Dvec=np.asarray([0.5E-10,50E-10,4E-10]) \n",
    "# Dvec=np.asarray([0.5E-10,80E-10,30E-10])/50\n",
    "# Dvec=np.asarray([0.5E-10,40E-10,30E-10])/20\n",
    "# Dvec=np.asarray([10000E-10,500E-10,1000E-10])/800\n",
    "Dvec=np.asarray([1E-10,1E-10,50E-10])*3\n",
    "Dvec=np.asarray([1E-10,1E-10,1E-10])*6\n",
    "# Dvec=np.asarray([0.5E-10,40E-10,30E-10])*10\n",
    "# Dvec=np.asarray([4E-12,1.1E-10,1.1E-7]) \n",
    "# Mi=np.asarray([86000,554.5,18.015])\n",
    "Mi=np.asarray([86000,554.5,18.015])\n",
    "nt=300\n",
    "t=np.linspace(0,minutes_exp[-1],nt)*60\n",
    "mobile=np.asarray([False,False,True])\n",
    "\n",
    "EJ=np.asarray([12E11])\n",
    "etaJ=np.asarray([12E11])\n",
    "exponent=np.asarray([0.,30.])\n",
    "\n",
    "# Density of BPP  1394 kg/m3 at 37 C via Helium Pycnometry https://doi.org/10.1016/s0168-3659(99)00104-2\n",
    "# Water solubility of BPP  0.65 kg/l  https://doi.org/10.1016/s0168-3659(99)00104-2\n",
    "\n"
   ]
  },
  {
   "cell_type": "code",
   "execution_count": null,
   "metadata": {},
   "outputs": [],
   "source": [
    "T=298.15\n",
    "p=1E5\n",
    "kij=D_Matrix(np.asarray([0,0,0]),nc)\n",
    "par={\"mi\":np.asarray([4136.278, 14.283,1.20469]),\n",
    "\"si\": np.asarray([2.889, 3.535,2.797059952]),\n",
    "\"ui\" :np.asarray([298.047, 262.79,353.95]),\n",
    "\"eAi\" :np.asarray([0., 886.4,2425.67]),\n",
    "\"kAi\":np.asarray([0.02, 0.02,0.04509]),\n",
    "\"NAi\":np.asarray([525., 3.,1.]),\n",
    "\"Mi\": Mi,\n",
    "\"kij\":kij,\n",
    "\"kijA\":np.asarray([[0.]])}\n",
    "\n",
    "vpures=vpure(p,T,**par)\n",
    "par[\"vpure\"]=vpures\n",
    "dlnai_dlnwi_fun=lambda wi: dlnai_dlnxi_loop(T,wi,**par)"
   ]
  },
  {
   "cell_type": "code",
   "execution_count": null,
   "metadata": {},
   "outputs": [],
   "source": [
    "\n",
    "\n",
    "# wt,wtz,zvec,Lt=Diffusion_MS_iter(t,L,Dvec,wi0,wi8,Mi,mobile,swelling=True,full_output=True,nz=20,dlnai_dlnwi_fun=dlnai_dlnwi_fun)\n",
    "# wrel=-mges0/msol*(wt*Lt[:,None]/L-wi0)\n"
   ]
  },
  {
   "cell_type": "markdown",
   "metadata": {},
   "source": [
    " We can determine the mass dissolved in the dissolution medium by quantifying the mass that leaves the ASD. The initial mass of the ASD and the mass of the dissolution medium must be known"
   ]
  },
  {
   "cell_type": "markdown",
   "metadata": {},
   "source": [
    " We plot the results"
   ]
  },
  {
   "cell_type": "code",
   "execution_count": null,
   "metadata": {},
   "outputs": [],
   "source": [
    "%config InlineBackend.print_figure_kwargs = {'bbox_inches': None}\n",
    "\n",
    "# fig, ax = origin_like.subplots()\n",
    "# origin_like.plot(ax,t/60,wrel[:,1], \"g-\")\n",
    "# origin_like.set_xlabel(ax,\"t\",\"s\")\n",
    "# origin_like.set_ylabel(ax,\"w_i\",\"-\")"
   ]
  },
  {
   "cell_type": "markdown",
   "metadata": {},
   "source": [
    "And lastly"
   ]
  },
  {
   "cell_type": "code",
   "execution_count": null,
   "metadata": {},
   "outputs": [],
   "source": [
    "from matplotlib.colors import LinearSegmentedColormap\n",
    "\n",
    "# colors = [(230/255, 231/255, 228/255), (228/255, 196/255, 166/255)] # first color is black, last is red\n",
    "colors = [(230/255, 231/255, 228/255), (211/255, 164/255, 136/255)] \n",
    "colors = [(230/255, 231/255, 228/255), (207/255, 153/255, 118/255)] \n",
    "# colors = [(230/255, 231/255, 228/255), (221/255, 231/255, 243/255)] #\n",
    "cm = LinearSegmentedColormap.from_list(\n",
    "        \"Custom\", colors, N=20)\n",
    "import matplotlib\n",
    "def circular2(zvec,wtz_list,comp=0,cmap=\"Blues\",vmin=None,vmax=None,label=None,dlvec=None):\n",
    "    matplotlib.rcParams['mathtext.fontset'] = 'custom'\n",
    "    matplotlib.rcParams['mathtext.rm'] = 'Calibri'\n",
    "    matplotlib.rcParams['mathtext.it'] = 'Calibri'\n",
    "    matplotlib.rcParams['mathtext.bf'] = 'Calibri'\n",
    "    matplotlib.rcParams['xtick.major.pad']='5'\n",
    "    matplotlib.rcParams['ytick.major.pad']='5'\n",
    "    matplotlib.rcParams['axes.linewidth'] = 0.5\n",
    "    # matplotlib.rcParams[\"toolbar\"] = \"toolmanager\"\n",
    "    # plt.rcParams['axes.autolimit_mode'] = 'round_numbers'\n",
    "    \n",
    "    font = {'weight' : 'normal',\n",
    "            'size'   : 16,\n",
    "            'family' : \"calibri\"}\n",
    "    plt.rc('font', **font)\n",
    "    plt.rc('axes', titlesize=font[\"size\"]) \n",
    "    L=zvec[-1]\n",
    "    # expansion=Lt[:,None]/L if Lt is not None else np.ones_like(t)[:,None]\n",
    "    phi=np.linspace(0,2*np.pi,41)\n",
    "    Rad,Phi=np.meshgrid(zvec*1E6,phi)\n",
    "    instances=len(wtz_list)\n",
    "    fig, axes = plt.subplots(2,instances//2, constrained_layout=True,subplot_kw={'projection': 'polar'},figsize=(5,7),dpi=250)\n",
    "    # axes=[]\n",
    "    axes=axes.flatten()\n",
    "    pls=[]\n",
    "\n",
    "    if vmin is None: vmin=np.min(wtz) \n",
    "    if vmax is None: vmax=np.max(wtz)\n",
    "    \n",
    "\n",
    "    for i,wtz in enumerate(wtz_list):\n",
    "        axes[i].grid(False)\n",
    "        # axes.append(fig.add_subplot(2,instances//2,i+1, polar=True))\n",
    "        pls.append(axes[i].contourf(Phi,Rad,np.meshgrid(wtz[comp,:],phi)[0],cmap=cmap,vmin=vmin,vmax=vmax))\n",
    "        axes[i].grid(False)\n",
    "        axes[i].set_xticklabels([])\n",
    "        axes[i].set_yticklabels([])\n",
    "        axes[i].set_ylim(0, np.max(zvec*1E6))\n",
    "        axes[i].spines['polar'].set_visible(False)\n",
    "        axes[i].set_title(f'{dlvec[i]*100:.0f}'+\" % DL\", va='bottom')\n",
    "\n",
    "    axes=np.asarray(axes)\n",
    "      \n",
    "    cbar=fig.colorbar(pls[-1], ax=axes.ravel().tolist(),orientation=\"horizontal\")\n",
    "    if label is None: label='$w_i / -$'\n",
    "    cbar.set_label(label)\n",
    "    fig.subplots_adjust(hspace=0,wspace=0)  \n",
    "    return fig, axes\n",
    "\n",
    "\n",
    "# figI,axesI=circular(t,zvec,wtz,Lt=Lt,instances=6,comp=2,cmap=cm)\n",
    "wtz_list=[]\n",
    "fig, ax = origin_like.subplots()\n",
    "origin_like.set_xlabel(ax,\"t\", \"min\")\n",
    "origin_like.set_ylabel(ax,\"L-L_0\", \"µm\")\n",
    "origin_like.set_ticks(ax,0,500,0,6)\n",
    "\n",
    "lines=[\"r-\",\"c-\",\"g-\",\"b-\",\"k-\",\"y-\"]\n",
    "i=0\n",
    "for dl0 in dl0vec:\n",
    "    wi0,wi8=limits(dl0,wv0,wv8)\n",
    "    # wt,wtz,zvec,Lt,sigma=Diffusion_MS_iter(t,L,Dvec,wi0,wi8,Mi,mobile,dlnai_dlnwi=dlnai_dlnxi_loop,swelling=True,full_output=True,nz=20)\n",
    "    wt,wtz,zvec,Lt=Diffusion_MS(t,L,Dvec,wi0,wi8,Mi,mobile,swelling=True,full_output=True,nz=20)\n",
    "\n",
    "    wtz[:,1,:][wtz[:,2,:]<0.05]=0\n",
    "    tinterp=np.asarray([120,120,120,120,120,120])*60\n",
    "\n",
    "    wtz_list.append(wtz[np.argmin(np.abs((t/60-120))),:,:])\n",
    "\n",
    "    if lines[i]==\"k-\": origin_like.plot(ax,t/60,(Lt-L)*1000, lines[i]) \n",
    "    i+=1\n",
    "    \n",
    "origin_like.plot(ax,minutes_exp,thickness_millis, \"ro\")\n",
    "\n",
    "\n",
    "figII,axesII=circular2(zvec,wtz_list,comp=1,vmin=0,vmax=0.8,cmap=cm,dlvec=dl0vec)\n",
    "figIII,axesIII=circular(t,zvec,wtz,Lt=Lt,instances=6,comp=2,cmap=\"Blues\")\n",
    "    # [axis.set_facecolor((221/255, 231/255, 243/255)) for axis in axesI]\n",
    "[axis.set_facecolor((221/255, 231/255, 243/255)) for axis in axesII]\n",
    "plt.show()\n",
    "#     Image(\"swelling_hpmc.png\")\n",
    "#     fig, ax = origin_like.subplots()\n",
    "#     origin_like.plot(ax,t/60,(Lt-L)*1000, \"r-\")\n",
    "#     origin_like.plot(ax,minutes_exp,thickness_millis, \"ro\")\n",
    "#     origin_like.set_xlabel(ax,\"t\", \"s\")\n",
    "#     origin_like.set_ylabel(ax,\"L\", \"µm\")\n",
    "#     plt.show()"
   ]
  },
  {
   "cell_type": "markdown",
   "metadata": {},
   "source": [
    "We check the thickness\n"
   ]
  },
  {
   "cell_type": "code",
   "execution_count": null,
   "metadata": {},
   "outputs": [],
   "source": []
  }
 ],
 "metadata": {
  "kernelspec": {
   "display_name": "Python 3",
   "language": "python",
   "name": "python3"
  },
  "language_info": {
   "codemirror_mode": {
    "name": "ipython",
    "version": 3
   },
   "file_extension": ".py",
   "mimetype": "text/x-python",
   "name": "python",
   "nbconvert_exporter": "python",
   "pygments_lexer": "ipython3",
   "version": "3.11.4"
  },
  "orig_nbformat": 4
 },
 "nbformat": 4,
 "nbformat_minor": 2
}
