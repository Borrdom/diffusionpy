{
 "cells": [
  {
   "cell_type": "markdown",
   "metadata": {},
   "source": [
    "# Controlling quality and kinetics of ASD drying processes \n",
    "This notebook reproduces the data, modellings and predictions from the Paper 'Controlling quality and kinetics of ASD drying processes' from Kerkhoff et al.. The index w denotes water, e denotes ethanol, a denotes the API and p denotes the polymer\n",
    "In this notebook, the parameters are defined all at once while their context is given in the consecutive cells"
   ]
  },
  {
   "cell_type": "code",
   "execution_count": null,
   "metadata": {},
   "outputs": [],
   "source": [
    "import numpy as np\n",
    "from diffusionpy import Diffusion_MS\n",
    "import matplotlib.pyplot as plt\n",
    "\n",
    "T=303.15\n",
    "p=1E5\n",
    "Dwe=1E-6 # Water Ethanol diffusion coefficient. It is just the highest value to achieve that diffusion of water through ethanol is not rate limiting\n",
    "Dwa=1.13E-8 # water polymer diffusion coefficient\n",
    "Dwp=1.13E-8 # water api diffusion coefficient. Just chosen to be the same as the polymer \n",
    "Dep=4.318E-7 # ethanol  polymer diffusion coefficient. \n",
    "Dea=4.318E-7 # ethanol api diffusion coefficient. . Just chosen to be the same as the polymer \n",
    "Dpa=1.00E-21 \n",
    "Dvec=np.asarray([Dwe,Dwp,Dwa,Dep,Dea,Dpa])\n",
    "mobile=np.asarray([True,True,False,False])\n",
    "tauw=35711.02587 # mass transfer coefficient of water\n",
    "taue=14926.924 # mass transfer coefficient of ethanol\n",
    "taui=np.asarray([tauw,taue])\n",
    "# kwe,kwehb = -0.045000,  0.000000000\n",
    "kwe,kwehb = -0.038200,  0.000000000\n",
    "kwa,kwahb = -0.022000,  0.000000000\n",
    "kwp,kwphb = -0.128000,  0.000000000\n",
    "kea,keahb = -0.001000,  0.000000000\n",
    "kep,kephb =  0.002673, -0.455211419\n",
    "kpa,kpahb = -0.062100,  0.000000000\n",
    "kijvec=np.asarray([kwe,kwa,kwp,kea,kep,kpa]) # the kij need to defined in this order where all combinations are given starting with the first component \n",
    "kijHBvec=np.asarray([kwehb,kwahb,kwphb,keahb,kephb,kpahb])\n",
    "Mw=18.015 # Molar mass water g/mol\n",
    "Me=46.069 # Molar mass ethanol g/mol\n",
    "Ma=357.79 # Molar mass indomethacin g/mol\n",
    "Mp=65000 # Molar mass PVVPVA g/mol\n",
    "Mi=np.asarray([Mw,Me,Ma,Mp]) # the rest of the pc-saft parameters are defined the the same manner and order\n",
    "mi=np.asarray([1.2047,2.3827,14.283,2420.99])\n",
    "sigi=np.asarray([2.79533,3.1771,3.535,2.947])\n",
    "ui=np.asarray([353.95,198.24,262.791,205.27])\n",
    "epsAiBi=np.asarray([2425.7,2653.4,886.4,0.])\n",
    "kAiBi=np.asarray([0.045099,0.032384,0.02,0.02])\n",
    "Na=np.asarray([1.,1.,3.,653.])\n",
    "t=np.linspace(0.,(60*2000)**0.5,51)**2\n",
    "\n",
    "par={\"mi\":mi,\n",
    "\"si\": sigi,\n",
    "\"ui\" :ui,\n",
    "\"eAi\" :epsAiBi,\n",
    "\"kAi\":kAiBi,\n",
    "\"NAi\":Na,\n",
    "\"Mi\": Mi,\n",
    "\"kij\":kijvec,\n",
    "\"kijA\":kijHBvec}\n",
    "nz=5"
   ]
  },
  {
   "cell_type": "markdown",
   "metadata": {},
   "source": [
    "We start by modeling the **water drying of the PVPVA**. The parameters **Dwp and tauw** were adjusted to this data "
   ]
  },
  {
   "cell_type": "code",
   "execution_count": null,
   "metadata": {},
   "outputs": [],
   "source": [
    "texpw=np.asarray([0,60,120,193,250,296,330,410,470,530,570,630,691,754,810,1780])\n",
    "wexpw=np.asarray([0.9,0.89299,0.8846,0.88365,0.86635,0.86052,0.8531,0.83376,0.8072,0.77584,0.75664,0.71119,0.64861,0.56269,0.34671,0.03925])\n",
    "\n",
    "L=0.016\n",
    "\n",
    "wi0=np.asarray([0.9,0.,0.,0.1])\n",
    "wi8=np.asarray([0.03925,0.,0.,1-0.03925])\n",
    "\n",
    "\n",
    "wt=Diffusion_MS(t,L,Dvec,wi0,wi8,mobile,taui=taui,saftpar=par,nz=nz)[0]\n",
    "fig,ax=plt.subplots()\n",
    "ax.plot(texpw,wexpw,'C1s')\n",
    "ax.plot(texpw,1-wexpw,'C5o')\n",
    "\n",
    "ax.plot(t/60,wt[:,0],'C1-')\n",
    "ax.plot(t/60,wt[:,3],'C5-')\n",
    "ax.set_xlabel(\"t/min\")\n",
    "ax.set_ylabel(\"$w_i$/-\")\n"
   ]
  },
  {
   "cell_type": "markdown",
   "metadata": {},
   "source": [
    "Next we look at the modeling of the **ethanol drying of the PVPVA**. The parameters **Dep and taue** were adjusted to this data "
   ]
  },
  {
   "cell_type": "code",
   "execution_count": null,
   "metadata": {},
   "outputs": [],
   "source": [
    "wi0=np.asarray([0.,0.9,0.,0.1])\n",
    "wi8=np.asarray([0.,0.07407,0.,1-0.07407])\n",
    "texpe=np.asarray([0,64,120,177,247,301,347,407,2000])\n",
    "wexpe=np.asarray([0.9,0.84537,0.68653,0.47765,0.36149,0.33674,0.29972,0.27454,0.07407])\n",
    "L=0.021\n",
    "\n",
    "\n",
    "wt=Diffusion_MS(t,L,Dvec,wi0,wi8,mobile,taui=taui,saftpar=par,nz=nz)[0]\n",
    "\n",
    "fig,ax=plt.subplots()\n",
    "ax.plot(texpe,wexpe,'C1s')\n",
    "ax.plot(texpe,1-wexpe,'C5o')\n",
    "ax.plot(t/60,wt[:,1],'C1-')\n",
    "ax.plot(t/60,wt[:,3],'C5-')\n",
    "ax.set_xlabel(\"t/min\")\n",
    "ax.set_ylabel(\"$w_i$/-\")\n"
   ]
  },
  {
   "cell_type": "markdown",
   "metadata": {},
   "source": [
    "Then, we look at the prediction of the **ethanol and water drying of the PVPVA**. No parameters were adjusted to this data "
   ]
  },
  {
   "cell_type": "code",
   "execution_count": null,
   "metadata": {},
   "outputs": [],
   "source": [
    "texpp=np.asarray([0,60,128,160,222,283,343,400,510,635,1572])\n",
    "wexpp1=np.asarray([0.10222,0.10793,0.11579,0.11968,0.11112,0.08517,0.06692,0.05747,0.04321,0.03578,0.01578])\n",
    "wexpp2=np.asarray([0.79779,0.75332,0.66681,0.60852,0.40236,0.33188,0.31786,0.31535,0.29871,0.24788,0.14054])\n",
    "wexpp3=np.asarray([0.1,0.13875,0.21739,0.2718,0.48652,0.58294,0.61522,0.62718,0.65808,0.71633,0.84368])\n",
    "\n",
    "L=0.0185\n",
    "wi0=np.asarray([0.1,0.8,0.,0.1])\n",
    "wi8=np.asarray([0.01578,0.14054,0.,0.84368])\n",
    "\n",
    "wt=Diffusion_MS(t,L,Dvec,wi0,wi8,mobile,taui=taui,saftpar=par,nz=nz)[0]\n",
    "\n",
    "fig3,ax=plt.subplots()\n",
    "ax.plot(texpp,wexpp1,'C1s')\n",
    "ax.plot(texpp,wexpp2,'C5o')\n",
    "ax.plot(texpp,wexpp3,'C3^')\n",
    "\n",
    "ax.plot(t/60,wt[:,0],'C1-')\n",
    "ax.plot(t/60,wt[:,1],'C5-')\n",
    "ax.plot(t/60,wt[:,3],'C3-')\n",
    "ax.set_xlabel(\"t/min\")\n",
    "ax.set_ylabel(\"$w_i$/-\")\n",
    "plt.show()\n"
   ]
  },
  {
   "cell_type": "markdown",
   "metadata": {},
   "source": [
    "Finally we look at the prediction of the **ethanol and water drying of the PVPVA- Indomethacin ASD**. No parameters were adjusted to this data \n"
   ]
  },
  {
   "cell_type": "code",
   "execution_count": null,
   "metadata": {},
   "outputs": [],
   "source": [
    "L=0.0185\n",
    "dl0=0.3\n",
    "we0=0.8\n",
    "ww0=0.1\n",
    "wf0=1-we0-ww0\n",
    "wi0=np.asarray([ww0,we0,dl0*wf0,(1-dl0)*wf0])\n",
    "\n",
    "we8=0.158725973\n",
    "ww8=0.005951831\n",
    "wf8=1-we8-ww8\n",
    "wi8=np.asarray([ww8,we8,dl0*wf8,(1-dl0)*wf8])\n",
    "wt=Diffusion_MS(t,L,Dvec,wi0,wi8,mobile,taui=taui,saftpar=par,nz=nz)[0]\n",
    "\n",
    "texp=np.asarray([0,61,121,183,241,299,331,400,460,515,575,1530])\n",
    "w1exp=np.asarray([0.1,0.10815,0.11449,0.11544,0.09219,0.05345,0.04536,0.03188,0.02658,0.01856,0.01963,0.00595])\n",
    "w2exp=np.asarray([0.8,0.74591,0.6785,0.42536,0.36927,0.29222,0.28234,0.26616,0.2587,0.22371,0.21173,0.15873])\n",
    "w3exp=np.asarray([0.1,0.14594,0.207,0.4592,0.53854,0.65433,0.6723,0.70197,0.71472,0.75774,0.76864,0.83532])\n",
    "\n",
    "fig,ax=plt.subplots()\n",
    "ax.plot(t/60,wt[:,0],'C1-')\n",
    "ax.plot(t/60,wt[:,1],'C3-')\n",
    "ax.plot(t/60,wt[:,2]+wt[:,3],'C0-')\n",
    "ax.plot(texp,w1exp,'C1o')\n",
    "ax.plot(texp,w2exp,'C3o')\n",
    "ax.plot(texp,w3exp,'C0o')\n",
    "ax.set_xlabel(\"t/min\")\n",
    "ax.set_ylabel(\"$w_i$/-\")\n",
    "\n",
    "plt.xlim([0,2000])\n",
    "plt.ylim([0,1])"
   ]
  }
 ],
 "metadata": {
  "kernelspec": {
   "display_name": "Python 3",
   "language": "python",
   "name": "python3"
  },
  "language_info": {
   "codemirror_mode": {
    "name": "ipython",
    "version": 3
   },
   "file_extension": ".py",
   "mimetype": "text/x-python",
   "name": "python",
   "nbconvert_exporter": "python",
   "pygments_lexer": "ipython3",
   "version": "3.11.4"
  },
  "orig_nbformat": 4
 },
 "nbformat": 4,
 "nbformat_minor": 2
}
