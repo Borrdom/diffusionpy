{
 "cells": [
  {
   "cell_type": "code",
   "execution_count": 1,
   "metadata": {},
   "outputs": [
    {
     "name": "stdout",
     "output_type": "stream",
     "text": [
      "------------- Initialization and postprocessing ----------------\n",
      "------------- Start diffusion modeling ----------------\n",
      "------------- Diffusion modeling took 0.2542067 seconds ----------------\n",
      "------------- Initialization and postprocessing took 0.0043342 seconds----------------\n"
     ]
    },
    {
     "data": {
      "text/plain": [
       "(0.0, 1.0)"
      ]
     },
     "execution_count": 1,
     "metadata": {},
     "output_type": "execute_result"
    },
    {
     "data": {
      "image/png": "[encoded data removed]",
      "text/plain": [
       "<Figure size 640x480 with 1 Axes>"
      ]
     },
     "metadata": {},
     "output_type": "display_data"
    }
   ],
   "source": [
    "import numpy as np\n",
    "from diffusionpy import Diffusion_MS,vpure,dlnai_dlnxi,D_Matrix,Diffusion_MS_iter,origin_like,lngi,time_dep_surface,dlnai_dlnxi_loop,DIdeal2DReal,Gammaij\n",
    "import matplotlib.pyplot as plt\n",
    "T=303.15\n",
    "p=1E5\n",
    "nc=4 # number of components\n",
    "L=0.0185 # estimated thickness of the film\n",
    "\n",
    "Dvec=np.asarray([1.00E-06,5.52E-9,5.52E-9,3.42E-08,3.42E-08,1.00E-21])/10\n",
    "mobile=np.asarray([True,True,False,False])\n",
    "wi0=np.asarray([0.100001667,0.799998333,0.03,0.07])\n",
    "wi8=np.asarray([0.005951831,0.158725973,0.250596659,0.584725537])\n",
    "taui=np.asarray([35711.02587,14926.92374])\n",
    "\n",
    "kijvec=np.asarray([-0.045000,-0.022000,-0.128000,-0.001000,0.002673,-0.062100])\n",
    "kijHBvec=np.asarray([0,0,0,0,-0.455211419,0])\n",
    "Mi=np.asarray([18.015,46.069,357.79,65000.])\n",
    "mi=np.asarray([1.2047,2.3827,14.283,2420.99])\n",
    "sigi=np.asarray([2.79533,3.1771,3.535,2.947])\n",
    "ui=np.asarray([353.95,198.24,262.791,205.27])\n",
    "epsAiBi=np.asarray([2425.7,2653.4,886.4,0.])\n",
    "kAiBi=np.asarray([0.045099,0.032384,0.02,0.02])\n",
    "Na=np.asarray([1.,1.,3.,653.])\n",
    "vpures=vpure(p,T,mi,sigi,ui,epsAiBi,kAiBi,Na)\n",
    "t=np.asarray([0,3.660e+03, 7.260e+03, 1.098e+04, 1.446e+04, 1.794e+04, 1.986e+04,\n",
    "       2.400e+04, 2.760e+04, 3.090e+04, 3.450e+04, 9.180e+04, 1.700e+06])\n",
    "t=np.linspace(t[0],t[-1]**0.5,51)**2\n",
    "D=D_Matrix(Dvec,nc)\n",
    "kij=D_Matrix(kijvec,nc)\n",
    "kijHB=D_Matrix(kijHBvec,nc)\n",
    "par={\"mi\":mi,\n",
    "\"si\": sigi,\n",
    "\"ui\" :ui,\n",
    "\"eAi\" :epsAiBi,\n",
    "\"kAi\":kAiBi,\n",
    "\"NAi\":Na,\n",
    "\"Mi\": Mi,\n",
    "\"kij\":kij,\n",
    "\"kijA\":kijHB,\n",
    "\"vpure\":vpures}\n",
    "mobiles=np.where(mobile)[0]\n",
    "# dlnai_dlnwi_fun=lambda wi: massbalancecorrection(dlnai_dlnxi_loop(T,np.ascontiguousarray(wi),**par)*wi[:,:,:,None],wi,wi0,Mi,mobile)\n",
    "dlnai_dlnwi_fun=lambda wi: Gammaij(T,wi,par)\n",
    "witB=time_dep_surface(t,wi0,wi8,mobile,taui)\n",
    "\n",
    "import matplotlib.pyplot as plt\n",
    "wtid,wtz,zvec,Lt=Diffusion_MS(t,L,Dvec,wi0,wi8,Mi,mobile,swelling=True,full_output=True)\n",
    "plt.plot(t,wtid[:,0])\n",
    "plt.plot(t,wtid[:,1])\n",
    "plt.plot(t,wtid[:,2]+wtid[:,3])\n",
    "\n",
    "plt.xlim([0,100000])\n",
    "plt.ylim([0,1])"
   ]
  },
  {
   "cell_type": "code",
   "execution_count": 4,
   "metadata": {},
   "outputs": [
    {
     "ename": "SyntaxError",
     "evalue": "closing parenthesis ']' does not match opening parenthesis '(' (1171426454.py, line 22)",
     "output_type": "error",
     "traceback": [
      "\u001b[1;36m  Cell \u001b[1;32mIn[4], line 22\u001b[1;36m\u001b[0m\n\u001b[1;33m    plt.plot(t,wtave[]:,1],\"m--\")\u001b[0m\n\u001b[1;37m                         ^\u001b[0m\n\u001b[1;31mSyntaxError\u001b[0m\u001b[1;31m:\u001b[0m closing parenthesis ']' does not match opening parenthesis '('\n"
     ]
    }
   ],
   "source": [
    "# Dvec=np.asarray([1.00E-06,5.52E-11,5.52E-11,7.42E-7,7.42E-7,1.00E-21]) still problematic\n",
    "Dvec2=np.asarray([1.00E-06,5.52E-10,5.52E-10,7.42E-7,7.42E-7,1.00E-21])\n",
    "taui=np.asarray([15711.02587,14926.92374])\n",
    "# dlnai_dlnwi_fun2=lambda wi: dlnai_dlnxi(T,np.ascontiguousarray(wi),**par)#*wi[None,:]\n",
    "wave=(wi0+wi8)/2\n",
    "# wave=np.average(wt,axis=0)\n",
    "# wave=np.average(np.sum(wtz*np.gradient(t)[:,None,None],axis=0)/t[-1],axis=1)\n",
    "# wave=wave/np.sum(wave)\n",
    "Dvec2=DIdeal2DReal(Dvec,wave,wi0,dlnai_dlnwi_fun(wave),mobile,Mi)\n",
    "witB=time_dep_surface(t,wi0,wi8,mobile,taui)\n",
    "wt,wtz,zvec,Lt=Diffusion_MS_iter(t,L,Dvec2,wi0,wi8,Mi,mobile,swelling=True,full_output=True,dlnai_dlnwi_fun=dlnai_dlnwi_fun,method=\"weg\",maxit=9)\n",
    "# wave=np.average(wtid,axis=0)\n",
    "wtave,wtz,zvec,Lt=Diffusion_MS(t,L,Dvec2,wi0,wi8,Mi,mobile,full_output=True,dlnai_dlnwi=dlnai_dlnwi_fun(wave))\n",
    "wave=np.average(wtid,axis=0)\n",
    "plt.plot(t,wt[:,0])\n",
    "plt.plot(t,wt[:,1])\n",
    "plt.plot(t,wt[:,2]+wt[:,3])\n",
    "plt.plot(t,wtid[:,0],\"k--\")\n",
    "plt.plot(t,wtid[:,1],\"k--\")\n",
    "plt.plot(t,wtid[:,2]+wtid[:,3],\"k--\")\n",
    "plt.plot(t,wtave[:,0],\"m--\")\n",
    "plt.plot(t,wtave[:,1],\"m--\")\n",
    "plt.plot(t,wtave[:,2]+wtave[:,3],\"m--\")\n",
    "plt.xlim([0,100000])\n",
    "plt.ylim([0,1])\n",
    "# plt.plot(zvec,wtz[10,0,:])\n",
    "# plt.plot(zvec,wtz[10,1,:])\n",
    "# plt.plot(zvec,wtz[10,2,:])\n",
    "# plt.plot(zvec,wtz[10,3,:])\n",
    "\n",
    "# plt.plot(zvec,wtz[20,0,:])\n",
    "# plt.plot(zvec,wtz[20,1,:])\n",
    "# plt.plot(zvec,wtz[20,2,:])\n",
    "# plt.plot(zvec,wtz[20,3,:])\n",
    "\n",
    "# plt.plot(zvec,wtz[40,0,:])\n",
    "# plt.plot(zvec,wtz[40,1,:])\n",
    "# plt.plot(zvec,wtz[40,2,:])\n",
    "# plt.plot(zvec,wtz[40,3,:])"
   ]
  }
 ],
 "metadata": {
  "kernelspec": {
   "display_name": "Python 3",
   "language": "python",
   "name": "python3"
  },
  "language_info": {
   "codemirror_mode": {
    "name": "ipython",
    "version": 3
   },
   "file_extension": ".py",
   "mimetype": "text/x-python",
   "name": "python",
   "nbconvert_exporter": "python",
   "pygments_lexer": "ipython3",
   "version": "3.11.4"
  },
  "orig_nbformat": 4
 },
 "nbformat": 4,
 "nbformat_minor": 2
}
