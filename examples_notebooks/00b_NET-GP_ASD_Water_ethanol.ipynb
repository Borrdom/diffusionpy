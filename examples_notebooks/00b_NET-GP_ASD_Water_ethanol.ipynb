{
 "cells": [
  {
   "cell_type": "markdown",
   "id": "bfacf273",
   "metadata": {},
   "source": [
    "# VLE of glassy polymers"
   ]
  },
  {
   "cell_type": "markdown",
   "id": "01cb9646",
   "metadata": {},
   "source": [
    "This is an example for a VLE calculation featuring a polymer and a solvent. PC-SAFT calculation for a water sorption isotherm of the polymer PVP were performed (the dotted line in Figure 2 of https://doi.org/10.3390/membranes12040434). "
   ]
  },
  {
   "cell_type": "code",
   "execution_count": 1,
   "id": "9cc7ede4",
   "metadata": {},
   "outputs": [],
   "source": [
    "import numpy as np\n",
    "from diffusionpy import vpure,lngi,D_Matrix,NETVLE,origin_like\n",
    "import matplotlib.pyplot as plt\n",
    "from scipy.optimize import root,root_scalar\n",
    "\n",
    "def convert(xi,Mi):\n",
    "    return xi*Mi[:,None]/np.sum(xi*Mi[:,None],axis=0)"
   ]
  },
  {
   "cell_type": "markdown",
   "id": "1845f8c5",
   "metadata": {},
   "source": [
    "The the first part of the code is basically the same as presented in VLE_Water_Sorption_Polymer_part1.ipynb"
   ]
  },
  {
   "cell_type": "code",
   "execution_count": 2,
   "id": "6c7a77b9",
   "metadata": {},
   "outputs": [],
   "source": [
    "nc=4\n",
    "kij=D_Matrix(np.asarray([-0.045000,-0.022000,-0.128000,-0.001000,0.002673,-0.062100]),nc)\n",
    "kijA=D_Matrix(np.asarray([0,0,0,0,-0.455211419,0]),nc)\n",
    "\n",
    "Mi=np.asarray([18.015,46.069,357.79,65000.])\n",
    "mi=np.asarray([1.2047,2.3827,14.283,2420.99])\n",
    "si=np.asarray([2.79533,3.1771,3.535,2.947])\n",
    "ui=np.asarray([353.95,198.24,262.791,205.27])\n",
    "eAi=np.asarray([2425.7,2653.4,886.4,0.])\n",
    "kAi=np.asarray([0.045099,0.032384,0.02,0.02])\n",
    "NAi=np.asarray([1.,1.,3.,653.])\n"
   ]
  },
  {
   "cell_type": "code",
   "execution_count": 6,
   "id": "5d6e24d4",
   "metadata": {},
   "outputs": [],
   "source": [
    "T=303.15\n",
    "p=1E5\n",
    "npoint=50\n",
    "DL=0.00\n",
    "kswp = 0.4279 #/ 0.03166**2\n",
    "v0p = 0.7937/1000\n",
    "# v0p = 0.7478/1000\n",
    "# v0p = 0.7178/1000\n",
    "polymer=np.asarray([False,False,False,True])\n",
    "mobile=np.asarray([True,True,False,False])\n",
    "ksw=np.asarray([0.2121,0.00001])\n",
    "ksw=np.asarray([0,0])\n",
    "wwNET=np.linspace(0.001,0.1,npoint)\n",
    "weNET=np.linspace(0.001,0.1,npoint)\n",
    "wwSAFT=np.linspace(0.001,0.5,npoint)\n",
    "weSAFT=np.linspace(0.001,0.5,npoint)\n",
    "def isotherm(ww,we,NET=False):\n",
    "    RSvec=[]\n",
    "    wwvec=[]\n",
    "    wevec=[]\n",
    "    for i,vali in enumerate(ww):\n",
    "        for i,valj in enumerate(we):\n",
    "            wASD=(1-vali-valj)\n",
    "            vpures=vpure(p,T,mi,si,ui,eAi,kAi,NAi)\n",
    "            wi=np.asarray([vali,valj,wASD*DL,wASD*(1-DL)])\n",
    "            RS=NETVLE(T,wi,v0p,mobile,polymer,ksw,mi,si,ui,eAi,kAi,NAi,vpures,Mi,kij,kijA,n=1) if NET else np.exp(lngi(T,wi,mi,si,ui,eAi,kAi,NAi,vpures,Mi,kij,kijA)+np.log(wi))[mobile]\n",
    "            RSvec.append(RS)\n",
    "            wwvec.append(vali)\n",
    "            wevec.append(valj)\n",
    "    wwvec=np.asarray(wwvec)\n",
    "    wevec=np.asarray(wevec)\n",
    "    RSvec=np.fmin(np.fmax(np.asarray(RSvec),0),1)\n",
    "    return wevec,wwvec,RSvec\n",
    "\n",
    "wevec,wwvec,RSvec=isotherm(wwSAFT,weSAFT,NET=False)\n",
    "\n",
    "\n",
    "figt1,axt1=origin_like.ternary()\n",
    "figt2,axt2=origin_like.ternary()\n",
    "\n",
    "cs1=axt1.tricontour(wevec,1-wevec-wwvec,wwvec,  RSvec[:,0],levels=[0.3,0.5])\n",
    "cs2=axt2.tricontour(wevec,1-wevec-wwvec,wwvec,  RSvec[:,1],levels=[0.1,0.2,0.3,0.4,0.5])\n",
    "# axt1.clabel(cs1)\n",
    "# axt1.clabel(cs2)\n",
    "cax1 = axt1.inset_axes([1.05, 0.1, 0.05, 0.9], transform=axt1.transAxes)\n",
    "cax2 = axt2.inset_axes([1.05, 0.1, 0.05, 0.9], transform=axt2.transAxes)\n",
    "colorbar1 = figt1.colorbar(cs1, cax=cax1)\n",
    "colorbar2 = figt2.colorbar(cs2, cax=cax2)\n",
    "# colorbar1.set_label('RH', rotation=270, va='baseline')\n",
    "# colorbar2.set_label('RS', rotation=270, va='baseline')\n",
    "axt1.set_ternary_lim(\n",
    "    0, 0.5,  # tmin, tmax\n",
    "    0.5, 1,  # lmin, lmax\n",
    "    0, 0.5,  # rmin, rmax\n",
    ")\n",
    "axt2.set_ternary_lim(\n",
    "    0, 0.5,  # tmin, tmax\n",
    "    0.5, 1,  # lmin, lmax\n",
    "    0, 0.5,  # rmin, rmax\n",
    ")\n",
    "\n",
    "wevec,wwvec,RSvec=isotherm(wwNET,weNET,NET=True)\n",
    "cs3=axt1.tricontour(wevec,1-wevec-wwvec,wwvec,  RSvec[:,0],levels=[0.3,0.5])\n",
    "cs4=axt2.tricontour(wevec,1-wevec-wwvec,wwvec,  RSvec[:,1],levels=[0.1,0.2,0.3,0.4,0.5])\n",
    "\n",
    "# fig,ax=origin_like.subplots()\n",
    "# X,Y=np.meshgrid(weNET,wwNET)\n",
    "# cs=ax.contour(X,Y,RSvec[:,0].reshape((npoint,npoint)),levels=[0.3,0.5])\n",
    "# p1 = cs.collections[0].get_paths()[0]\n",
    "# v1 = p1.vertices\n",
    "# x1 = v1[:,0]\n",
    "# y1 = v1[:,1]\n",
    "# p2 = cs.collections[1].get_paths()[0]\n",
    "# v2 = p2.vertices\n",
    "# x2= v2[:,0]\n",
    "# y2 = v2[:,1]\n",
    "# plt.plot(x1,y1)\n",
    "# plt.plot(x2,y2)\n",
    "# cs4=axt2.tricontour(wevec,1-wevec-wwvec,wwvec,  RSvec[:,1],levels=10,posx=-20)\n",
    "# rticks=np.linspace(0, 0.5, 6)\n",
    "# tticks=np.linspace(1, 0.5, 6)\n",
    "# lticks=np.linspace(0, 0.5, 6)\n",
    "# # ticks_zero_one_less=ticks[np.logical_and(ticks!=0,ticks!=1)]\n",
    "# axt.raxis.set_ticks(rticks)\n",
    "# axt.taxis.set_ticks(tticks)\n",
    "# axt.laxis.set_ticks(lticks)\n",
    "\n",
    "plt.show()"
   ]
  }
 ],
 "metadata": {
  "kernelspec": {
   "display_name": "Python 3 (ipykernel)",
   "language": "python",
   "name": "python3"
  },
  "language_info": {
   "codemirror_mode": {
    "name": "ipython",
    "version": 3
   },
   "file_extension": ".py",
   "mimetype": "text/x-python",
   "name": "python",
   "nbconvert_exporter": "python",
   "pygments_lexer": "ipython3",
   "version": "3.11.4"
  },
  "vscode": {
   "interpreter": {
    "hash": "155058e36bf5ed4f47d0ce54cf51e48fed84b2ca3ed25a64d8425315b88e4e7c"
   }
  }
 },
 "nbformat": 4,
 "nbformat_minor": 5
}
