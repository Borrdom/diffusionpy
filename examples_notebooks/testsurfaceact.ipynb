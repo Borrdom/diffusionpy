{
 "cells": [
  {
   "cell_type": "code",
   "execution_count": 1,
   "id": "419bed92",
   "metadata": {},
   "outputs": [],
   "source": [
    "import numpy as np\n",
    "from diffusionpy import Diffusion_MS_iter,D_Matrix,Diffusion_MS,vpure,lngi,dlnai_dlnxi,time_dep_surface\n",
    "import matplotlib.pyplot as plt"
   ]
  },
  {
   "cell_type": "code",
   "execution_count": 2,
   "id": "43c04a49",
   "metadata": {},
   "outputs": [],
   "source": [
    "nc=2\n",
    "L=0.016\n",
    "wi0=np.asarray([0.9,0.1])\n",
    "wi8=np.asarray([0.04,0.96])\n",
    "Mi=np.asarray([18.015,65000])"
   ]
  },
  {
   "cell_type": "code",
   "execution_count": 3,
   "id": "027f2d9c",
   "metadata": {},
   "outputs": [],
   "source": [
    "mobile=np.asarray([True,False])\n",
    "T=303.15\n",
    "p=1E5\n",
    "nt=300"
   ]
  },
  {
   "cell_type": "code",
   "execution_count": 4,
   "id": "1f32ae0c",
   "metadata": {
    "lines_to_next_cell": 2
   },
   "outputs": [],
   "source": [
    "# texp=np.asarray([ 0., 2790.,  4410.,  6570.,  9660., 11910., 15630., 17820., 22620., 27960.,32280., 36720., 41040., 97920.])\n",
    "texp=np.asarray([ 0, 3600,   7200,  11580,  15000,  17760,  19800,  24600,  28200,31800,  34200,  37800,  41460,  45240,  48600, 106800])\n",
    "# ww_exp=np.asarray([0.95,0.94981791, 0.94952408, 0.94898034, 0.94791589, 0.94813047,0.94697211, 0.94674376, 0.94614307, 0.94404476, 0.93323287,0.92318329, 0.90732405, 0.09724013])\n",
    "ww_exp=np.asarray([0.9,0.89299418, 0.88460461, 0.88365329, 0.866351 ,0.86052165 ,0.85309549 , 0.83375686, 0.80719971, 0.77584219, 0.75664025,0.71118538, 0.64861202, 0.56269132, 0.34671022, 0.03925336])\n",
    "t=np.linspace(0.,texp[-1],nt)"
   ]
  },
  {
   "cell_type": "code",
   "execution_count": 5,
   "id": "c19c5479",
   "metadata": {},
   "outputs": [],
   "source": [
    "kij=D_Matrix(np.asarray([-0.156]),nc)\n",
    "par={\"mi\":np.asarray([1.20469,2420.99]),\n",
    "\"si\": np.asarray([2.797059952,2.947]),\n",
    "\"ui\" :np.asarray([353.95,205.27]),\n",
    "\"eAi\" :np.asarray([2425.67,0.]),\n",
    "\"kAi\":np.asarray([0.04509,0.02]),\n",
    "\"NAi\":np.asarray([1.,653.]),\n",
    "\"Mi\": Mi,\n",
    "\"kij\":kij}"
   ]
  },
  {
   "cell_type": "code",
   "execution_count": 6,
   "id": "f2ffa76a",
   "metadata": {},
   "outputs": [],
   "source": [
    "vpures=vpure(p,T,**par)\n",
    "par[\"vpure\"]=vpures\n",
    "lngi_fun=lambda wi :lngi(T,wi,**par)\n",
    "dlnai_dlnwi_fun=lambda wi: dlnai_dlnxi(T,wi,**par)"
   ]
  },
  {
   "cell_type": "code",
   "execution_count": null,
   "id": "cb3cd8f9",
   "metadata": {},
   "outputs": [],
   "source": []
  },
  {
   "cell_type": "code",
   "execution_count": 7,
   "id": "78fca2ee",
   "metadata": {},
   "outputs": [],
   "source": [
    "Dvec=np.asarray([5.6E-10])\n",
    "taui=np.asarray([21711.02587])"
   ]
  },
  {
   "cell_type": "code",
   "execution_count": 8,
   "id": "d5313e3e",
   "metadata": {
    "lines_to_next_cell": 2
   },
   "outputs": [
    {
     "name": "stdout",
     "output_type": "stream",
     "text": [
      "------------- Start diffusion modeling ----------------\n"
     ]
    },
    {
     "name": "stdout",
     "output_type": "stream",
     "text": [
      "------------- Diffusion modeling took 0.2986785 seconds ----------------\n"
     ]
    },
    {
     "data": {
      "text/plain": [
       "Text(0, 0.5, '$w_i$/-')"
      ]
     },
     "execution_count": 8,
     "metadata": {},
     "output_type": "execute_result"
    },
    {
     "data": {
      "image/png": "[encoded data removed]",
      "text/plain": [
       "<Figure size 432x288 with 1 Axes>"
      ]
     },
     "metadata": {
      "needs_background": "light"
     },
     "output_type": "display_data"
    }
   ],
   "source": [
    "witB=time_dep_surface(t,wi0,wi8,mobile,taui,lngi_fun=None)\n",
    "wt=Diffusion_MS(t,L,Dvec,wi0,wi8,Mi,mobile,swelling=True,witB=witB)\n",
    "fig,ax=plt.subplots()\n",
    "ax.plot(t/60,wt[:,0],'g',label=\"Ideal and wiB(t)\")\n",
    "plt.xlabel('t/min')\n",
    "plt.ylabel('$w_i$/-')"
   ]
  },
  {
   "cell_type": "code",
   "execution_count": 9,
   "id": "3eb1adeb",
   "metadata": {},
   "outputs": [],
   "source": [
    "Dvec=np.asarray([5E-9])\n",
    "# taui=np.asarray([35711.02587])\n",
    "taui=np.asarray([21711.02587])"
   ]
  },
  {
   "cell_type": "code",
   "execution_count": 10,
   "id": "938c5640",
   "metadata": {},
   "outputs": [],
   "source": [
    "witB=time_dep_surface(t,wi0,wi8,mobile,taui,lngi_fun=None)"
   ]
  },
  {
   "cell_type": "code",
   "execution_count": 11,
   "id": "573b4d43",
   "metadata": {},
   "outputs": [
    {
     "name": "stdout",
     "output_type": "stream",
     "text": [
      "------------- Start diffusion modeling ----------------\n",
      "------------- Diffusion modeling took 0.3998076 seconds ----------------\n",
      "------------- Start diffusion modeling ----------------\n",
      "------------- Diffusion modeling took 0.3667416 seconds ----------------\n",
      "iter 0: ||F|| = 0.00724404, sigma = 1\n",
      "------------- Start diffusion modeling ----------------\n",
      "------------- Diffusion modeling took 0.2851637 seconds ----------------\n",
      "iter 1: ||F|| = 0.00723297, sigma = 653.616\n",
      "------------- Start diffusion modeling ----------------\n",
      "------------- Diffusion modeling took 0.3761871 seconds ----------------\n",
      "------------- Start diffusion modeling ----------------\n",
      "------------- Diffusion modeling took 0.4789033 seconds ----------------\n",
      "------------- Start diffusion modeling ----------------\n",
      "------------- Diffusion modeling took 0.2645343 seconds ----------------\n",
      "iter 2: ||F|| = 0.00581547, sigma = 573.655\n",
      "------------- Start diffusion modeling ----------------\n",
      "------------- Diffusion modeling took 0.2841597 seconds ----------------\n",
      "------------- Start diffusion modeling ----------------\n",
      "------------- Diffusion modeling took 0.4008362 seconds ----------------\n",
      "------------- Start diffusion modeling ----------------\n",
      "------------- Diffusion modeling took 0.2905046 seconds ----------------\n",
      "iter 3: ||F|| = 0.00475906, sigma = 647.851\n",
      "------------- Start diffusion modeling ----------------\n",
      "------------- Diffusion modeling took 0.2894286 seconds ----------------\n",
      "iter 4: ||F|| = 0.0068639, sigma = 520.298\n",
      "------------- Start diffusion modeling ----------------\n",
      "------------- Diffusion modeling took 0.3273594 seconds ----------------\n",
      "iter 5: ||F|| = 0.00496369, sigma = 323.424\n",
      "------------- Start diffusion modeling ----------------\n",
      "------------- Diffusion modeling took 0.2928338 seconds ----------------\n",
      "iter 6: ||F|| = 0.00215462, sigma = 319.798\n",
      "------------- Start diffusion modeling ----------------\n",
      "------------- Diffusion modeling took 0.2961435 seconds ----------------\n",
      "iter 7: ||F|| = 0.000369523, sigma = 356.527\n",
      "------------- Start diffusion modeling ----------------\n",
      "------------- Diffusion modeling took 0.2921103 seconds ----------------\n",
      "iter 8: ||F|| = 0.000161117, sigma = 291.519\n",
      "------------- Start diffusion modeling ----------------\n",
      "------------- Diffusion modeling took 0.2818041 seconds ----------------\n",
      "iter 9: ||F|| = 4.99251e-05, sigma = 417.757\n",
      "------------- Start diffusion modeling ----------------\n",
      "------------- Diffusion modeling took 0.3037682 seconds ----------------\n",
      "iter 10: ||F|| = 4.68535e-06, sigma = 386.969\n",
      "------------- Start diffusion modeling ----------------\n",
      "------------- Diffusion modeling took 0.2871859 seconds ----------------\n",
      "iter 11: ||F|| = 1.28639e-06, sigma = 390.728\n",
      "------------- Start diffusion modeling ----------------\n",
      "------------- Diffusion modeling took 0.2892387 seconds ----------------\n",
      "iter 12: ||F|| = 7.05341e-07, sigma = 273.311\n"
     ]
    },
    {
     "data": {
      "text/plain": [
       "<matplotlib.legend.Legend at 0x21015cf14f0>"
      ]
     },
     "execution_count": 11,
     "metadata": {},
     "output_type": "execute_result"
    },
    {
     "data": {
      "image/png": "[encoded data removed]",
      "text/plain": [
       "<Figure size 432x288 with 1 Axes>"
      ]
     },
     "metadata": {
      "needs_background": "light"
     },
     "output_type": "display_data"
    }
   ],
   "source": [
    "wt=Diffusion_MS_iter(t,L,Dvec,wi0,wi8,Mi,mobile,swelling=True,witB=witB,dlnai_dlnwi_fun=dlnai_dlnwi_fun)\n",
    "ax.plot(t/60,witB[:,0],\"bo\")\n",
    "ax.plot(t/60,wt[:,0],'b',label=\"Non-ideal and wiB(t)\")\n",
    "plt.legend(\"\")"
   ]
  },
  {
   "cell_type": "code",
   "execution_count": 12,
   "id": "04e51008",
   "metadata": {},
   "outputs": [],
   "source": [
    "ax.plot(texp/60,ww_exp,\"gD\")\n",
    "ARDwiB=np.sum(np.abs(1-np.interp(texp,t,wt[:,0])/ww_exp))"
   ]
  },
  {
   "cell_type": "code",
   "execution_count": 13,
   "id": "8ac467d1",
   "metadata": {},
   "outputs": [
    {
     "name": "stdout",
     "output_type": "stream",
     "text": [
      "------------- Start diffusion modeling ----------------\n",
      "------------- Diffusion modeling took 0.2369658 seconds ----------------\n",
      "------------- Start diffusion modeling ----------------\n",
      "------------- Diffusion modeling took 0.2916972 seconds ----------------\n",
      "iter 0: ||F|| = 0.00720211, sigma = 1\n",
      "------------- Start diffusion modeling ----------------\n",
      "------------- Diffusion modeling took 0.2843452 seconds ----------------\n",
      "iter 1: ||F|| = 0.00719111, sigma = 653.698\n",
      "------------- Start diffusion modeling ----------------\n",
      "------------- Diffusion modeling took 0.3635316 seconds ----------------\n",
      "------------- Start diffusion modeling ----------------\n",
      "------------- Diffusion modeling took 0.6167195 seconds ----------------\n",
      "------------- Start diffusion modeling ----------------\n",
      "------------- Diffusion modeling took 0.507594 seconds ----------------\n",
      "iter 2: ||F|| = 0.00571173, sigma = 568.994\n",
      "------------- Start diffusion modeling ----------------\n",
      "------------- Diffusion modeling took 0.5917709 seconds ----------------\n",
      "iter 3: ||F|| = 0.00728957, sigma = 519.63\n",
      "------------- Start diffusion modeling ----------------\n",
      "------------- Diffusion modeling took 0.3639164 seconds ----------------\n",
      "iter 4: ||F|| = 0.00546496, sigma = 346.573\n",
      "------------- Start diffusion modeling ----------------\n",
      "------------- Diffusion modeling took 0.3346832 seconds ----------------\n",
      "iter 5: ||F|| = 0.00220296, sigma = 287.192\n",
      "------------- Start diffusion modeling ----------------\n",
      "------------- Diffusion modeling took 0.3443432 seconds ----------------\n",
      "iter 6: ||F|| = 0.000674297, sigma = 376.169\n",
      "------------- Start diffusion modeling ----------------\n",
      "------------- Diffusion modeling took 0.3211872 seconds ----------------\n",
      "iter 7: ||F|| = 0.000166119, sigma = 319.593\n",
      "------------- Start diffusion modeling ----------------\n",
      "------------- Diffusion modeling took 0.3402147 seconds ----------------\n",
      "iter 8: ||F|| = 5.68264e-05, sigma = 444.628\n",
      "------------- Start diffusion modeling ----------------\n",
      "------------- Diffusion modeling took 0.3753463 seconds ----------------\n",
      "iter 9: ||F|| = 1.15979e-05, sigma = 375.068\n",
      "------------- Start diffusion modeling ----------------\n",
      "------------- Diffusion modeling took 0.3235362 seconds ----------------\n",
      "iter 10: ||F|| = 2.31634e-06, sigma = 400.344\n",
      "------------- Start diffusion modeling ----------------\n",
      "------------- Diffusion modeling took 0.5158619 seconds ----------------\n",
      "iter 11: ||F|| = 9.00301e-07, sigma = 311.846\n"
     ]
    },
    {
     "data": {
      "text/plain": [
       "[<matplotlib.lines.Line2D at 0x21015d52fd0>]"
      ]
     },
     "execution_count": 13,
     "metadata": {},
     "output_type": "execute_result"
    }
   ],
   "source": [
    "# taui=np.asarray([85711.02587])\n",
    "taui=np.asarray([62711.02587])\n",
    "witB=time_dep_surface(t,wi0,wi8,mobile,taui,lngi_fun=lngi_fun)\n",
    "wt=Diffusion_MS_iter(t,L,Dvec,wi0,wi8,Mi,mobile,swelling=True,witB=witB,dlnai_dlnwi_fun=dlnai_dlnwi_fun)\n",
    "ax.plot(t/60,witB[:,0],\"ro\")\n",
    "ax.plot(t/60,wt[:,0],'r',label=\"Non-ideal and aiB(t)\")"
   ]
  },
  {
   "cell_type": "code",
   "execution_count": 14,
   "id": "745a8b91",
   "metadata": {},
   "outputs": [
    {
     "name": "stdout",
     "output_type": "stream",
     "text": [
      "1.0458005564092046\n",
      "1.956735948798225\n"
     ]
    }
   ],
   "source": [
    "ARDaiB=np.sum(np.abs(1-np.interp(texp,t,wt[:,0])/ww_exp))\n",
    "print(ARDwiB)\n",
    "print(ARDaiB)"
   ]
  },
  {
   "cell_type": "code",
   "execution_count": null,
   "id": "64647661",
   "metadata": {},
   "outputs": [],
   "source": []
  },
  {
   "cell_type": "code",
   "execution_count": 15,
   "id": "828dc78c",
   "metadata": {},
   "outputs": [],
   "source": [
    "plt.show()"
   ]
  }
 ],
 "metadata": {
  "jupytext": {
   "cell_metadata_filter": "-all",
   "main_language": "python",
   "notebook_metadata_filter": "-all"
  },
  "kernelspec": {
   "display_name": "Python 3",
   "language": "python",
   "name": "python3"
  },
  "language_info": {
   "codemirror_mode": {
    "name": "ipython",
    "version": 3
   },
   "file_extension": ".py",
   "mimetype": "text/x-python",
   "name": "python",
   "nbconvert_exporter": "python",
   "pygments_lexer": "ipython3",
   "version": "3.9.13"
  }
 },
 "nbformat": 4,
 "nbformat_minor": 5
}
