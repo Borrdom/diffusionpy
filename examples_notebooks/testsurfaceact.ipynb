{
 "cells": [
  {
   "cell_type": "code",
   "execution_count": 1,
   "id": "419bed92",
   "metadata": {},
   "outputs": [],
   "source": [
    "import numpy as np\n",
    "from diffusionpy import Diffusion_MS_iter,D_Matrix,Diffusion_MS,vpure,lngi,dlnai_dlnxi,time_dep_surface\n",
    "import matplotlib.pyplot as plt"
   ]
  },
  {
   "cell_type": "code",
   "execution_count": 2,
   "id": "43c04a49",
   "metadata": {},
   "outputs": [],
   "source": [
    "nc=2\n",
    "L=0.016\n",
    "wi0=np.asarray([0.9,0.1])\n",
    "wi8=np.asarray([0.04,0.96])\n",
    "Mi=np.asarray([18.015,65000])"
   ]
  },
  {
   "cell_type": "code",
   "execution_count": 3,
   "id": "027f2d9c",
   "metadata": {},
   "outputs": [],
   "source": [
    "mobile=np.asarray([True,False])\n",
    "T=303.15\n",
    "p=1E5\n",
    "nt=300"
   ]
  },
  {
   "cell_type": "code",
   "execution_count": 4,
   "id": "1f32ae0c",
   "metadata": {
    "lines_to_next_cell": 2
   },
   "outputs": [],
   "source": [
    "# texp=np.asarray([ 0., 2790.,  4410.,  6570.,  9660., 11910., 15630., 17820., 22620., 27960.,32280., 36720., 41040., 97920.])\n",
    "texp=np.asarray([ 0, 3600,   7200,  11580,  15000,  17760,  19800,  24600,  28200,31800,  34200,  37800,  41460,  45240,  48600, 106800])\n",
    "# ww_exp=np.asarray([0.95,0.94981791, 0.94952408, 0.94898034, 0.94791589, 0.94813047,0.94697211, 0.94674376, 0.94614307, 0.94404476, 0.93323287,0.92318329, 0.90732405, 0.09724013])\n",
    "ww_exp=np.asarray([0.9,0.89299418, 0.88460461, 0.88365329, 0.866351 ,0.86052165 ,0.85309549 , 0.83375686, 0.80719971, 0.77584219, 0.75664025,0.71118538, 0.64861202, 0.56269132, 0.34671022, 0.03925336])\n",
    "t=np.linspace(0.,texp[-1],nt)"
   ]
  },
  {
   "cell_type": "code",
   "execution_count": 5,
   "id": "c19c5479",
   "metadata": {},
   "outputs": [],
   "source": [
    "kij=D_Matrix(np.asarray([-0.156]),nc)\n",
    "par={\"mi\":np.asarray([1.20469,2420.99]),\n",
    "\"si\": np.asarray([2.797059952,2.947]),\n",
    "\"ui\" :np.asarray([353.95,205.27]),\n",
    "\"eAi\" :np.asarray([2425.67,0.]),\n",
    "\"kAi\":np.asarray([0.04509,0.02]),\n",
    "\"NAi\":np.asarray([1.,653.]),\n",
    "\"Mi\": Mi,\n",
    "\"kij\":kij}"
   ]
  },
  {
   "cell_type": "code",
   "execution_count": 6,
   "id": "f2ffa76a",
   "metadata": {},
   "outputs": [],
   "source": [
    "vpures=vpure(p,T,**par)\n",
    "par[\"vpure\"]=vpures\n",
    "lngi_fun=lambda wi :lngi(T,wi,**par)\n",
    "dlnai_dlnwi_fun=lambda wi: dlnai_dlnxi(T,wi,**par)"
   ]
  },
  {
   "cell_type": "code",
   "execution_count": null,
   "id": "cb3cd8f9",
   "metadata": {},
   "outputs": [],
   "source": []
  },
  {
   "cell_type": "code",
   "execution_count": 7,
   "id": "78fca2ee",
   "metadata": {},
   "outputs": [],
   "source": [
    "Dvec=np.asarray([5.6E-10])\n",
    "taui=np.asarray([21711.02587])"
   ]
  },
  {
   "cell_type": "code",
   "execution_count": 8,
   "id": "d5313e3e",
   "metadata": {
    "lines_to_next_cell": 2
   },
   "outputs": [
    {
     "name": "stdout",
     "output_type": "stream",
     "text": [
      "------------- Start diffusion modeling ----------------\n"
     ]
    },
    {
     "name": "stdout",
     "output_type": "stream",
     "text": [
      "------------- Diffusion modeling took 0.580999 seconds ----------------\n"
     ]
    },
    {
     "data": {
      "text/plain": [
       "Text(0, 0.5, '$w_i$/-')"
      ]
     },
     "execution_count": 8,
     "metadata": {},
     "output_type": "execute_result"
    },
    {
     "data": {
      "image/png": "[encoded data removed]",
      "text/plain": [
       "<Figure size 432x288 with 1 Axes>"
      ]
     },
     "metadata": {
      "needs_background": "light"
     },
     "output_type": "display_data"
    }
   ],
   "source": [
    "witB=time_dep_surface(t,wi0,wi8,mobile,taui,lngi_fun=None)\n",
    "wt=Diffusion_MS(t,L,Dvec,wi0,wi8,Mi,mobile,swelling=True,witB=witB)\n",
    "fig,ax=plt.subplots()\n",
    "ax.plot(t/60,wt[:,0],'g',label=\"Ideal and wiB(t)\")\n",
    "plt.xlabel('t/min')\n",
    "plt.ylabel('$w_i$/-')"
   ]
  },
  {
   "cell_type": "code",
   "execution_count": 9,
   "id": "3eb1adeb",
   "metadata": {},
   "outputs": [],
   "source": [
    "Dvec=np.asarray([5E-9])\n",
    "# taui=np.asarray([35711.02587])\n",
    "taui=np.asarray([21711.02587])"
   ]
  },
  {
   "cell_type": "code",
   "execution_count": 10,
   "id": "938c5640",
   "metadata": {},
   "outputs": [],
   "source": [
    "witB=time_dep_surface(t,wi0,wi8,mobile,taui,lngi_fun=None)"
   ]
  },
  {
   "cell_type": "code",
   "execution_count": 11,
   "id": "573b4d43",
   "metadata": {},
   "outputs": [
    {
     "name": "stdout",
     "output_type": "stream",
     "text": [
      "------------- Start diffusion modeling ----------------\n",
      "------------- Diffusion modeling took 0.5430008 seconds ----------------\n",
      "------------- Start diffusion modeling ----------------\n",
      "------------- Diffusion modeling took 0.2860044 seconds ----------------\n",
      "iter 0: ||F|| = 0.00966609, sigma = 1\n",
      "------------- Start diffusion modeling ----------------\n",
      "------------- Diffusion modeling took 0.3359648 seconds ----------------\n",
      "iter 1: ||F|| = 0.00965286, sigma = 729.075\n",
      "------------- Start diffusion modeling ----------------\n",
      "------------- Diffusion modeling took 2.8540021 seconds ----------------\n",
      "------------- Start diffusion modeling ----------------\n",
      "------------- Diffusion modeling took 0.4249995 seconds ----------------\n",
      "------------- Start diffusion modeling ----------------\n",
      "------------- Diffusion modeling took 0.2420059 seconds ----------------\n",
      "iter 2: ||F|| = 0.00882005, sigma = 694.167\n",
      "------------- Start diffusion modeling ----------------\n",
      "------------- Diffusion modeling took 2.4650051 seconds ----------------\n",
      "------------- Start diffusion modeling ----------------\n",
      "------------- Diffusion modeling took 0.3109639 seconds ----------------\n",
      "------------- Start diffusion modeling ----------------\n",
      "------------- Diffusion modeling took 0.2850016 seconds ----------------\n",
      "iter 3: ||F|| = 0.00818908, sigma = 772.293\n",
      "------------- Start diffusion modeling ----------------\n",
      "------------- Diffusion modeling took 2.9529979 seconds ----------------\n",
      "------------- Start diffusion modeling ----------------\n",
      "------------- Diffusion modeling took 0.3480393 seconds ----------------\n",
      "------------- Start diffusion modeling ----------------\n",
      "------------- Diffusion modeling took 0.2410041 seconds ----------------\n",
      "iter 4: ||F|| = 0.0076323, sigma = 844.372\n",
      "------------- Start diffusion modeling ----------------\n",
      "------------- Diffusion modeling took 2.3909999 seconds ----------------\n",
      "------------- Start diffusion modeling ----------------\n",
      "------------- Diffusion modeling took 0.349005 seconds ----------------\n",
      "------------- Start diffusion modeling ----------------\n",
      "------------- Diffusion modeling took 0.2240006 seconds ----------------\n",
      "iter 5: ||F|| = 0.00714653, sigma = 925.67\n",
      "------------- Start diffusion modeling ----------------\n",
      "------------- Diffusion modeling took 2.7683366 seconds ----------------\n",
      "------------- Start diffusion modeling ----------------\n",
      "------------- Diffusion modeling took 0.4129992 seconds ----------------\n",
      "------------- Start diffusion modeling ----------------\n",
      "------------- Diffusion modeling took 0.2529998 seconds ----------------\n",
      "iter 6: ||F|| = 0.00671199, sigma = 999.479\n",
      "------------- Start diffusion modeling ----------------\n",
      "------------- Diffusion modeling took 2.3859996 seconds ----------------\n",
      "------------- Start diffusion modeling ----------------\n",
      "------------- Diffusion modeling took 0.3629991 seconds ----------------\n",
      "------------- Start diffusion modeling ----------------\n",
      "------------- Diffusion modeling took 0.2499984 seconds ----------------\n",
      "iter 7: ||F|| = 0.00631147, sigma = 1056.37\n",
      "------------- Start diffusion modeling ----------------\n",
      "------------- Diffusion modeling took 2.4295292 seconds ----------------\n",
      "------------- Start diffusion modeling ----------------\n",
      "------------- Diffusion modeling took 0.3760023 seconds ----------------\n",
      "------------- Start diffusion modeling ----------------\n",
      "------------- Diffusion modeling took 0.254045 seconds ----------------\n",
      "iter 8: ||F|| = 0.00592854, sigma = 1090.21\n",
      "------------- Start diffusion modeling ----------------\n",
      "------------- Diffusion modeling took 2.4900378 seconds ----------------\n",
      "------------- Start diffusion modeling ----------------\n",
      "------------- Diffusion modeling took 0.378001 seconds ----------------\n",
      "------------- Start diffusion modeling ----------------\n",
      "------------- Diffusion modeling took 0.237995 seconds ----------------\n",
      "iter 9: ||F|| = 0.00555188, sigma = 1102.78\n",
      "------------- Start diffusion modeling ----------------\n",
      "------------- Diffusion modeling took 2.4370407 seconds ----------------\n",
      "------------- Start diffusion modeling ----------------\n",
      "------------- Diffusion modeling took 0.3529932 seconds ----------------\n",
      "------------- Start diffusion modeling ----------------\n",
      "------------- Diffusion modeling took 0.253005 seconds ----------------\n",
      "iter 10: ||F|| = 0.00517759, sigma = 1100.84\n",
      "------------- Start diffusion modeling ----------------\n",
      "------------- Diffusion modeling took 2.7260391 seconds ----------------\n"
     ]
    },
    {
     "data": {
      "text/plain": [
       "<matplotlib.legend.Legend at 0x26eae52ee20>"
      ]
     },
     "execution_count": 11,
     "metadata": {},
     "output_type": "execute_result"
    },
    {
     "data": {
      "image/png": "[encoded data removed]",
      "text/plain": [
       "<Figure size 432x288 with 1 Axes>"
      ]
     },
     "metadata": {
      "needs_background": "light"
     },
     "output_type": "display_data"
    }
   ],
   "source": [
    "wt=Diffusion_MS_iter(t,L,Dvec,wi0,wi8,Mi,mobile,swelling=True,witB=witB,dlnai_dlnwi_fun=dlnai_dlnwi_fun)\n",
    "ax.plot(t/60,witB[:,0],\"bo\")\n",
    "ax.plot(t/60,wt[:,0],'b',label=\"Non-ideal and wiB(t)\")\n",
    "plt.legend(\"\")"
   ]
  },
  {
   "cell_type": "code",
   "execution_count": 12,
   "id": "04e51008",
   "metadata": {},
   "outputs": [],
   "source": [
    "ax.plot(texp/60,ww_exp,\"gD\")\n",
    "ARDwiB=np.sum(np.abs(1-np.interp(texp,t,wt[:,0])/ww_exp))"
   ]
  },
  {
   "cell_type": "code",
   "execution_count": 13,
   "id": "8ac467d1",
   "metadata": {},
   "outputs": [
    {
     "name": "stdout",
     "output_type": "stream",
     "text": [
      "------------- Start diffusion modeling ----------------\n",
      "------------- Diffusion modeling took 0.2390045 seconds ----------------\n",
      "------------- Start diffusion modeling ----------------\n",
      "------------- Diffusion modeling took 0.2489494 seconds ----------------\n",
      "iter 0: ||F|| = 0.00960458, sigma = 1\n",
      "------------- Start diffusion modeling ----------------\n",
      "------------- Diffusion modeling took 0.2429997 seconds ----------------\n",
      "iter 1: ||F|| = 0.00959133, sigma = 723.621\n",
      "------------- Start diffusion modeling ----------------\n",
      "------------- Diffusion modeling took 2.5600425 seconds ----------------\n",
      "------------- Start diffusion modeling ----------------\n",
      "------------- Diffusion modeling took 0.3680482 seconds ----------------\n",
      "------------- Start diffusion modeling ----------------\n",
      "------------- Diffusion modeling took 0.2439993 seconds ----------------\n",
      "iter 2: ||F|| = 0.00874592, sigma = 682.966\n",
      "------------- Start diffusion modeling ----------------\n",
      "------------- Diffusion modeling took 2.4780058 seconds ----------------\n",
      "------------- Start diffusion modeling ----------------\n",
      "------------- Diffusion modeling took 0.3590317 seconds ----------------\n",
      "------------- Start diffusion modeling ----------------\n",
      "------------- Diffusion modeling took 0.2450427 seconds ----------------\n",
      "iter 3: ||F|| = 0.00809878, sigma = 752.066\n",
      "------------- Start diffusion modeling ----------------\n",
      "------------- Diffusion modeling took 2.5629943 seconds ----------------\n",
      "------------- Start diffusion modeling ----------------\n",
      "------------- Diffusion modeling took 0.3970403 seconds ----------------\n",
      "------------- Start diffusion modeling ----------------\n",
      "------------- Diffusion modeling took 0.2470412 seconds ----------------\n",
      "iter 4: ||F|| = 0.00752282, sigma = 816.744\n",
      "------------- Start diffusion modeling ----------------\n",
      "------------- Diffusion modeling took 2.6679954 seconds ----------------\n",
      "------------- Start diffusion modeling ----------------\n",
      "------------- Diffusion modeling took 0.3750398 seconds ----------------\n",
      "------------- Start diffusion modeling ----------------\n",
      "------------- Diffusion modeling took 0.2499994 seconds ----------------\n",
      "iter 5: ||F|| = 0.00701688, sigma = 891.711\n",
      "------------- Start diffusion modeling ----------------\n",
      "------------- Diffusion modeling took 2.5400395 seconds ----------------\n",
      "------------- Start diffusion modeling ----------------\n",
      "------------- Diffusion modeling took 0.3470006 seconds ----------------\n",
      "------------- Start diffusion modeling ----------------\n",
      "------------- Diffusion modeling took 0.2410417 seconds ----------------\n",
      "iter 6: ||F|| = 0.0065638, sigma = 963.719\n",
      "------------- Start diffusion modeling ----------------\n",
      "------------- Diffusion modeling took 2.6070384 seconds ----------------\n",
      "------------- Start diffusion modeling ----------------\n",
      "------------- Diffusion modeling took 0.3660404 seconds ----------------\n",
      "------------- Start diffusion modeling ----------------\n",
      "------------- Diffusion modeling took 0.2390408 seconds ----------------\n",
      "iter 7: ||F|| = 0.00614838, sigma = 1023.12\n",
      "------------- Start diffusion modeling ----------------\n",
      "------------- Diffusion modeling took 2.5140412 seconds ----------------\n",
      "------------- Start diffusion modeling ----------------\n",
      "------------- Diffusion modeling took 0.3609598 seconds ----------------\n",
      "------------- Start diffusion modeling ----------------\n",
      "------------- Diffusion modeling took 0.2670047 seconds ----------------\n",
      "iter 8: ||F|| = 0.00575585, sigma = 1062.74\n",
      "------------- Start diffusion modeling ----------------\n",
      "------------- Diffusion modeling took 2.6210055 seconds ----------------\n",
      "------------- Start diffusion modeling ----------------\n",
      "------------- Diffusion modeling took 0.3690051 seconds ----------------\n",
      "------------- Start diffusion modeling ----------------\n",
      "------------- Diffusion modeling took 0.245032 seconds ----------------\n",
      "iter 9: ||F|| = 0.00537479, sigma = 1080.81\n",
      "------------- Start diffusion modeling ----------------\n",
      "------------- Diffusion modeling took 2.5160039 seconds ----------------\n",
      "------------- Start diffusion modeling ----------------\n",
      "------------- Diffusion modeling took 0.4729948 seconds ----------------\n",
      "------------- Start diffusion modeling ----------------\n",
      "------------- Diffusion modeling took 0.3290051 seconds ----------------\n",
      "iter 10: ||F|| = 0.00499996, sigma = 1082.26\n",
      "------------- Start diffusion modeling ----------------\n",
      "------------- Diffusion modeling took 2.6600059 seconds ----------------\n"
     ]
    },
    {
     "data": {
      "text/plain": [
       "[<matplotlib.lines.Line2D at 0x26eae576130>]"
      ]
     },
     "execution_count": 13,
     "metadata": {},
     "output_type": "execute_result"
    }
   ],
   "source": [
    "# taui=np.asarray([85711.02587])\n",
    "taui=np.asarray([62711.02587])\n",
    "witB=time_dep_surface(t,wi0,wi8,mobile,taui,lngi_fun=lngi_fun)\n",
    "wt=Diffusion_MS_iter(t,L,Dvec,wi0,wi8,Mi,mobile,swelling=True,witB=witB,dlnai_dlnwi_fun=dlnai_dlnwi_fun)\n",
    "ax.plot(t/60,witB[:,0],\"ro\")\n",
    "ax.plot(t/60,wt[:,0],'r',label=\"Non-ideal and aiB(t)\")"
   ]
  },
  {
   "cell_type": "code",
   "execution_count": 14,
   "id": "745a8b91",
   "metadata": {},
   "outputs": [
    {
     "name": "stdout",
     "output_type": "stream",
     "text": [
      "1.213502195267907\n",
      "1.4103220593253147\n"
     ]
    }
   ],
   "source": [
    "ARDaiB=np.sum(np.abs(1-np.interp(texp,t,wt[:,0])/ww_exp))\n",
    "print(ARDwiB)\n",
    "print(ARDaiB)"
   ]
  },
  {
   "cell_type": "code",
   "execution_count": 15,
   "id": "64647661",
   "metadata": {},
   "outputs": [
    {
     "data": {
      "image/png": "[encoded data removed]",
      "text/plain": [
       "<Figure size 432x288 with 1 Axes>"
      ]
     },
     "execution_count": 15,
     "metadata": {},
     "output_type": "execute_result"
    }
   ],
   "source": [
    "fig"
   ]
  },
  {
   "cell_type": "code",
   "execution_count": 16,
   "id": "828dc78c",
   "metadata": {},
   "outputs": [],
   "source": [
    "plt.show()"
   ]
  }
 ],
 "metadata": {
  "jupytext": {
   "cell_metadata_filter": "-all",
   "main_language": "python",
   "notebook_metadata_filter": "-all"
  },
  "kernelspec": {
   "display_name": "Python 3",
   "language": "python",
   "name": "python3"
  },
  "language_info": {
   "codemirror_mode": {
    "name": "ipython",
    "version": 3
   },
   "file_extension": ".py",
   "mimetype": "text/x-python",
   "name": "python",
   "nbconvert_exporter": "python",
   "pygments_lexer": "ipython3",
   "version": "3.9.13"
  }
 },
 "nbformat": 4,
 "nbformat_minor": 5
}
