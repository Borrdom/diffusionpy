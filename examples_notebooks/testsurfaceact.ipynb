{
 "cells": [
  {
   "cell_type": "code",
   "execution_count": 1,
   "id": "419bed92",
   "metadata": {},
   "outputs": [],
   "source": [
    "import numpy as np\n",
    "from diffusionpy import Diffusion_MS_iter,D_Matrix,Diffusion_MS,vpure,lngi,dlnai_dlnxi,time_dep_surface\n",
    "import matplotlib.pyplot as plt"
   ]
  },
  {
   "cell_type": "code",
   "execution_count": 2,
   "id": "43c04a49",
   "metadata": {},
   "outputs": [],
   "source": [
    "nc=2\n",
    "L=0.016\n",
    "wi0=np.asarray([0.9,0.1])\n",
    "wi8=np.asarray([0.04,0.96])\n",
    "Mi=np.asarray([18.015,65000])"
   ]
  },
  {
   "cell_type": "code",
   "execution_count": 3,
   "id": "027f2d9c",
   "metadata": {},
   "outputs": [],
   "source": [
    "mobile=np.asarray([True,False])\n",
    "T=303.15\n",
    "p=1E5\n",
    "nt=300"
   ]
  },
  {
   "cell_type": "code",
   "execution_count": 4,
   "id": "1f32ae0c",
   "metadata": {
    "lines_to_next_cell": 2
   },
   "outputs": [],
   "source": [
    "# texp=np.asarray([ 0., 2790.,  4410.,  6570.,  9660., 11910., 15630., 17820., 22620., 27960.,32280., 36720., 41040., 97920.])\n",
    "texp=np.asarray([ 0, 3600,   7200,  11580,  15000,  17760,  19800,  24600,  28200,31800,  34200,  37800,  41460,  45240,  48600, 106800])\n",
    "# ww_exp=np.asarray([0.95,0.94981791, 0.94952408, 0.94898034, 0.94791589, 0.94813047,0.94697211, 0.94674376, 0.94614307, 0.94404476, 0.93323287,0.92318329, 0.90732405, 0.09724013])\n",
    "ww_exp=np.asarray([0.9,0.89299418, 0.88460461, 0.88365329, 0.866351 ,0.86052165 ,0.85309549 , 0.83375686, 0.80719971, 0.77584219, 0.75664025,0.71118538, 0.64861202, 0.56269132, 0.34671022, 0.03925336])\n",
    "t=np.linspace(0.,texp[-1],nt)"
   ]
  },
  {
   "cell_type": "code",
   "execution_count": 5,
   "id": "c19c5479",
   "metadata": {},
   "outputs": [],
   "source": [
    "kij=D_Matrix(np.asarray([-0.156]),nc)\n",
    "par={\"mi\":np.asarray([1.20469,2420.99]),\n",
    "\"si\": np.asarray([2.797059952,2.947]),\n",
    "\"ui\" :np.asarray([353.95,205.27]),\n",
    "\"eAi\" :np.asarray([2425.67,0.]),\n",
    "\"kAi\":np.asarray([0.04509,0.02]),\n",
    "\"NAi\":np.asarray([1.,653.]),\n",
    "\"Mi\": Mi,\n",
    "\"kij\":kij}"
   ]
  },
  {
   "cell_type": "code",
   "execution_count": 6,
   "id": "f2ffa76a",
   "metadata": {},
   "outputs": [],
   "source": [
    "vpures=vpure(p,T,**par)\n",
    "par[\"vpure\"]=vpures\n",
    "lngi_fun=lambda wi :lngi(T,wi,**par)\n",
    "dlnai_dlnwi_fun=lambda wi: dlnai_dlnxi(T,wi,**par)"
   ]
  },
  {
   "cell_type": "code",
   "execution_count": null,
   "id": "cb3cd8f9",
   "metadata": {},
   "outputs": [],
   "source": []
  },
  {
   "cell_type": "code",
   "execution_count": 7,
   "id": "78fca2ee",
   "metadata": {},
   "outputs": [],
   "source": [
    "Dvec=np.asarray([5.6E-10])\n",
    "taui=np.asarray([21711.02587])"
   ]
  },
  {
   "cell_type": "code",
   "execution_count": 8,
   "id": "d5313e3e",
   "metadata": {
    "lines_to_next_cell": 2
   },
   "outputs": [
    {
     "name": "stdout",
     "output_type": "stream",
     "text": [
      "------------- Start diffusion modeling ----------------\n"
     ]
    },
    {
     "name": "stdout",
     "output_type": "stream",
     "text": [
      "------------- Diffusion modeling took 0.2813873 seconds ----------------\n"
     ]
    },
    {
     "data": {
      "text/plain": [
       "Text(0, 0.5, '$w_i$/-')"
      ]
     },
     "execution_count": 8,
     "metadata": {},
     "output_type": "execute_result"
    },
    {
     "data": {
      "image/png": "[encoded data removed]",
      "text/plain": [
       "<Figure size 432x288 with 1 Axes>"
      ]
     },
     "metadata": {
      "needs_background": "light"
     },
     "output_type": "display_data"
    }
   ],
   "source": [
    "witB=time_dep_surface(t,wi0,wi8,mobile,taui,lngi_fun=None)\n",
    "wt=Diffusion_MS(t,L,Dvec,wi0,wi8,Mi,mobile,swelling=True,witB=witB)\n",
    "fig,ax=plt.subplots()\n",
    "ax.plot(t/60,wt[:,0],'g',label=\"Ideal and wiB(t)\")\n",
    "plt.xlabel('t/min')\n",
    "plt.ylabel('$w_i$/-')"
   ]
  },
  {
   "cell_type": "code",
   "execution_count": 9,
   "id": "3eb1adeb",
   "metadata": {},
   "outputs": [],
   "source": [
    "Dvec=np.asarray([5E-9])\n",
    "# taui=np.asarray([35711.02587])\n",
    "taui=np.asarray([21711.02587])"
   ]
  },
  {
   "cell_type": "code",
   "execution_count": 10,
   "id": "938c5640",
   "metadata": {},
   "outputs": [],
   "source": [
    "witB=time_dep_surface(t,wi0,wi8,mobile,taui,lngi_fun=None)"
   ]
  },
  {
   "cell_type": "code",
   "execution_count": 11,
   "id": "573b4d43",
   "metadata": {},
   "outputs": [
    {
     "name": "stdout",
     "output_type": "stream",
     "text": [
      "------------- Start diffusion modeling ----------------\n",
      "------------- Diffusion modeling took 0.3054936 seconds ----------------\n",
      "------------- Start diffusion modeling ----------------\n",
      "------------- Diffusion modeling took 0.2827736 seconds ----------------\n",
      "iter 0: ||F|| = 0.00971354, sigma = 1\n",
      "------------- Start diffusion modeling ----------------\n",
      "------------- Diffusion modeling took 0.3056788 seconds ----------------\n",
      "iter 1: ||F|| = 0.00970021, sigma = 727.477\n",
      "------------- Start diffusion modeling ----------------\n",
      "------------- Diffusion modeling took 2.3436172 seconds ----------------\n",
      "------------- Start diffusion modeling ----------------\n",
      "------------- Diffusion modeling took 0.3448111 seconds ----------------\n",
      "------------- Start diffusion modeling ----------------\n",
      "------------- Diffusion modeling took 0.2539224 seconds ----------------\n",
      "iter 2: ||F|| = 0.00886954, sigma = 696.193\n",
      "------------- Start diffusion modeling ----------------\n",
      "------------- Diffusion modeling took 2.0488468 seconds ----------------\n",
      "------------- Start diffusion modeling ----------------\n",
      "------------- Diffusion modeling took 0.3813396 seconds ----------------\n",
      "------------- Start diffusion modeling ----------------\n",
      "------------- Diffusion modeling took 0.2452083 seconds ----------------\n",
      "iter 3: ||F|| = 0.00823855, sigma = 774.957\n",
      "------------- Start diffusion modeling ----------------\n",
      "------------- Diffusion modeling took 2.2904058 seconds ----------------\n",
      "------------- Start diffusion modeling ----------------\n",
      "------------- Diffusion modeling took 0.4063573 seconds ----------------\n",
      "------------- Start diffusion modeling ----------------\n",
      "------------- Diffusion modeling took 0.2551989 seconds ----------------\n",
      "iter 4: ||F|| = 0.00768365, sigma = 848.565\n",
      "------------- Start diffusion modeling ----------------\n",
      "------------- Diffusion modeling took 2.177033 seconds ----------------\n",
      "------------- Start diffusion modeling ----------------\n",
      "------------- Diffusion modeling took 0.3707212 seconds ----------------\n",
      "------------- Start diffusion modeling ----------------\n",
      "------------- Diffusion modeling took 0.2551836 seconds ----------------\n",
      "iter 5: ||F|| = 0.00720064, sigma = 931.212\n",
      "------------- Start diffusion modeling ----------------\n",
      "------------- Diffusion modeling took 2.4927885 seconds ----------------\n",
      "------------- Start diffusion modeling ----------------\n",
      "------------- Diffusion modeling took 0.3912773 seconds ----------------\n",
      "------------- Start diffusion modeling ----------------\n",
      "------------- Diffusion modeling took 0.2845098 seconds ----------------\n",
      "iter 6: ||F|| = 0.00676966, sigma = 1006.12\n",
      "------------- Start diffusion modeling ----------------\n",
      "------------- Diffusion modeling took 2.2648968 seconds ----------------\n",
      "------------- Start diffusion modeling ----------------\n",
      "------------- Diffusion modeling took 0.3688147 seconds ----------------\n",
      "------------- Start diffusion modeling ----------------\n",
      "------------- Diffusion modeling took 0.2457112 seconds ----------------\n",
      "iter 7: ||F|| = 0.00637247, sigma = 1062.76\n",
      "------------- Start diffusion modeling ----------------\n",
      "------------- Diffusion modeling took 2.2064123 seconds ----------------\n",
      "------------- Start diffusion modeling ----------------\n",
      "------------- Diffusion modeling took 0.3691747 seconds ----------------\n",
      "------------- Start diffusion modeling ----------------\n",
      "------------- Diffusion modeling took 0.2640019 seconds ----------------\n",
      "iter 8: ||F|| = 0.00599225, sigma = 1096.13\n",
      "------------- Start diffusion modeling ----------------\n",
      "------------- Diffusion modeling took 2.1422016 seconds ----------------\n",
      "------------- Start diffusion modeling ----------------\n",
      "------------- Diffusion modeling took 0.4168315 seconds ----------------\n",
      "------------- Start diffusion modeling ----------------\n",
      "------------- Diffusion modeling took 0.2715996 seconds ----------------\n",
      "iter 9: ||F|| = 0.00561721, sigma = 1108.09\n",
      "------------- Start diffusion modeling ----------------\n",
      "------------- Diffusion modeling took 2.2036797 seconds ----------------\n",
      "------------- Start diffusion modeling ----------------\n",
      "------------- Diffusion modeling took 0.3607478 seconds ----------------\n",
      "------------- Start diffusion modeling ----------------\n",
      "------------- Diffusion modeling took 0.257901 seconds ----------------\n",
      "iter 10: ||F|| = 0.00524294, sigma = 1104.86\n",
      "------------- Start diffusion modeling ----------------\n",
      "------------- Diffusion modeling took 2.3393407 seconds ----------------\n"
     ]
    },
    {
     "data": {
      "text/plain": [
       "<matplotlib.legend.Legend at 0x1aa34441d60>"
      ]
     },
     "execution_count": 11,
     "metadata": {},
     "output_type": "execute_result"
    },
    {
     "data": {
      "image/png": "[encoded data removed]",
      "text/plain": [
       "<Figure size 432x288 with 1 Axes>"
      ]
     },
     "metadata": {
      "needs_background": "light"
     },
     "output_type": "display_data"
    }
   ],
   "source": [
    "wt=Diffusion_MS_iter(t,L,Dvec,wi0,wi8,Mi,mobile,swelling=True,witB=witB,dlnai_dlnwi_fun=dlnai_dlnwi_fun)\n",
    "ax.plot(t/60,witB[:,0],\"bo\")\n",
    "ax.plot(t/60,wt[:,0],'b',label=\"Non-ideal and wiB(t)\")\n",
    "plt.legend(\"\")"
   ]
  },
  {
   "cell_type": "code",
   "execution_count": 12,
   "id": "04e51008",
   "metadata": {},
   "outputs": [],
   "source": [
    "ax.plot(texp/60,ww_exp,\"gD\")\n",
    "ARDwiB=np.sum(np.abs(1-np.interp(texp,t,wt[:,0])/ww_exp))"
   ]
  },
  {
   "cell_type": "code",
   "execution_count": 13,
   "id": "8ac467d1",
   "metadata": {},
   "outputs": [
    {
     "name": "stdout",
     "output_type": "stream",
     "text": [
      "------------- Start diffusion modeling ----------------\n",
      "------------- Diffusion modeling took 0.2141084 seconds ----------------\n",
      "------------- Start diffusion modeling ----------------\n",
      "------------- Diffusion modeling took 0.2595452 seconds ----------------\n",
      "iter 0: ||F|| = 0.00964245, sigma = 1\n",
      "------------- Start diffusion modeling ----------------\n",
      "------------- Diffusion modeling took 0.2512359 seconds ----------------\n",
      "iter 1: ||F|| = 0.00962916, sigma = 724.023\n",
      "------------- Start diffusion modeling ----------------\n",
      "------------- Diffusion modeling took 2.456311 seconds ----------------\n",
      "------------- Start diffusion modeling ----------------\n",
      "------------- Diffusion modeling took 0.4564276 seconds ----------------\n",
      "------------- Start diffusion modeling ----------------\n",
      "------------- Diffusion modeling took 0.3607859 seconds ----------------\n",
      "iter 2: ||F|| = 0.00878263, sigma = 683.825\n",
      "------------- Start diffusion modeling ----------------\n",
      "------------- Diffusion modeling took 2.2203391 seconds ----------------\n",
      "------------- Start diffusion modeling ----------------\n",
      "------------- Diffusion modeling took 0.3958254 seconds ----------------\n",
      "------------- Start diffusion modeling ----------------\n",
      "------------- Diffusion modeling took 0.2567151 seconds ----------------\n",
      "iter 3: ||F|| = 0.00813512, sigma = 753.627\n",
      "------------- Start diffusion modeling ----------------\n",
      "------------- Diffusion modeling took 2.5734735 seconds ----------------\n",
      "------------- Start diffusion modeling ----------------\n",
      "------------- Diffusion modeling took 0.4443252 seconds ----------------\n",
      "------------- Start diffusion modeling ----------------\n",
      "------------- Diffusion modeling took 0.2622915 seconds ----------------\n",
      "iter 4: ||F|| = 0.00755958, sigma = 819.12\n",
      "------------- Start diffusion modeling ----------------\n",
      "------------- Diffusion modeling took 2.2456801 seconds ----------------\n",
      "------------- Start diffusion modeling ----------------\n",
      "------------- Diffusion modeling took 0.3632665 seconds ----------------\n",
      "------------- Start diffusion modeling ----------------\n",
      "------------- Diffusion modeling took 0.2580636 seconds ----------------\n",
      "iter 5: ||F|| = 0.00705435, sigma = 894.611\n",
      "------------- Start diffusion modeling ----------------\n",
      "------------- Diffusion modeling took 2.4196115 seconds ----------------\n",
      "------------- Start diffusion modeling ----------------\n",
      "------------- Diffusion modeling took 0.3803943 seconds ----------------\n",
      "------------- Start diffusion modeling ----------------\n",
      "------------- Diffusion modeling took 0.2535956 seconds ----------------\n",
      "iter 6: ||F|| = 0.00660251, sigma = 967.256\n",
      "------------- Start diffusion modeling ----------------\n",
      "------------- Diffusion modeling took 2.3961648 seconds ----------------\n",
      "------------- Start diffusion modeling ----------------\n",
      "------------- Diffusion modeling took 0.3493069 seconds ----------------\n",
      "------------- Start diffusion modeling ----------------\n",
      "------------- Diffusion modeling took 0.2492676 seconds ----------------\n",
      "iter 7: ||F|| = 0.0061884, sigma = 1026.94\n",
      "------------- Start diffusion modeling ----------------\n",
      "------------- Diffusion modeling took 2.2527394 seconds ----------------\n",
      "------------- Start diffusion modeling ----------------\n",
      "------------- Diffusion modeling took 0.4012895 seconds ----------------\n",
      "------------- Start diffusion modeling ----------------\n",
      "------------- Diffusion modeling took 0.2677715 seconds ----------------\n",
      "iter 8: ||F|| = 0.00579713, sigma = 1066.45\n",
      "------------- Start diffusion modeling ----------------\n",
      "------------- Diffusion modeling took 2.3482653 seconds ----------------\n",
      "------------- Start diffusion modeling ----------------\n",
      "------------- Diffusion modeling took 0.3953238 seconds ----------------\n",
      "------------- Start diffusion modeling ----------------\n",
      "------------- Diffusion modeling took 0.2858491 seconds ----------------\n",
      "iter 9: ||F|| = 0.00541652, sigma = 1083.92\n",
      "------------- Start diffusion modeling ----------------\n",
      "------------- Diffusion modeling took 2.731844 seconds ----------------\n",
      "------------- Start diffusion modeling ----------------\n",
      "------------- Diffusion modeling took 0.434065 seconds ----------------\n",
      "------------- Start diffusion modeling ----------------\n",
      "------------- Diffusion modeling took 0.3067986 seconds ----------------\n",
      "iter 10: ||F|| = 0.00504138, sigma = 1084.69\n",
      "------------- Start diffusion modeling ----------------\n",
      "------------- Diffusion modeling took 2.7779329 seconds ----------------\n"
     ]
    },
    {
     "data": {
      "text/plain": [
       "[<matplotlib.lines.Line2D at 0x1aa34472fa0>]"
      ]
     },
     "execution_count": 13,
     "metadata": {},
     "output_type": "execute_result"
    }
   ],
   "source": [
    "# taui=np.asarray([85711.02587])\n",
    "taui=np.asarray([62711.02587])\n",
    "witB=time_dep_surface(t,wi0,wi8,mobile,taui,lngi_fun=lngi_fun)\n",
    "wt=Diffusion_MS_iter(t,L,Dvec,wi0,wi8,Mi,mobile,swelling=True,witB=witB,dlnai_dlnwi_fun=dlnai_dlnwi_fun)\n",
    "ax.plot(t/60,witB[:,0],\"ro\")\n",
    "ax.plot(t/60,wt[:,0],'r',label=\"Non-ideal and aiB(t)\")"
   ]
  },
  {
   "cell_type": "code",
   "execution_count": 14,
   "id": "745a8b91",
   "metadata": {},
   "outputs": [
    {
     "name": "stdout",
     "output_type": "stream",
     "text": [
      "1.2766971987405884\n",
      "1.4673432136643902\n"
     ]
    }
   ],
   "source": [
    "ARDaiB=np.sum(np.abs(1-np.interp(texp,t,wt[:,0])/ww_exp))\n",
    "print(ARDwiB)\n",
    "print(ARDaiB)"
   ]
  },
  {
   "cell_type": "code",
   "execution_count": 15,
   "id": "64647661",
   "metadata": {},
   "outputs": [
    {
     "data": {
      "image/png": "[encoded data removed]",
      "text/plain": [
       "<Figure size 432x288 with 1 Axes>"
      ]
     },
     "execution_count": 15,
     "metadata": {},
     "output_type": "execute_result"
    }
   ],
   "source": [
    "fig"
   ]
  },
  {
   "cell_type": "code",
   "execution_count": 16,
   "id": "828dc78c",
   "metadata": {},
   "outputs": [],
   "source": [
    "plt.show()"
   ]
  }
 ],
 "metadata": {
  "jupytext": {
   "cell_metadata_filter": "-all",
   "main_language": "python",
   "notebook_metadata_filter": "-all"
  },
  "kernelspec": {
   "display_name": "Python 3",
   "language": "python",
   "name": "python3"
  },
  "language_info": {
   "codemirror_mode": {
    "name": "ipython",
    "version": 3
   },
   "file_extension": ".py",
   "mimetype": "text/x-python",
   "name": "python",
   "nbconvert_exporter": "python",
   "pygments_lexer": "ipython3",
   "version": "3.9.13"
  }
 },
 "nbformat": 4,
 "nbformat_minor": 5
}
